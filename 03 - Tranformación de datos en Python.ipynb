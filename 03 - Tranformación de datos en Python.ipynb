{
 "cells": [
  {
   "cell_type": "code",
   "execution_count": 1,
   "metadata": {},
   "outputs": [],
   "source": [
    "import pandas as pd\n",
    "import numpy as np\n",
    "import os"
   ]
  },
  {
   "cell_type": "code",
   "execution_count": 2,
   "metadata": {},
   "outputs": [
    {
     "data": {
      "text/plain": [
       "'C:\\\\Users\\\\ydmar\\\\OneDrive\\\\Documentos\\\\CurosCienciasDatos\\\\01 - Mineria de datos'"
      ]
     },
     "execution_count": 2,
     "metadata": {},
     "output_type": "execute_result"
    }
   ],
   "source": [
    "#Conocer el directorio de trabajo\n",
    "os.getcwd()"
   ]
  },
  {
   "cell_type": "code",
   "execution_count": 3,
   "metadata": {},
   "outputs": [],
   "source": [
    "# Cambiar directorio de trabajo\n",
    "os.chdir('BasesDatos/datosSucios/')"
   ]
  },
  {
   "cell_type": "markdown",
   "metadata": {},
   "source": [
    "# Introducción a pandas"
   ]
  },
  {
   "cell_type": "markdown",
   "metadata": {},
   "source": [
    "### Contrucción base de datos de prueba"
   ]
  },
  {
   "cell_type": "code",
   "execution_count": 4,
   "metadata": {},
   "outputs": [],
   "source": [
    "df_estudiantes = {\n",
    "    'id_estudiente':list(range(1, 11)),\n",
    "    'materia':['matematica', 'español', 'español', 'español',\n",
    "               'ciencias', 'matematica', 'matematica', 'español',\n",
    "               'ciencias', 'sociales'],\n",
    "    'nota':[3.5, 4.5, 4, 2.5, 2.8, 3.9, 5, 4.3, 3.2, 4.1]\n",
    "}"
   ]
  },
  {
   "cell_type": "code",
   "execution_count": 5,
   "metadata": {},
   "outputs": [],
   "source": [
    "df_estudiantes = pd.DataFrame(df_estudiantes)"
   ]
  },
  {
   "cell_type": "code",
   "execution_count": 6,
   "metadata": {
    "scrolled": false
   },
   "outputs": [
    {
     "data": {
      "text/html": [
       "<div>\n",
       "<style scoped>\n",
       "    .dataframe tbody tr th:only-of-type {\n",
       "        vertical-align: middle;\n",
       "    }\n",
       "\n",
       "    .dataframe tbody tr th {\n",
       "        vertical-align: top;\n",
       "    }\n",
       "\n",
       "    .dataframe thead th {\n",
       "        text-align: right;\n",
       "    }\n",
       "</style>\n",
       "<table border=\"1\" class=\"dataframe\">\n",
       "  <thead>\n",
       "    <tr style=\"text-align: right;\">\n",
       "      <th></th>\n",
       "      <th>id_estudiente</th>\n",
       "      <th>materia</th>\n",
       "      <th>nota</th>\n",
       "    </tr>\n",
       "  </thead>\n",
       "  <tbody>\n",
       "    <tr>\n",
       "      <th>0</th>\n",
       "      <td>1</td>\n",
       "      <td>matematica</td>\n",
       "      <td>3.5</td>\n",
       "    </tr>\n",
       "    <tr>\n",
       "      <th>1</th>\n",
       "      <td>2</td>\n",
       "      <td>español</td>\n",
       "      <td>4.5</td>\n",
       "    </tr>\n",
       "    <tr>\n",
       "      <th>2</th>\n",
       "      <td>3</td>\n",
       "      <td>español</td>\n",
       "      <td>4.0</td>\n",
       "    </tr>\n",
       "    <tr>\n",
       "      <th>3</th>\n",
       "      <td>4</td>\n",
       "      <td>español</td>\n",
       "      <td>2.5</td>\n",
       "    </tr>\n",
       "    <tr>\n",
       "      <th>4</th>\n",
       "      <td>5</td>\n",
       "      <td>ciencias</td>\n",
       "      <td>2.8</td>\n",
       "    </tr>\n",
       "    <tr>\n",
       "      <th>5</th>\n",
       "      <td>6</td>\n",
       "      <td>matematica</td>\n",
       "      <td>3.9</td>\n",
       "    </tr>\n",
       "    <tr>\n",
       "      <th>6</th>\n",
       "      <td>7</td>\n",
       "      <td>matematica</td>\n",
       "      <td>5.0</td>\n",
       "    </tr>\n",
       "    <tr>\n",
       "      <th>7</th>\n",
       "      <td>8</td>\n",
       "      <td>español</td>\n",
       "      <td>4.3</td>\n",
       "    </tr>\n",
       "    <tr>\n",
       "      <th>8</th>\n",
       "      <td>9</td>\n",
       "      <td>ciencias</td>\n",
       "      <td>3.2</td>\n",
       "    </tr>\n",
       "    <tr>\n",
       "      <th>9</th>\n",
       "      <td>10</td>\n",
       "      <td>sociales</td>\n",
       "      <td>4.1</td>\n",
       "    </tr>\n",
       "  </tbody>\n",
       "</table>\n",
       "</div>"
      ],
      "text/plain": [
       "   id_estudiente     materia  nota\n",
       "0              1  matematica   3.5\n",
       "1              2     español   4.5\n",
       "2              3     español   4.0\n",
       "3              4     español   2.5\n",
       "4              5    ciencias   2.8\n",
       "5              6  matematica   3.9\n",
       "6              7  matematica   5.0\n",
       "7              8     español   4.3\n",
       "8              9    ciencias   3.2\n",
       "9             10    sociales   4.1"
      ]
     },
     "execution_count": 6,
     "metadata": {},
     "output_type": "execute_result"
    }
   ],
   "source": [
    "df_estudiantes"
   ]
  },
  {
   "cell_type": "code",
   "execution_count": null,
   "metadata": {},
   "outputs": [],
   "source": [
    "dtypes,shape head"
   ]
  },
  {
   "cell_type": "markdown",
   "metadata": {},
   "source": [
    "### Seleccionar columnas de la base de datos"
   ]
  },
  {
   "cell_type": "code",
   "execution_count": 7,
   "metadata": {
    "scrolled": true
   },
   "outputs": [
    {
     "data": {
      "text/html": [
       "<div>\n",
       "<style scoped>\n",
       "    .dataframe tbody tr th:only-of-type {\n",
       "        vertical-align: middle;\n",
       "    }\n",
       "\n",
       "    .dataframe tbody tr th {\n",
       "        vertical-align: top;\n",
       "    }\n",
       "\n",
       "    .dataframe thead th {\n",
       "        text-align: right;\n",
       "    }\n",
       "</style>\n",
       "<table border=\"1\" class=\"dataframe\">\n",
       "  <thead>\n",
       "    <tr style=\"text-align: right;\">\n",
       "      <th></th>\n",
       "      <th>materia</th>\n",
       "      <th>nota</th>\n",
       "    </tr>\n",
       "  </thead>\n",
       "  <tbody>\n",
       "    <tr>\n",
       "      <th>0</th>\n",
       "      <td>matematica</td>\n",
       "      <td>3.5</td>\n",
       "    </tr>\n",
       "    <tr>\n",
       "      <th>1</th>\n",
       "      <td>español</td>\n",
       "      <td>4.5</td>\n",
       "    </tr>\n",
       "    <tr>\n",
       "      <th>2</th>\n",
       "      <td>español</td>\n",
       "      <td>4.0</td>\n",
       "    </tr>\n",
       "    <tr>\n",
       "      <th>3</th>\n",
       "      <td>español</td>\n",
       "      <td>2.5</td>\n",
       "    </tr>\n",
       "    <tr>\n",
       "      <th>4</th>\n",
       "      <td>ciencias</td>\n",
       "      <td>2.8</td>\n",
       "    </tr>\n",
       "  </tbody>\n",
       "</table>\n",
       "</div>"
      ],
      "text/plain": [
       "      materia  nota\n",
       "0  matematica   3.5\n",
       "1     español   4.5\n",
       "2     español   4.0\n",
       "3     español   2.5\n",
       "4    ciencias   2.8"
      ]
     },
     "execution_count": 7,
     "metadata": {},
     "output_type": "execute_result"
    }
   ],
   "source": [
    "# Selección columnas materia y nota\n",
    "df_estudiantes[['materia', 'nota']].head()"
   ]
  },
  {
   "cell_type": "code",
   "execution_count": 8,
   "metadata": {
    "scrolled": true
   },
   "outputs": [
    {
     "data": {
      "text/html": [
       "<div>\n",
       "<style scoped>\n",
       "    .dataframe tbody tr th:only-of-type {\n",
       "        vertical-align: middle;\n",
       "    }\n",
       "\n",
       "    .dataframe tbody tr th {\n",
       "        vertical-align: top;\n",
       "    }\n",
       "\n",
       "    .dataframe thead th {\n",
       "        text-align: right;\n",
       "    }\n",
       "</style>\n",
       "<table border=\"1\" class=\"dataframe\">\n",
       "  <thead>\n",
       "    <tr style=\"text-align: right;\">\n",
       "      <th></th>\n",
       "      <th>id_estudiente</th>\n",
       "      <th>materia</th>\n",
       "      <th>nota</th>\n",
       "    </tr>\n",
       "  </thead>\n",
       "  <tbody>\n",
       "    <tr>\n",
       "      <th>1</th>\n",
       "      <td>2</td>\n",
       "      <td>español</td>\n",
       "      <td>4.5</td>\n",
       "    </tr>\n",
       "    <tr>\n",
       "      <th>2</th>\n",
       "      <td>3</td>\n",
       "      <td>español</td>\n",
       "      <td>4.0</td>\n",
       "    </tr>\n",
       "    <tr>\n",
       "      <th>5</th>\n",
       "      <td>6</td>\n",
       "      <td>matematica</td>\n",
       "      <td>3.9</td>\n",
       "    </tr>\n",
       "    <tr>\n",
       "      <th>6</th>\n",
       "      <td>7</td>\n",
       "      <td>matematica</td>\n",
       "      <td>5.0</td>\n",
       "    </tr>\n",
       "    <tr>\n",
       "      <th>7</th>\n",
       "      <td>8</td>\n",
       "      <td>español</td>\n",
       "      <td>4.3</td>\n",
       "    </tr>\n",
       "    <tr>\n",
       "      <th>9</th>\n",
       "      <td>10</td>\n",
       "      <td>sociales</td>\n",
       "      <td>4.1</td>\n",
       "    </tr>\n",
       "  </tbody>\n",
       "</table>\n",
       "</div>"
      ],
      "text/plain": [
       "   id_estudiente     materia  nota\n",
       "1              2     español   4.5\n",
       "2              3     español   4.0\n",
       "5              6  matematica   3.9\n",
       "6              7  matematica   5.0\n",
       "7              8     español   4.3\n",
       "9             10    sociales   4.1"
      ]
     },
     "execution_count": 8,
     "metadata": {},
     "output_type": "execute_result"
    }
   ],
   "source": [
    "# Seleccionar estudiantes con notas mayores a 3.5\n",
    "df_estudiantes[df_estudiantes['nota']>3.5]"
   ]
  },
  {
   "cell_type": "code",
   "execution_count": 9,
   "metadata": {
    "scrolled": true
   },
   "outputs": [
    {
     "data": {
      "text/html": [
       "<div>\n",
       "<style scoped>\n",
       "    .dataframe tbody tr th:only-of-type {\n",
       "        vertical-align: middle;\n",
       "    }\n",
       "\n",
       "    .dataframe tbody tr th {\n",
       "        vertical-align: top;\n",
       "    }\n",
       "\n",
       "    .dataframe thead th {\n",
       "        text-align: right;\n",
       "    }\n",
       "</style>\n",
       "<table border=\"1\" class=\"dataframe\">\n",
       "  <thead>\n",
       "    <tr style=\"text-align: right;\">\n",
       "      <th></th>\n",
       "      <th>id_estudiente</th>\n",
       "      <th>materia</th>\n",
       "      <th>nota</th>\n",
       "    </tr>\n",
       "  </thead>\n",
       "  <tbody>\n",
       "    <tr>\n",
       "      <th>1</th>\n",
       "      <td>2</td>\n",
       "      <td>español</td>\n",
       "      <td>4.5</td>\n",
       "    </tr>\n",
       "    <tr>\n",
       "      <th>2</th>\n",
       "      <td>3</td>\n",
       "      <td>español</td>\n",
       "      <td>4.0</td>\n",
       "    </tr>\n",
       "    <tr>\n",
       "      <th>3</th>\n",
       "      <td>4</td>\n",
       "      <td>español</td>\n",
       "      <td>2.5</td>\n",
       "    </tr>\n",
       "    <tr>\n",
       "      <th>5</th>\n",
       "      <td>6</td>\n",
       "      <td>matematica</td>\n",
       "      <td>3.9</td>\n",
       "    </tr>\n",
       "    <tr>\n",
       "      <th>6</th>\n",
       "      <td>7</td>\n",
       "      <td>matematica</td>\n",
       "      <td>5.0</td>\n",
       "    </tr>\n",
       "    <tr>\n",
       "      <th>7</th>\n",
       "      <td>8</td>\n",
       "      <td>español</td>\n",
       "      <td>4.3</td>\n",
       "    </tr>\n",
       "    <tr>\n",
       "      <th>9</th>\n",
       "      <td>10</td>\n",
       "      <td>sociales</td>\n",
       "      <td>4.1</td>\n",
       "    </tr>\n",
       "  </tbody>\n",
       "</table>\n",
       "</div>"
      ],
      "text/plain": [
       "   id_estudiente     materia  nota\n",
       "1              2     español   4.5\n",
       "2              3     español   4.0\n",
       "3              4     español   2.5\n",
       "5              6  matematica   3.9\n",
       "6              7  matematica   5.0\n",
       "7              8     español   4.3\n",
       "9             10    sociales   4.1"
      ]
     },
     "execution_count": 9,
     "metadata": {},
     "output_type": "execute_result"
    }
   ],
   "source": [
    "# Seleccionar estudiantes con notas mayores a 3.5 o menor a 2.6\n",
    "df_estudiantes[(df_estudiantes['nota']>3.5) | (df_estudiantes['nota']<2.6)]"
   ]
  },
  {
   "cell_type": "code",
   "execution_count": 10,
   "metadata": {
    "scrolled": true
   },
   "outputs": [
    {
     "data": {
      "text/html": [
       "<div>\n",
       "<style scoped>\n",
       "    .dataframe tbody tr th:only-of-type {\n",
       "        vertical-align: middle;\n",
       "    }\n",
       "\n",
       "    .dataframe tbody tr th {\n",
       "        vertical-align: top;\n",
       "    }\n",
       "\n",
       "    .dataframe thead th {\n",
       "        text-align: right;\n",
       "    }\n",
       "</style>\n",
       "<table border=\"1\" class=\"dataframe\">\n",
       "  <thead>\n",
       "    <tr style=\"text-align: right;\">\n",
       "      <th></th>\n",
       "      <th>id_estudiente</th>\n",
       "      <th>materia</th>\n",
       "      <th>nota</th>\n",
       "    </tr>\n",
       "  </thead>\n",
       "  <tbody>\n",
       "    <tr>\n",
       "      <th>0</th>\n",
       "      <td>1</td>\n",
       "      <td>matematica</td>\n",
       "      <td>3.5</td>\n",
       "    </tr>\n",
       "    <tr>\n",
       "      <th>3</th>\n",
       "      <td>4</td>\n",
       "      <td>español</td>\n",
       "      <td>2.5</td>\n",
       "    </tr>\n",
       "    <tr>\n",
       "      <th>4</th>\n",
       "      <td>5</td>\n",
       "      <td>ciencias</td>\n",
       "      <td>2.8</td>\n",
       "    </tr>\n",
       "    <tr>\n",
       "      <th>8</th>\n",
       "      <td>9</td>\n",
       "      <td>ciencias</td>\n",
       "      <td>3.2</td>\n",
       "    </tr>\n",
       "  </tbody>\n",
       "</table>\n",
       "</div>"
      ],
      "text/plain": [
       "   id_estudiente     materia  nota\n",
       "0              1  matematica   3.5\n",
       "3              4     español   2.5\n",
       "4              5    ciencias   2.8\n",
       "8              9    ciencias   3.2"
      ]
     },
     "execution_count": 10,
     "metadata": {},
     "output_type": "execute_result"
    }
   ],
   "source": [
    "# \n",
    "df_estudiantes[~(df_estudiantes['nota']>3.5)]"
   ]
  },
  {
   "cell_type": "code",
   "execution_count": 11,
   "metadata": {
    "scrolled": true
   },
   "outputs": [
    {
     "data": {
      "text/html": [
       "<div>\n",
       "<style scoped>\n",
       "    .dataframe tbody tr th:only-of-type {\n",
       "        vertical-align: middle;\n",
       "    }\n",
       "\n",
       "    .dataframe tbody tr th {\n",
       "        vertical-align: top;\n",
       "    }\n",
       "\n",
       "    .dataframe thead th {\n",
       "        text-align: right;\n",
       "    }\n",
       "</style>\n",
       "<table border=\"1\" class=\"dataframe\">\n",
       "  <thead>\n",
       "    <tr style=\"text-align: right;\">\n",
       "      <th></th>\n",
       "      <th>id_estudiente</th>\n",
       "      <th>materia</th>\n",
       "      <th>nota</th>\n",
       "    </tr>\n",
       "  </thead>\n",
       "  <tbody>\n",
       "    <tr>\n",
       "      <th>1</th>\n",
       "      <td>2</td>\n",
       "      <td>español</td>\n",
       "      <td>4.5</td>\n",
       "    </tr>\n",
       "    <tr>\n",
       "      <th>2</th>\n",
       "      <td>3</td>\n",
       "      <td>español</td>\n",
       "      <td>4.0</td>\n",
       "    </tr>\n",
       "    <tr>\n",
       "      <th>3</th>\n",
       "      <td>4</td>\n",
       "      <td>español</td>\n",
       "      <td>2.5</td>\n",
       "    </tr>\n",
       "    <tr>\n",
       "      <th>4</th>\n",
       "      <td>5</td>\n",
       "      <td>ciencias</td>\n",
       "      <td>2.8</td>\n",
       "    </tr>\n",
       "    <tr>\n",
       "      <th>5</th>\n",
       "      <td>6</td>\n",
       "      <td>matematica</td>\n",
       "      <td>3.9</td>\n",
       "    </tr>\n",
       "    <tr>\n",
       "      <th>6</th>\n",
       "      <td>7</td>\n",
       "      <td>matematica</td>\n",
       "      <td>5.0</td>\n",
       "    </tr>\n",
       "    <tr>\n",
       "      <th>7</th>\n",
       "      <td>8</td>\n",
       "      <td>español</td>\n",
       "      <td>4.3</td>\n",
       "    </tr>\n",
       "    <tr>\n",
       "      <th>8</th>\n",
       "      <td>9</td>\n",
       "      <td>ciencias</td>\n",
       "      <td>3.2</td>\n",
       "    </tr>\n",
       "    <tr>\n",
       "      <th>9</th>\n",
       "      <td>10</td>\n",
       "      <td>sociales</td>\n",
       "      <td>4.1</td>\n",
       "    </tr>\n",
       "  </tbody>\n",
       "</table>\n",
       "</div>"
      ],
      "text/plain": [
       "   id_estudiente     materia  nota\n",
       "1              2     español   4.5\n",
       "2              3     español   4.0\n",
       "3              4     español   2.5\n",
       "4              5    ciencias   2.8\n",
       "5              6  matematica   3.9\n",
       "6              7  matematica   5.0\n",
       "7              8     español   4.3\n",
       "8              9    ciencias   3.2\n",
       "9             10    sociales   4.1"
      ]
     },
     "execution_count": 11,
     "metadata": {},
     "output_type": "execute_result"
    }
   ],
   "source": [
    "df_estudiantes[(df_estudiantes['nota'] != 3.5)]"
   ]
  },
  {
   "cell_type": "code",
   "execution_count": 12,
   "metadata": {},
   "outputs": [
    {
     "data": {
      "text/plain": [
       "1    4.5\n",
       "2    4.0\n",
       "3    2.5\n",
       "4    2.8\n",
       "Name: nota, dtype: float64"
      ]
     },
     "execution_count": 12,
     "metadata": {},
     "output_type": "execute_result"
    }
   ],
   "source": [
    "df_estudiantes.iloc[1:5, 2]"
   ]
  },
  {
   "cell_type": "code",
   "execution_count": 13,
   "metadata": {
    "scrolled": true
   },
   "outputs": [
    {
     "data": {
      "text/html": [
       "<div>\n",
       "<style scoped>\n",
       "    .dataframe tbody tr th:only-of-type {\n",
       "        vertical-align: middle;\n",
       "    }\n",
       "\n",
       "    .dataframe tbody tr th {\n",
       "        vertical-align: top;\n",
       "    }\n",
       "\n",
       "    .dataframe thead th {\n",
       "        text-align: right;\n",
       "    }\n",
       "</style>\n",
       "<table border=\"1\" class=\"dataframe\">\n",
       "  <thead>\n",
       "    <tr style=\"text-align: right;\">\n",
       "      <th></th>\n",
       "      <th>materia</th>\n",
       "      <th>nota</th>\n",
       "    </tr>\n",
       "  </thead>\n",
       "  <tbody>\n",
       "    <tr>\n",
       "      <th>0</th>\n",
       "      <td>matematica</td>\n",
       "      <td>3.5</td>\n",
       "    </tr>\n",
       "    <tr>\n",
       "      <th>1</th>\n",
       "      <td>español</td>\n",
       "      <td>4.5</td>\n",
       "    </tr>\n",
       "    <tr>\n",
       "      <th>2</th>\n",
       "      <td>español</td>\n",
       "      <td>4.0</td>\n",
       "    </tr>\n",
       "    <tr>\n",
       "      <th>3</th>\n",
       "      <td>español</td>\n",
       "      <td>2.5</td>\n",
       "    </tr>\n",
       "    <tr>\n",
       "      <th>4</th>\n",
       "      <td>ciencias</td>\n",
       "      <td>2.8</td>\n",
       "    </tr>\n",
       "    <tr>\n",
       "      <th>5</th>\n",
       "      <td>matematica</td>\n",
       "      <td>3.9</td>\n",
       "    </tr>\n",
       "    <tr>\n",
       "      <th>6</th>\n",
       "      <td>matematica</td>\n",
       "      <td>5.0</td>\n",
       "    </tr>\n",
       "    <tr>\n",
       "      <th>7</th>\n",
       "      <td>español</td>\n",
       "      <td>4.3</td>\n",
       "    </tr>\n",
       "    <tr>\n",
       "      <th>8</th>\n",
       "      <td>ciencias</td>\n",
       "      <td>3.2</td>\n",
       "    </tr>\n",
       "    <tr>\n",
       "      <th>9</th>\n",
       "      <td>sociales</td>\n",
       "      <td>4.1</td>\n",
       "    </tr>\n",
       "  </tbody>\n",
       "</table>\n",
       "</div>"
      ],
      "text/plain": [
       "      materia  nota\n",
       "0  matematica   3.5\n",
       "1     español   4.5\n",
       "2     español   4.0\n",
       "3     español   2.5\n",
       "4    ciencias   2.8\n",
       "5  matematica   3.9\n",
       "6  matematica   5.0\n",
       "7     español   4.3\n",
       "8    ciencias   3.2\n",
       "9    sociales   4.1"
      ]
     },
     "execution_count": 13,
     "metadata": {},
     "output_type": "execute_result"
    }
   ],
   "source": [
    "df_estudiantes.loc[:, 'materia':]"
   ]
  },
  {
   "cell_type": "code",
   "execution_count": 14,
   "metadata": {
    "scrolled": true
   },
   "outputs": [
    {
     "data": {
      "text/plain": [
       "materia\n",
       "ciencias      3.000000\n",
       "español       3.825000\n",
       "matematica    4.133333\n",
       "sociales      4.100000\n",
       "Name: nota, dtype: float64"
      ]
     },
     "execution_count": 14,
     "metadata": {},
     "output_type": "execute_result"
    }
   ],
   "source": [
    "df_estudiantes.groupby(['materia'])['nota'].mean()"
   ]
  },
  {
   "cell_type": "code",
   "execution_count": 15,
   "metadata": {},
   "outputs": [],
   "source": [
    "grupo = df_estudiantes.groupby(['materia'])"
   ]
  },
  {
   "cell_type": "code",
   "execution_count": 16,
   "metadata": {
    "scrolled": true
   },
   "outputs": [
    {
     "name": "stdout",
     "output_type": "stream",
     "text": [
      "ciencias   [4, 8]\n",
      "español   [1, 2, 3, 7]\n",
      "matematica   [0, 5, 6]\n",
      "sociales   [9]\n"
     ]
    }
   ],
   "source": [
    "for llave, valores in grupo.groups.items():\n",
    "    print(llave, \" \", list(valores))"
   ]
  },
  {
   "cell_type": "code",
   "execution_count": 17,
   "metadata": {},
   "outputs": [
    {
     "data": {
      "text/html": [
       "<div>\n",
       "<style scoped>\n",
       "    .dataframe tbody tr th:only-of-type {\n",
       "        vertical-align: middle;\n",
       "    }\n",
       "\n",
       "    .dataframe tbody tr th {\n",
       "        vertical-align: top;\n",
       "    }\n",
       "\n",
       "    .dataframe thead th {\n",
       "        text-align: right;\n",
       "    }\n",
       "</style>\n",
       "<table border=\"1\" class=\"dataframe\">\n",
       "  <thead>\n",
       "    <tr style=\"text-align: right;\">\n",
       "      <th></th>\n",
       "      <th>id_estudiente</th>\n",
       "      <th>materia</th>\n",
       "      <th>nota</th>\n",
       "    </tr>\n",
       "  </thead>\n",
       "  <tbody>\n",
       "    <tr>\n",
       "      <th>1</th>\n",
       "      <td>2</td>\n",
       "      <td>español</td>\n",
       "      <td>4.5</td>\n",
       "    </tr>\n",
       "    <tr>\n",
       "      <th>2</th>\n",
       "      <td>3</td>\n",
       "      <td>español</td>\n",
       "      <td>4.0</td>\n",
       "    </tr>\n",
       "    <tr>\n",
       "      <th>3</th>\n",
       "      <td>4</td>\n",
       "      <td>español</td>\n",
       "      <td>2.5</td>\n",
       "    </tr>\n",
       "    <tr>\n",
       "      <th>7</th>\n",
       "      <td>8</td>\n",
       "      <td>español</td>\n",
       "      <td>4.3</td>\n",
       "    </tr>\n",
       "  </tbody>\n",
       "</table>\n",
       "</div>"
      ],
      "text/plain": [
       "   id_estudiente  materia  nota\n",
       "1              2  español   4.5\n",
       "2              3  español   4.0\n",
       "3              4  español   2.5\n",
       "7              8  español   4.3"
      ]
     },
     "execution_count": 17,
     "metadata": {},
     "output_type": "execute_result"
    }
   ],
   "source": [
    "grupo.get_group('español')"
   ]
  },
  {
   "cell_type": "code",
   "execution_count": 18,
   "metadata": {
    "scrolled": true
   },
   "outputs": [
    {
     "data": {
      "text/plain": [
       "{'ciencias': Int64Index([4, 8], dtype='int64'),\n",
       " 'español': Int64Index([1, 2, 3, 7], dtype='int64'),\n",
       " 'matematica': Int64Index([0, 5, 6], dtype='int64'),\n",
       " 'sociales': Int64Index([9], dtype='int64')}"
      ]
     },
     "execution_count": 18,
     "metadata": {},
     "output_type": "execute_result"
    }
   ],
   "source": [
    "grupo.groups"
   ]
  },
  {
   "cell_type": "code",
   "execution_count": 19,
   "metadata": {},
   "outputs": [
    {
     "data": {
      "text/plain": [
       "<pandas.core.groupby.generic.SeriesGroupBy object at 0x00000287994D5888>"
      ]
     },
     "execution_count": 19,
     "metadata": {},
     "output_type": "execute_result"
    }
   ],
   "source": [
    "grupo['nota']"
   ]
  },
  {
   "cell_type": "code",
   "execution_count": 20,
   "metadata": {
    "scrolled": true
   },
   "outputs": [
    {
     "data": {
      "text/html": [
       "<div>\n",
       "<style scoped>\n",
       "    .dataframe tbody tr th:only-of-type {\n",
       "        vertical-align: middle;\n",
       "    }\n",
       "\n",
       "    .dataframe tbody tr th {\n",
       "        vertical-align: top;\n",
       "    }\n",
       "\n",
       "    .dataframe thead th {\n",
       "        text-align: right;\n",
       "    }\n",
       "</style>\n",
       "<table border=\"1\" class=\"dataframe\">\n",
       "  <thead>\n",
       "    <tr style=\"text-align: right;\">\n",
       "      <th></th>\n",
       "      <th>mean</th>\n",
       "      <th>median</th>\n",
       "    </tr>\n",
       "    <tr>\n",
       "      <th>materia</th>\n",
       "      <th></th>\n",
       "      <th></th>\n",
       "    </tr>\n",
       "  </thead>\n",
       "  <tbody>\n",
       "    <tr>\n",
       "      <th>ciencias</th>\n",
       "      <td>3.000000</td>\n",
       "      <td>3.00</td>\n",
       "    </tr>\n",
       "    <tr>\n",
       "      <th>español</th>\n",
       "      <td>3.825000</td>\n",
       "      <td>4.15</td>\n",
       "    </tr>\n",
       "    <tr>\n",
       "      <th>matematica</th>\n",
       "      <td>4.133333</td>\n",
       "      <td>3.90</td>\n",
       "    </tr>\n",
       "    <tr>\n",
       "      <th>sociales</th>\n",
       "      <td>4.100000</td>\n",
       "      <td>4.10</td>\n",
       "    </tr>\n",
       "  </tbody>\n",
       "</table>\n",
       "</div>"
      ],
      "text/plain": [
       "                mean  median\n",
       "materia                     \n",
       "ciencias    3.000000    3.00\n",
       "español     3.825000    4.15\n",
       "matematica  4.133333    3.90\n",
       "sociales    4.100000    4.10"
      ]
     },
     "execution_count": 20,
     "metadata": {},
     "output_type": "execute_result"
    }
   ],
   "source": [
    "grupo['nota'].aggregate( [np.mean, np.median])"
   ]
  },
  {
   "cell_type": "code",
   "execution_count": 23,
   "metadata": {
    "scrolled": true
   },
   "outputs": [
    {
     "data": {
      "text/html": [
       "<div>\n",
       "<style scoped>\n",
       "    .dataframe tbody tr th:only-of-type {\n",
       "        vertical-align: middle;\n",
       "    }\n",
       "\n",
       "    .dataframe tbody tr th {\n",
       "        vertical-align: top;\n",
       "    }\n",
       "\n",
       "    .dataframe thead tr th {\n",
       "        text-align: left;\n",
       "    }\n",
       "\n",
       "    .dataframe thead tr:last-of-type th {\n",
       "        text-align: right;\n",
       "    }\n",
       "</style>\n",
       "<table border=\"1\" class=\"dataframe\">\n",
       "  <thead>\n",
       "    <tr>\n",
       "      <th></th>\n",
       "      <th colspan=\"2\" halign=\"left\">nota</th>\n",
       "    </tr>\n",
       "    <tr>\n",
       "      <th></th>\n",
       "      <th>mean</th>\n",
       "      <th>var</th>\n",
       "    </tr>\n",
       "    <tr>\n",
       "      <th>materia</th>\n",
       "      <th></th>\n",
       "      <th></th>\n",
       "    </tr>\n",
       "  </thead>\n",
       "  <tbody>\n",
       "    <tr>\n",
       "      <th>ciencias</th>\n",
       "      <td>3.000000</td>\n",
       "      <td>0.080000</td>\n",
       "    </tr>\n",
       "    <tr>\n",
       "      <th>español</th>\n",
       "      <td>3.825000</td>\n",
       "      <td>0.822500</td>\n",
       "    </tr>\n",
       "    <tr>\n",
       "      <th>matematica</th>\n",
       "      <td>4.133333</td>\n",
       "      <td>0.603333</td>\n",
       "    </tr>\n",
       "    <tr>\n",
       "      <th>sociales</th>\n",
       "      <td>4.100000</td>\n",
       "      <td>NaN</td>\n",
       "    </tr>\n",
       "  </tbody>\n",
       "</table>\n",
       "</div>"
      ],
      "text/plain": [
       "                nota          \n",
       "                mean       var\n",
       "materia                       \n",
       "ciencias    3.000000  0.080000\n",
       "español     3.825000  0.822500\n",
       "matematica  4.133333  0.603333\n",
       "sociales    4.100000       NaN"
      ]
     },
     "execution_count": 23,
     "metadata": {},
     "output_type": "execute_result"
    }
   ],
   "source": [
    "grupo.agg({'nota':[np.mean, np.var]})"
   ]
  },
  {
   "cell_type": "code",
   "execution_count": 24,
   "metadata": {
    "scrolled": true
   },
   "outputs": [
    {
     "data": {
      "text/html": [
       "<div>\n",
       "<style scoped>\n",
       "    .dataframe tbody tr th:only-of-type {\n",
       "        vertical-align: middle;\n",
       "    }\n",
       "\n",
       "    .dataframe tbody tr th {\n",
       "        vertical-align: top;\n",
       "    }\n",
       "\n",
       "    .dataframe thead th {\n",
       "        text-align: right;\n",
       "    }\n",
       "</style>\n",
       "<table border=\"1\" class=\"dataframe\">\n",
       "  <thead>\n",
       "    <tr style=\"text-align: right;\">\n",
       "      <th></th>\n",
       "      <th>id_estudiente</th>\n",
       "      <th>materia</th>\n",
       "      <th>nota</th>\n",
       "    </tr>\n",
       "  </thead>\n",
       "  <tbody>\n",
       "    <tr>\n",
       "      <th>0</th>\n",
       "      <td>1</td>\n",
       "      <td>matematica</td>\n",
       "      <td>3.5</td>\n",
       "    </tr>\n",
       "    <tr>\n",
       "      <th>1</th>\n",
       "      <td>2</td>\n",
       "      <td>español</td>\n",
       "      <td>4.5</td>\n",
       "    </tr>\n",
       "    <tr>\n",
       "      <th>2</th>\n",
       "      <td>3</td>\n",
       "      <td>español</td>\n",
       "      <td>4.0</td>\n",
       "    </tr>\n",
       "    <tr>\n",
       "      <th>3</th>\n",
       "      <td>4</td>\n",
       "      <td>español</td>\n",
       "      <td>2.5</td>\n",
       "    </tr>\n",
       "    <tr>\n",
       "      <th>4</th>\n",
       "      <td>5</td>\n",
       "      <td>ciencias</td>\n",
       "      <td>2.8</td>\n",
       "    </tr>\n",
       "    <tr>\n",
       "      <th>5</th>\n",
       "      <td>6</td>\n",
       "      <td>matematica</td>\n",
       "      <td>3.9</td>\n",
       "    </tr>\n",
       "    <tr>\n",
       "      <th>6</th>\n",
       "      <td>7</td>\n",
       "      <td>matematica</td>\n",
       "      <td>5.0</td>\n",
       "    </tr>\n",
       "    <tr>\n",
       "      <th>7</th>\n",
       "      <td>8</td>\n",
       "      <td>español</td>\n",
       "      <td>4.3</td>\n",
       "    </tr>\n",
       "    <tr>\n",
       "      <th>8</th>\n",
       "      <td>9</td>\n",
       "      <td>ciencias</td>\n",
       "      <td>3.2</td>\n",
       "    </tr>\n",
       "    <tr>\n",
       "      <th>9</th>\n",
       "      <td>10</td>\n",
       "      <td>sociales</td>\n",
       "      <td>4.1</td>\n",
       "    </tr>\n",
       "  </tbody>\n",
       "</table>\n",
       "</div>"
      ],
      "text/plain": [
       "   id_estudiente     materia  nota\n",
       "0              1  matematica   3.5\n",
       "1              2     español   4.5\n",
       "2              3     español   4.0\n",
       "3              4     español   2.5\n",
       "4              5    ciencias   2.8\n",
       "5              6  matematica   3.9\n",
       "6              7  matematica   5.0\n",
       "7              8     español   4.3\n",
       "8              9    ciencias   3.2\n",
       "9             10    sociales   4.1"
      ]
     },
     "execution_count": 24,
     "metadata": {},
     "output_type": "execute_result"
    }
   ],
   "source": [
    "df_estudiantes"
   ]
  },
  {
   "cell_type": "code",
   "execution_count": 25,
   "metadata": {},
   "outputs": [],
   "source": [
    "df_info_materia = pd.DataFrame({\n",
    "    'materia':['matematica', 'español',\n",
    "               'ciencias', 'sociales'],\n",
    "    'informacion_materia':['complicada', 'interesante', 'ecologico', 'geografico']\n",
    "})"
   ]
  },
  {
   "cell_type": "code",
   "execution_count": 28,
   "metadata": {},
   "outputs": [],
   "source": [
    "df_info_materia = df_info_materia.set_index('materia')"
   ]
  },
  {
   "cell_type": "code",
   "execution_count": 30,
   "metadata": {},
   "outputs": [],
   "source": [
    "df_estudiantes = df_estudiantes.set_index('materia')"
   ]
  },
  {
   "cell_type": "code",
   "execution_count": 32,
   "metadata": {},
   "outputs": [],
   "source": [
    "df_join = df_estudiantes.join(df_info_materia)"
   ]
  },
  {
   "cell_type": "code",
   "execution_count": 33,
   "metadata": {},
   "outputs": [
    {
     "data": {
      "text/html": [
       "<div>\n",
       "<style scoped>\n",
       "    .dataframe tbody tr th:only-of-type {\n",
       "        vertical-align: middle;\n",
       "    }\n",
       "\n",
       "    .dataframe tbody tr th {\n",
       "        vertical-align: top;\n",
       "    }\n",
       "\n",
       "    .dataframe thead th {\n",
       "        text-align: right;\n",
       "    }\n",
       "</style>\n",
       "<table border=\"1\" class=\"dataframe\">\n",
       "  <thead>\n",
       "    <tr style=\"text-align: right;\">\n",
       "      <th></th>\n",
       "      <th>id_estudiente</th>\n",
       "      <th>nota</th>\n",
       "      <th>informacion_materia</th>\n",
       "    </tr>\n",
       "    <tr>\n",
       "      <th>materia</th>\n",
       "      <th></th>\n",
       "      <th></th>\n",
       "      <th></th>\n",
       "    </tr>\n",
       "  </thead>\n",
       "  <tbody>\n",
       "    <tr>\n",
       "      <th>ciencias</th>\n",
       "      <td>5</td>\n",
       "      <td>2.8</td>\n",
       "      <td>ecologico</td>\n",
       "    </tr>\n",
       "    <tr>\n",
       "      <th>ciencias</th>\n",
       "      <td>9</td>\n",
       "      <td>3.2</td>\n",
       "      <td>ecologico</td>\n",
       "    </tr>\n",
       "    <tr>\n",
       "      <th>español</th>\n",
       "      <td>2</td>\n",
       "      <td>4.5</td>\n",
       "      <td>interesante</td>\n",
       "    </tr>\n",
       "    <tr>\n",
       "      <th>español</th>\n",
       "      <td>3</td>\n",
       "      <td>4.0</td>\n",
       "      <td>interesante</td>\n",
       "    </tr>\n",
       "    <tr>\n",
       "      <th>español</th>\n",
       "      <td>4</td>\n",
       "      <td>2.5</td>\n",
       "      <td>interesante</td>\n",
       "    </tr>\n",
       "    <tr>\n",
       "      <th>español</th>\n",
       "      <td>8</td>\n",
       "      <td>4.3</td>\n",
       "      <td>interesante</td>\n",
       "    </tr>\n",
       "    <tr>\n",
       "      <th>matematica</th>\n",
       "      <td>1</td>\n",
       "      <td>3.5</td>\n",
       "      <td>complicada</td>\n",
       "    </tr>\n",
       "    <tr>\n",
       "      <th>matematica</th>\n",
       "      <td>6</td>\n",
       "      <td>3.9</td>\n",
       "      <td>complicada</td>\n",
       "    </tr>\n",
       "    <tr>\n",
       "      <th>matematica</th>\n",
       "      <td>7</td>\n",
       "      <td>5.0</td>\n",
       "      <td>complicada</td>\n",
       "    </tr>\n",
       "    <tr>\n",
       "      <th>sociales</th>\n",
       "      <td>10</td>\n",
       "      <td>4.1</td>\n",
       "      <td>geografico</td>\n",
       "    </tr>\n",
       "  </tbody>\n",
       "</table>\n",
       "</div>"
      ],
      "text/plain": [
       "            id_estudiente  nota informacion_materia\n",
       "materia                                            \n",
       "ciencias                5   2.8           ecologico\n",
       "ciencias                9   3.2           ecologico\n",
       "español                 2   4.5         interesante\n",
       "español                 3   4.0         interesante\n",
       "español                 4   2.5         interesante\n",
       "español                 8   4.3         interesante\n",
       "matematica              1   3.5          complicada\n",
       "matematica              6   3.9          complicada\n",
       "matematica              7   5.0          complicada\n",
       "sociales               10   4.1          geografico"
      ]
     },
     "execution_count": 33,
     "metadata": {},
     "output_type": "execute_result"
    }
   ],
   "source": [
    "df_join"
   ]
  },
  {
   "cell_type": "code",
   "execution_count": 34,
   "metadata": {},
   "outputs": [
    {
     "data": {
      "text/plain": [
       "Index(['ciencias', 'ciencias', 'español', 'español', 'español', 'español',\n",
       "       'matematica', 'matematica', 'matematica', 'sociales'],\n",
       "      dtype='object', name='materia')"
      ]
     },
     "execution_count": 34,
     "metadata": {},
     "output_type": "execute_result"
    }
   ],
   "source": [
    "df_join.index"
   ]
  },
  {
   "cell_type": "code",
   "execution_count": 35,
   "metadata": {
    "scrolled": false
   },
   "outputs": [
    {
     "data": {
      "text/html": [
       "<div>\n",
       "<style scoped>\n",
       "    .dataframe tbody tr th:only-of-type {\n",
       "        vertical-align: middle;\n",
       "    }\n",
       "\n",
       "    .dataframe tbody tr th {\n",
       "        vertical-align: top;\n",
       "    }\n",
       "\n",
       "    .dataframe thead th {\n",
       "        text-align: right;\n",
       "    }\n",
       "</style>\n",
       "<table border=\"1\" class=\"dataframe\">\n",
       "  <thead>\n",
       "    <tr style=\"text-align: right;\">\n",
       "      <th></th>\n",
       "      <th>materia</th>\n",
       "      <th>id_estudiente</th>\n",
       "      <th>nota</th>\n",
       "      <th>informacion_materia</th>\n",
       "    </tr>\n",
       "  </thead>\n",
       "  <tbody>\n",
       "    <tr>\n",
       "      <th>0</th>\n",
       "      <td>ciencias</td>\n",
       "      <td>5</td>\n",
       "      <td>2.8</td>\n",
       "      <td>ecologico</td>\n",
       "    </tr>\n",
       "    <tr>\n",
       "      <th>1</th>\n",
       "      <td>ciencias</td>\n",
       "      <td>9</td>\n",
       "      <td>3.2</td>\n",
       "      <td>ecologico</td>\n",
       "    </tr>\n",
       "    <tr>\n",
       "      <th>2</th>\n",
       "      <td>español</td>\n",
       "      <td>2</td>\n",
       "      <td>4.5</td>\n",
       "      <td>interesante</td>\n",
       "    </tr>\n",
       "    <tr>\n",
       "      <th>3</th>\n",
       "      <td>español</td>\n",
       "      <td>3</td>\n",
       "      <td>4.0</td>\n",
       "      <td>interesante</td>\n",
       "    </tr>\n",
       "    <tr>\n",
       "      <th>4</th>\n",
       "      <td>español</td>\n",
       "      <td>4</td>\n",
       "      <td>2.5</td>\n",
       "      <td>interesante</td>\n",
       "    </tr>\n",
       "    <tr>\n",
       "      <th>5</th>\n",
       "      <td>español</td>\n",
       "      <td>8</td>\n",
       "      <td>4.3</td>\n",
       "      <td>interesante</td>\n",
       "    </tr>\n",
       "    <tr>\n",
       "      <th>6</th>\n",
       "      <td>matematica</td>\n",
       "      <td>1</td>\n",
       "      <td>3.5</td>\n",
       "      <td>complicada</td>\n",
       "    </tr>\n",
       "    <tr>\n",
       "      <th>7</th>\n",
       "      <td>matematica</td>\n",
       "      <td>6</td>\n",
       "      <td>3.9</td>\n",
       "      <td>complicada</td>\n",
       "    </tr>\n",
       "    <tr>\n",
       "      <th>8</th>\n",
       "      <td>matematica</td>\n",
       "      <td>7</td>\n",
       "      <td>5.0</td>\n",
       "      <td>complicada</td>\n",
       "    </tr>\n",
       "    <tr>\n",
       "      <th>9</th>\n",
       "      <td>sociales</td>\n",
       "      <td>10</td>\n",
       "      <td>4.1</td>\n",
       "      <td>geografico</td>\n",
       "    </tr>\n",
       "  </tbody>\n",
       "</table>\n",
       "</div>"
      ],
      "text/plain": [
       "      materia  id_estudiente  nota informacion_materia\n",
       "0    ciencias              5   2.8           ecologico\n",
       "1    ciencias              9   3.2           ecologico\n",
       "2     español              2   4.5         interesante\n",
       "3     español              3   4.0         interesante\n",
       "4     español              4   2.5         interesante\n",
       "5     español              8   4.3         interesante\n",
       "6  matematica              1   3.5          complicada\n",
       "7  matematica              6   3.9          complicada\n",
       "8  matematica              7   5.0          complicada\n",
       "9    sociales             10   4.1          geografico"
      ]
     },
     "execution_count": 35,
     "metadata": {},
     "output_type": "execute_result"
    }
   ],
   "source": [
    "df_join.reset_index()"
   ]
  },
  {
   "cell_type": "code",
   "execution_count": 68,
   "metadata": {
    "scrolled": true
   },
   "outputs": [
    {
     "data": {
      "text/plain": [
       "0    cie\n",
       "1    cie\n",
       "2    esp\n",
       "3    esp\n",
       "4    esp\n",
       "5    esp\n",
       "6    mat\n",
       "7    mat\n",
       "8    mat\n",
       "9    soc\n",
       "dtype: object"
      ]
     },
     "execution_count": 68,
     "metadata": {},
     "output_type": "execute_result"
    }
   ],
   "source": [
    "df_join.reset_index().apply(lambda x: x[0][0:3], axis = 1)"
   ]
  },
  {
   "cell_type": "code",
   "execution_count": 69,
   "metadata": {
    "scrolled": true
   },
   "outputs": [
    {
     "data": {
      "text/plain": [
       "materia                 ciencias\n",
       "id_estudiente                  5\n",
       "nota                         2.8\n",
       "informacion_materia    ecologico\n",
       "dtype: object"
      ]
     },
     "execution_count": 69,
     "metadata": {},
     "output_type": "execute_result"
    }
   ],
   "source": [
    "df_join.reset_index().apply(lambda x: x[0], axis = 0)"
   ]
  },
  {
   "cell_type": "code",
   "execution_count": 70,
   "metadata": {},
   "outputs": [
    {
     "data": {
      "text/plain": [
       "0    cie\n",
       "1    cie\n",
       "2    esp\n",
       "3    esp\n",
       "4    esp\n",
       "5    esp\n",
       "6    mat\n",
       "7    mat\n",
       "8    mat\n",
       "9    soc\n",
       "Name: materia, dtype: object"
      ]
     },
     "execution_count": 70,
     "metadata": {},
     "output_type": "execute_result"
    }
   ],
   "source": [
    "df_join.reset_index().materia.apply(lambda x: x[0:3])"
   ]
  },
  {
   "cell_type": "markdown",
   "metadata": {},
   "source": [
    "## Numpy"
   ]
  },
  {
   "cell_type": "code",
   "execution_count": 41,
   "metadata": {},
   "outputs": [],
   "source": [
    "lista = [2, 3, 4, 6, 7]"
   ]
  },
  {
   "cell_type": "code",
   "execution_count": 42,
   "metadata": {},
   "outputs": [],
   "source": [
    "lista_n = np.array(array_)"
   ]
  },
  {
   "cell_type": "code",
   "execution_count": 43,
   "metadata": {},
   "outputs": [
    {
     "data": {
      "text/plain": [
       "array([2, 3, 4, 6, 7])"
      ]
     },
     "execution_count": 43,
     "metadata": {},
     "output_type": "execute_result"
    }
   ],
   "source": [
    "lista_n"
   ]
  },
  {
   "cell_type": "code",
   "execution_count": 44,
   "metadata": {},
   "outputs": [
    {
     "ename": "TypeError",
     "evalue": "'>' not supported between instances of 'list' and 'int'",
     "output_type": "error",
     "traceback": [
      "\u001b[1;31m---------------------------------------------------------------------------\u001b[0m",
      "\u001b[1;31mTypeError\u001b[0m                                 Traceback (most recent call last)",
      "\u001b[1;32m<ipython-input-44-0b5b87446a75>\u001b[0m in \u001b[0;36m<module>\u001b[1;34m\u001b[0m\n\u001b[1;32m----> 1\u001b[1;33m \u001b[0mlista\u001b[0m \u001b[1;33m>\u001b[0m \u001b[1;36m2\u001b[0m\u001b[1;33m\u001b[0m\u001b[1;33m\u001b[0m\u001b[0m\n\u001b[0m",
      "\u001b[1;31mTypeError\u001b[0m: '>' not supported between instances of 'list' and 'int'"
     ]
    }
   ],
   "source": [
    "lista > 2"
   ]
  },
  {
   "cell_type": "code",
   "execution_count": 45,
   "metadata": {},
   "outputs": [
    {
     "data": {
      "text/plain": [
       "array([False,  True,  True,  True,  True])"
      ]
     },
     "execution_count": 45,
     "metadata": {},
     "output_type": "execute_result"
    }
   ],
   "source": [
    "lista_n > 2"
   ]
  },
  {
   "cell_type": "code",
   "execution_count": 46,
   "metadata": {},
   "outputs": [
    {
     "data": {
      "text/plain": [
       "[2, 3, 4, 6, 7, 2, 3, 4, 6, 7, 2, 3, 4, 6, 7, 2, 3, 4, 6, 7]"
      ]
     },
     "execution_count": 46,
     "metadata": {},
     "output_type": "execute_result"
    }
   ],
   "source": [
    "lista * 4"
   ]
  },
  {
   "cell_type": "code",
   "execution_count": 47,
   "metadata": {
    "scrolled": true
   },
   "outputs": [
    {
     "data": {
      "text/plain": [
       "array([ 8, 12, 16, 24, 28])"
      ]
     },
     "execution_count": 47,
     "metadata": {},
     "output_type": "execute_result"
    }
   ],
   "source": [
    "lista_n * 4"
   ]
  },
  {
   "cell_type": "code",
   "execution_count": 50,
   "metadata": {},
   "outputs": [
    {
     "data": {
      "text/plain": [
       "[2, 4, 6]"
      ]
     },
     "execution_count": 50,
     "metadata": {},
     "output_type": "execute_result"
    }
   ],
   "source": [
    "list(filter(lambda x: x % 2 == 0, lista_n))"
   ]
  },
  {
   "cell_type": "code",
   "execution_count": 52,
   "metadata": {},
   "outputs": [
    {
     "data": {
      "text/plain": [
       "[4, 9, 16, 36, 49]"
      ]
     },
     "execution_count": 52,
     "metadata": {},
     "output_type": "execute_result"
    }
   ],
   "source": [
    "list(map(lambda x: x ** 2, lista_n))"
   ]
  },
  {
   "cell_type": "code",
   "execution_count": null,
   "metadata": {},
   "outputs": [],
   "source": [
    "np.where"
   ]
  },
  {
   "cell_type": "markdown",
   "metadata": {},
   "source": [
    "# Trabajo sobre la base de datos"
   ]
  },
  {
   "cell_type": "markdown",
   "metadata": {},
   "source": [
    "### Leer base de datos sobre coca"
   ]
  },
  {
   "cell_type": "code",
   "execution_count": 5,
   "metadata": {},
   "outputs": [],
   "source": [
    "df_coca = pd.read_csv('Base de datos cultivos de coca 1999 a 2018 munipios de Colombia.xlsx - CultivosIlicitos.csv')"
   ]
  },
  {
   "cell_type": "code",
   "execution_count": 6,
   "metadata": {
    "scrolled": true
   },
   "outputs": [
    {
     "data": {
      "text/html": [
       "<div>\n",
       "<style scoped>\n",
       "    .dataframe tbody tr th:only-of-type {\n",
       "        vertical-align: middle;\n",
       "    }\n",
       "\n",
       "    .dataframe tbody tr th {\n",
       "        vertical-align: top;\n",
       "    }\n",
       "\n",
       "    .dataframe thead th {\n",
       "        text-align: right;\n",
       "    }\n",
       "</style>\n",
       "<table border=\"1\" class=\"dataframe\">\n",
       "  <thead>\n",
       "    <tr style=\"text-align: right;\">\n",
       "      <th></th>\n",
       "      <th>CODDEPTO</th>\n",
       "      <th>DEPARTAMENTO</th>\n",
       "      <th>CODMPIO</th>\n",
       "      <th>MUNICIPIO</th>\n",
       "      <th>1999</th>\n",
       "      <th>2000</th>\n",
       "      <th>2001</th>\n",
       "      <th>2002</th>\n",
       "      <th>2003</th>\n",
       "      <th>2004</th>\n",
       "      <th>...</th>\n",
       "      <th>2009</th>\n",
       "      <th>2010</th>\n",
       "      <th>2011</th>\n",
       "      <th>2012</th>\n",
       "      <th>2013</th>\n",
       "      <th>2014</th>\n",
       "      <th>2015</th>\n",
       "      <th>2016</th>\n",
       "      <th>2017</th>\n",
       "      <th>2018</th>\n",
       "    </tr>\n",
       "  </thead>\n",
       "  <tbody>\n",
       "    <tr>\n",
       "      <th>0</th>\n",
       "      <td>91.0</td>\n",
       "      <td>AMAZONAS</td>\n",
       "      <td>91263.0</td>\n",
       "      <td>EL ENCANTO (Cor. Departamental)</td>\n",
       "      <td>NaN</td>\n",
       "      <td>NaN</td>\n",
       "      <td>191.82</td>\n",
       "      <td>264.00</td>\n",
       "      <td>164.00</td>\n",
       "      <td>270.00</td>\n",
       "      <td>...</td>\n",
       "      <td>109.00</td>\n",
       "      <td>81.00</td>\n",
       "      <td>35.00</td>\n",
       "      <td>16.00</td>\n",
       "      <td>8.00</td>\n",
       "      <td>20.00</td>\n",
       "      <td>11.77</td>\n",
       "      <td>12.65</td>\n",
       "      <td>8.04</td>\n",
       "      <td>4.12</td>\n",
       "    </tr>\n",
       "    <tr>\n",
       "      <th>1</th>\n",
       "      <td>91.0</td>\n",
       "      <td>AMAZONAS</td>\n",
       "      <td>91405.0</td>\n",
       "      <td>LA CHORRERA (Cor. Departamental)</td>\n",
       "      <td>NaN</td>\n",
       "      <td>NaN</td>\n",
       "      <td>65.00</td>\n",
       "      <td>236.00</td>\n",
       "      <td>209.00</td>\n",
       "      <td>271.00</td>\n",
       "      <td>...</td>\n",
       "      <td>81.00</td>\n",
       "      <td>113.00</td>\n",
       "      <td>36.00</td>\n",
       "      <td>22.00</td>\n",
       "      <td>25.00</td>\n",
       "      <td>51.00</td>\n",
       "      <td>13.61</td>\n",
       "      <td>14.09</td>\n",
       "      <td>18.20</td>\n",
       "      <td>6.04</td>\n",
       "    </tr>\n",
       "    <tr>\n",
       "      <th>2</th>\n",
       "      <td>91.0</td>\n",
       "      <td>AMAZONAS</td>\n",
       "      <td>91407.0</td>\n",
       "      <td>LA PEDRERA (Cor. Departamental)</td>\n",
       "      <td>NaN</td>\n",
       "      <td>NaN</td>\n",
       "      <td>NaN</td>\n",
       "      <td>NaN</td>\n",
       "      <td>NaN</td>\n",
       "      <td>NaN</td>\n",
       "      <td>...</td>\n",
       "      <td>7.00</td>\n",
       "      <td>12.00</td>\n",
       "      <td>NaN</td>\n",
       "      <td>1.00</td>\n",
       "      <td>NaN</td>\n",
       "      <td>NaN</td>\n",
       "      <td>NaN</td>\n",
       "      <td>NaN</td>\n",
       "      <td>NaN</td>\n",
       "      <td>NaN</td>\n",
       "    </tr>\n",
       "    <tr>\n",
       "      <th>3</th>\n",
       "      <td>91.0</td>\n",
       "      <td>AMAZONAS</td>\n",
       "      <td>91430.0</td>\n",
       "      <td>LA VICTORIA (Pacoa) (Cor. Departamental)</td>\n",
       "      <td>NaN</td>\n",
       "      <td>NaN</td>\n",
       "      <td>NaN</td>\n",
       "      <td>NaN</td>\n",
       "      <td>NaN</td>\n",
       "      <td>NaN</td>\n",
       "      <td>...</td>\n",
       "      <td>2.00</td>\n",
       "      <td>10.00</td>\n",
       "      <td>NaN</td>\n",
       "      <td>NaN</td>\n",
       "      <td>NaN</td>\n",
       "      <td>NaN</td>\n",
       "      <td>NaN</td>\n",
       "      <td>NaN</td>\n",
       "      <td>NaN</td>\n",
       "      <td>NaN</td>\n",
       "    </tr>\n",
       "    <tr>\n",
       "      <th>4</th>\n",
       "      <td>91.0</td>\n",
       "      <td>AMAZONAS</td>\n",
       "      <td>91460.0</td>\n",
       "      <td>MIRITÍ-PARANÁ (Campoamor) (Cor. Departamental)</td>\n",
       "      <td>NaN</td>\n",
       "      <td>NaN</td>\n",
       "      <td>6.00</td>\n",
       "      <td>43.00</td>\n",
       "      <td>36.18</td>\n",
       "      <td>30.00</td>\n",
       "      <td>...</td>\n",
       "      <td>4.00</td>\n",
       "      <td>15.00</td>\n",
       "      <td>NaN</td>\n",
       "      <td>5.00</td>\n",
       "      <td>NaN</td>\n",
       "      <td>NaN</td>\n",
       "      <td>NaN</td>\n",
       "      <td>NaN</td>\n",
       "      <td>NaN</td>\n",
       "      <td>NaN</td>\n",
       "    </tr>\n",
       "  </tbody>\n",
       "</table>\n",
       "<p>5 rows × 24 columns</p>\n",
       "</div>"
      ],
      "text/plain": [
       "   CODDEPTO DEPARTAMENTO  CODMPIO  \\\n",
       "0      91.0     AMAZONAS  91263.0   \n",
       "1      91.0     AMAZONAS  91405.0   \n",
       "2      91.0     AMAZONAS  91407.0   \n",
       "3      91.0     AMAZONAS  91430.0   \n",
       "4      91.0     AMAZONAS  91460.0   \n",
       "\n",
       "                                        MUNICIPIO 1999 2000    2001    2002  \\\n",
       "0                 EL ENCANTO (Cor. Departamental)  NaN  NaN  191.82  264.00   \n",
       "1                LA CHORRERA (Cor. Departamental)  NaN  NaN   65.00  236.00   \n",
       "2                 LA PEDRERA (Cor. Departamental)  NaN  NaN     NaN     NaN   \n",
       "3        LA VICTORIA (Pacoa) (Cor. Departamental)  NaN  NaN     NaN     NaN   \n",
       "4  MIRITÍ-PARANÁ (Campoamor) (Cor. Departamental)  NaN  NaN    6.00   43.00   \n",
       "\n",
       "     2003    2004  ...    2009    2010   2011   2012   2013   2014   2015  \\\n",
       "0  164.00  270.00  ...  109.00   81.00  35.00  16.00   8.00  20.00  11.77   \n",
       "1  209.00  271.00  ...   81.00  113.00  36.00  22.00  25.00  51.00  13.61   \n",
       "2     NaN     NaN  ...    7.00   12.00    NaN   1.00    NaN    NaN    NaN   \n",
       "3     NaN     NaN  ...    2.00   10.00    NaN    NaN    NaN    NaN    NaN   \n",
       "4   36.18   30.00  ...    4.00   15.00    NaN   5.00    NaN    NaN    NaN   \n",
       "\n",
       "    2016   2017  2018  \n",
       "0  12.65   8.04  4.12  \n",
       "1  14.09  18.20  6.04  \n",
       "2    NaN    NaN   NaN  \n",
       "3    NaN    NaN   NaN  \n",
       "4    NaN    NaN   NaN  \n",
       "\n",
       "[5 rows x 24 columns]"
      ]
     },
     "execution_count": 6,
     "metadata": {},
     "output_type": "execute_result"
    }
   ],
   "source": [
    "df_coca.head()"
   ]
  },
  {
   "cell_type": "markdown",
   "metadata": {},
   "source": [
    "### Nombres de las columnas"
   ]
  },
  {
   "cell_type": "code",
   "execution_count": 7,
   "metadata": {
    "scrolled": true
   },
   "outputs": [
    {
     "data": {
      "text/plain": [
       "['CODDEPTO',\n",
       " 'DEPARTAMENTO',\n",
       " 'CODMPIO',\n",
       " 'MUNICIPIO',\n",
       " '1999',\n",
       " '2000',\n",
       " '2001',\n",
       " '2002',\n",
       " '2003',\n",
       " '2004',\n",
       " '2005',\n",
       " '2006',\n",
       " '2007',\n",
       " '2008',\n",
       " '2009',\n",
       " '2010',\n",
       " '2011',\n",
       " '2012',\n",
       " '2013',\n",
       " '2014',\n",
       " '2015',\n",
       " '2016',\n",
       " '2017',\n",
       " '2018']"
      ]
     },
     "execution_count": 7,
     "metadata": {},
     "output_type": "execute_result"
    }
   ],
   "source": [
    "df_coca.columns.tolist()"
   ]
  },
  {
   "cell_type": "markdown",
   "metadata": {},
   "source": [
    "### Agregar columnas como indices "
   ]
  },
  {
   "cell_type": "code",
   "execution_count": 8,
   "metadata": {},
   "outputs": [],
   "source": [
    "df_coca = df_coca.set_index(['CODDEPTO', 'DEPARTAMENTO', 'CODMPIO', 'MUNICIPIO'])"
   ]
  },
  {
   "cell_type": "code",
   "execution_count": 9,
   "metadata": {
    "scrolled": true
   },
   "outputs": [
    {
     "data": {
      "text/html": [
       "<div>\n",
       "<style scoped>\n",
       "    .dataframe tbody tr th:only-of-type {\n",
       "        vertical-align: middle;\n",
       "    }\n",
       "\n",
       "    .dataframe tbody tr th {\n",
       "        vertical-align: top;\n",
       "    }\n",
       "\n",
       "    .dataframe thead th {\n",
       "        text-align: right;\n",
       "    }\n",
       "</style>\n",
       "<table border=\"1\" class=\"dataframe\">\n",
       "  <thead>\n",
       "    <tr style=\"text-align: right;\">\n",
       "      <th></th>\n",
       "      <th></th>\n",
       "      <th></th>\n",
       "      <th></th>\n",
       "      <th>1999</th>\n",
       "      <th>2000</th>\n",
       "      <th>2001</th>\n",
       "      <th>2002</th>\n",
       "      <th>2003</th>\n",
       "      <th>2004</th>\n",
       "      <th>2005</th>\n",
       "      <th>2006</th>\n",
       "      <th>2007</th>\n",
       "      <th>2008</th>\n",
       "      <th>2009</th>\n",
       "      <th>2010</th>\n",
       "      <th>2011</th>\n",
       "      <th>2012</th>\n",
       "      <th>2013</th>\n",
       "      <th>2014</th>\n",
       "      <th>2015</th>\n",
       "      <th>2016</th>\n",
       "      <th>2017</th>\n",
       "      <th>2018</th>\n",
       "    </tr>\n",
       "    <tr>\n",
       "      <th>CODDEPTO</th>\n",
       "      <th>DEPARTAMENTO</th>\n",
       "      <th>CODMPIO</th>\n",
       "      <th>MUNICIPIO</th>\n",
       "      <th></th>\n",
       "      <th></th>\n",
       "      <th></th>\n",
       "      <th></th>\n",
       "      <th></th>\n",
       "      <th></th>\n",
       "      <th></th>\n",
       "      <th></th>\n",
       "      <th></th>\n",
       "      <th></th>\n",
       "      <th></th>\n",
       "      <th></th>\n",
       "      <th></th>\n",
       "      <th></th>\n",
       "      <th></th>\n",
       "      <th></th>\n",
       "      <th></th>\n",
       "      <th></th>\n",
       "      <th></th>\n",
       "      <th></th>\n",
       "    </tr>\n",
       "  </thead>\n",
       "  <tbody>\n",
       "    <tr>\n",
       "      <th rowspan=\"5\" valign=\"top\">91.0</th>\n",
       "      <th rowspan=\"5\" valign=\"top\">AMAZONAS</th>\n",
       "      <th>91263.0</th>\n",
       "      <th>EL ENCANTO (Cor. Departamental)</th>\n",
       "      <td>NaN</td>\n",
       "      <td>NaN</td>\n",
       "      <td>191.82</td>\n",
       "      <td>264.00</td>\n",
       "      <td>164.00</td>\n",
       "      <td>270.00</td>\n",
       "      <td>382.00</td>\n",
       "      <td>233.00</td>\n",
       "      <td>186.00</td>\n",
       "      <td>349.00</td>\n",
       "      <td>109.00</td>\n",
       "      <td>81.00</td>\n",
       "      <td>35.00</td>\n",
       "      <td>16.00</td>\n",
       "      <td>8.00</td>\n",
       "      <td>20.00</td>\n",
       "      <td>11.77</td>\n",
       "      <td>12.65</td>\n",
       "      <td>8.04</td>\n",
       "      <td>4.12</td>\n",
       "    </tr>\n",
       "    <tr>\n",
       "      <th>91405.0</th>\n",
       "      <th>LA CHORRERA (Cor. Departamental)</th>\n",
       "      <td>NaN</td>\n",
       "      <td>NaN</td>\n",
       "      <td>65.00</td>\n",
       "      <td>236.00</td>\n",
       "      <td>209.00</td>\n",
       "      <td>271.00</td>\n",
       "      <td>257.00</td>\n",
       "      <td>223.00</td>\n",
       "      <td>132.00</td>\n",
       "      <td>349.00</td>\n",
       "      <td>81.00</td>\n",
       "      <td>113.00</td>\n",
       "      <td>36.00</td>\n",
       "      <td>22.00</td>\n",
       "      <td>25.00</td>\n",
       "      <td>51.00</td>\n",
       "      <td>13.61</td>\n",
       "      <td>14.09</td>\n",
       "      <td>18.20</td>\n",
       "      <td>6.04</td>\n",
       "    </tr>\n",
       "    <tr>\n",
       "      <th>91407.0</th>\n",
       "      <th>LA PEDRERA (Cor. Departamental)</th>\n",
       "      <td>NaN</td>\n",
       "      <td>NaN</td>\n",
       "      <td>NaN</td>\n",
       "      <td>NaN</td>\n",
       "      <td>NaN</td>\n",
       "      <td>NaN</td>\n",
       "      <td>NaN</td>\n",
       "      <td>NaN</td>\n",
       "      <td>NaN</td>\n",
       "      <td>NaN</td>\n",
       "      <td>7.00</td>\n",
       "      <td>12.00</td>\n",
       "      <td>NaN</td>\n",
       "      <td>1.00</td>\n",
       "      <td>NaN</td>\n",
       "      <td>NaN</td>\n",
       "      <td>NaN</td>\n",
       "      <td>NaN</td>\n",
       "      <td>NaN</td>\n",
       "      <td>NaN</td>\n",
       "    </tr>\n",
       "    <tr>\n",
       "      <th>91430.0</th>\n",
       "      <th>LA VICTORIA (Pacoa) (Cor. Departamental)</th>\n",
       "      <td>NaN</td>\n",
       "      <td>NaN</td>\n",
       "      <td>NaN</td>\n",
       "      <td>NaN</td>\n",
       "      <td>NaN</td>\n",
       "      <td>NaN</td>\n",
       "      <td>NaN</td>\n",
       "      <td>NaN</td>\n",
       "      <td>NaN</td>\n",
       "      <td>NaN</td>\n",
       "      <td>2.00</td>\n",
       "      <td>10.00</td>\n",
       "      <td>NaN</td>\n",
       "      <td>NaN</td>\n",
       "      <td>NaN</td>\n",
       "      <td>NaN</td>\n",
       "      <td>NaN</td>\n",
       "      <td>NaN</td>\n",
       "      <td>NaN</td>\n",
       "      <td>NaN</td>\n",
       "    </tr>\n",
       "    <tr>\n",
       "      <th>91460.0</th>\n",
       "      <th>MIRITÍ-PARANÁ (Campoamor) (Cor. Departamental)</th>\n",
       "      <td>NaN</td>\n",
       "      <td>NaN</td>\n",
       "      <td>6.00</td>\n",
       "      <td>43.00</td>\n",
       "      <td>36.18</td>\n",
       "      <td>30.00</td>\n",
       "      <td>12.00</td>\n",
       "      <td>4.00</td>\n",
       "      <td>9.00</td>\n",
       "      <td>2.00</td>\n",
       "      <td>4.00</td>\n",
       "      <td>15.00</td>\n",
       "      <td>NaN</td>\n",
       "      <td>5.00</td>\n",
       "      <td>NaN</td>\n",
       "      <td>NaN</td>\n",
       "      <td>NaN</td>\n",
       "      <td>NaN</td>\n",
       "      <td>NaN</td>\n",
       "      <td>NaN</td>\n",
       "    </tr>\n",
       "  </tbody>\n",
       "</table>\n",
       "</div>"
      ],
      "text/plain": [
       "                                                                             1999  \\\n",
       "CODDEPTO DEPARTAMENTO CODMPIO MUNICIPIO                                             \n",
       "91.0     AMAZONAS     91263.0 EL ENCANTO (Cor. Departamental)                 NaN   \n",
       "                      91405.0 LA CHORRERA (Cor. Departamental)                NaN   \n",
       "                      91407.0 LA PEDRERA (Cor. Departamental)                 NaN   \n",
       "                      91430.0 LA VICTORIA (Pacoa) (Cor. Departamental)        NaN   \n",
       "                      91460.0 MIRITÍ-PARANÁ (Campoamor) (Cor. Departamental)  NaN   \n",
       "\n",
       "                                                                             2000  \\\n",
       "CODDEPTO DEPARTAMENTO CODMPIO MUNICIPIO                                             \n",
       "91.0     AMAZONAS     91263.0 EL ENCANTO (Cor. Departamental)                 NaN   \n",
       "                      91405.0 LA CHORRERA (Cor. Departamental)                NaN   \n",
       "                      91407.0 LA PEDRERA (Cor. Departamental)                 NaN   \n",
       "                      91430.0 LA VICTORIA (Pacoa) (Cor. Departamental)        NaN   \n",
       "                      91460.0 MIRITÍ-PARANÁ (Campoamor) (Cor. Departamental)  NaN   \n",
       "\n",
       "                                                                                2001  \\\n",
       "CODDEPTO DEPARTAMENTO CODMPIO MUNICIPIO                                                \n",
       "91.0     AMAZONAS     91263.0 EL ENCANTO (Cor. Departamental)                 191.82   \n",
       "                      91405.0 LA CHORRERA (Cor. Departamental)                 65.00   \n",
       "                      91407.0 LA PEDRERA (Cor. Departamental)                    NaN   \n",
       "                      91430.0 LA VICTORIA (Pacoa) (Cor. Departamental)           NaN   \n",
       "                      91460.0 MIRITÍ-PARANÁ (Campoamor) (Cor. Departamental)    6.00   \n",
       "\n",
       "                                                                                2002  \\\n",
       "CODDEPTO DEPARTAMENTO CODMPIO MUNICIPIO                                                \n",
       "91.0     AMAZONAS     91263.0 EL ENCANTO (Cor. Departamental)                 264.00   \n",
       "                      91405.0 LA CHORRERA (Cor. Departamental)                236.00   \n",
       "                      91407.0 LA PEDRERA (Cor. Departamental)                    NaN   \n",
       "                      91430.0 LA VICTORIA (Pacoa) (Cor. Departamental)           NaN   \n",
       "                      91460.0 MIRITÍ-PARANÁ (Campoamor) (Cor. Departamental)   43.00   \n",
       "\n",
       "                                                                                2003  \\\n",
       "CODDEPTO DEPARTAMENTO CODMPIO MUNICIPIO                                                \n",
       "91.0     AMAZONAS     91263.0 EL ENCANTO (Cor. Departamental)                 164.00   \n",
       "                      91405.0 LA CHORRERA (Cor. Departamental)                209.00   \n",
       "                      91407.0 LA PEDRERA (Cor. Departamental)                    NaN   \n",
       "                      91430.0 LA VICTORIA (Pacoa) (Cor. Departamental)           NaN   \n",
       "                      91460.0 MIRITÍ-PARANÁ (Campoamor) (Cor. Departamental)   36.18   \n",
       "\n",
       "                                                                                2004  \\\n",
       "CODDEPTO DEPARTAMENTO CODMPIO MUNICIPIO                                                \n",
       "91.0     AMAZONAS     91263.0 EL ENCANTO (Cor. Departamental)                 270.00   \n",
       "                      91405.0 LA CHORRERA (Cor. Departamental)                271.00   \n",
       "                      91407.0 LA PEDRERA (Cor. Departamental)                    NaN   \n",
       "                      91430.0 LA VICTORIA (Pacoa) (Cor. Departamental)           NaN   \n",
       "                      91460.0 MIRITÍ-PARANÁ (Campoamor) (Cor. Departamental)   30.00   \n",
       "\n",
       "                                                                                2005  \\\n",
       "CODDEPTO DEPARTAMENTO CODMPIO MUNICIPIO                                                \n",
       "91.0     AMAZONAS     91263.0 EL ENCANTO (Cor. Departamental)                 382.00   \n",
       "                      91405.0 LA CHORRERA (Cor. Departamental)                257.00   \n",
       "                      91407.0 LA PEDRERA (Cor. Departamental)                    NaN   \n",
       "                      91430.0 LA VICTORIA (Pacoa) (Cor. Departamental)           NaN   \n",
       "                      91460.0 MIRITÍ-PARANÁ (Campoamor) (Cor. Departamental)   12.00   \n",
       "\n",
       "                                                                                2006  \\\n",
       "CODDEPTO DEPARTAMENTO CODMPIO MUNICIPIO                                                \n",
       "91.0     AMAZONAS     91263.0 EL ENCANTO (Cor. Departamental)                 233.00   \n",
       "                      91405.0 LA CHORRERA (Cor. Departamental)                223.00   \n",
       "                      91407.0 LA PEDRERA (Cor. Departamental)                    NaN   \n",
       "                      91430.0 LA VICTORIA (Pacoa) (Cor. Departamental)           NaN   \n",
       "                      91460.0 MIRITÍ-PARANÁ (Campoamor) (Cor. Departamental)    4.00   \n",
       "\n",
       "                                                                                2007  \\\n",
       "CODDEPTO DEPARTAMENTO CODMPIO MUNICIPIO                                                \n",
       "91.0     AMAZONAS     91263.0 EL ENCANTO (Cor. Departamental)                 186.00   \n",
       "                      91405.0 LA CHORRERA (Cor. Departamental)                132.00   \n",
       "                      91407.0 LA PEDRERA (Cor. Departamental)                    NaN   \n",
       "                      91430.0 LA VICTORIA (Pacoa) (Cor. Departamental)           NaN   \n",
       "                      91460.0 MIRITÍ-PARANÁ (Campoamor) (Cor. Departamental)    9.00   \n",
       "\n",
       "                                                                                2008  \\\n",
       "CODDEPTO DEPARTAMENTO CODMPIO MUNICIPIO                                                \n",
       "91.0     AMAZONAS     91263.0 EL ENCANTO (Cor. Departamental)                 349.00   \n",
       "                      91405.0 LA CHORRERA (Cor. Departamental)                349.00   \n",
       "                      91407.0 LA PEDRERA (Cor. Departamental)                    NaN   \n",
       "                      91430.0 LA VICTORIA (Pacoa) (Cor. Departamental)           NaN   \n",
       "                      91460.0 MIRITÍ-PARANÁ (Campoamor) (Cor. Departamental)    2.00   \n",
       "\n",
       "                                                                                2009  \\\n",
       "CODDEPTO DEPARTAMENTO CODMPIO MUNICIPIO                                                \n",
       "91.0     AMAZONAS     91263.0 EL ENCANTO (Cor. Departamental)                 109.00   \n",
       "                      91405.0 LA CHORRERA (Cor. Departamental)                 81.00   \n",
       "                      91407.0 LA PEDRERA (Cor. Departamental)                   7.00   \n",
       "                      91430.0 LA VICTORIA (Pacoa) (Cor. Departamental)          2.00   \n",
       "                      91460.0 MIRITÍ-PARANÁ (Campoamor) (Cor. Departamental)    4.00   \n",
       "\n",
       "                                                                                2010  \\\n",
       "CODDEPTO DEPARTAMENTO CODMPIO MUNICIPIO                                                \n",
       "91.0     AMAZONAS     91263.0 EL ENCANTO (Cor. Departamental)                  81.00   \n",
       "                      91405.0 LA CHORRERA (Cor. Departamental)                113.00   \n",
       "                      91407.0 LA PEDRERA (Cor. Departamental)                  12.00   \n",
       "                      91430.0 LA VICTORIA (Pacoa) (Cor. Departamental)         10.00   \n",
       "                      91460.0 MIRITÍ-PARANÁ (Campoamor) (Cor. Departamental)   15.00   \n",
       "\n",
       "                                                                               2011  \\\n",
       "CODDEPTO DEPARTAMENTO CODMPIO MUNICIPIO                                               \n",
       "91.0     AMAZONAS     91263.0 EL ENCANTO (Cor. Departamental)                 35.00   \n",
       "                      91405.0 LA CHORRERA (Cor. Departamental)                36.00   \n",
       "                      91407.0 LA PEDRERA (Cor. Departamental)                   NaN   \n",
       "                      91430.0 LA VICTORIA (Pacoa) (Cor. Departamental)          NaN   \n",
       "                      91460.0 MIRITÍ-PARANÁ (Campoamor) (Cor. Departamental)    NaN   \n",
       "\n",
       "                                                                               2012  \\\n",
       "CODDEPTO DEPARTAMENTO CODMPIO MUNICIPIO                                               \n",
       "91.0     AMAZONAS     91263.0 EL ENCANTO (Cor. Departamental)                 16.00   \n",
       "                      91405.0 LA CHORRERA (Cor. Departamental)                22.00   \n",
       "                      91407.0 LA PEDRERA (Cor. Departamental)                  1.00   \n",
       "                      91430.0 LA VICTORIA (Pacoa) (Cor. Departamental)          NaN   \n",
       "                      91460.0 MIRITÍ-PARANÁ (Campoamor) (Cor. Departamental)   5.00   \n",
       "\n",
       "                                                                               2013  \\\n",
       "CODDEPTO DEPARTAMENTO CODMPIO MUNICIPIO                                               \n",
       "91.0     AMAZONAS     91263.0 EL ENCANTO (Cor. Departamental)                  8.00   \n",
       "                      91405.0 LA CHORRERA (Cor. Departamental)                25.00   \n",
       "                      91407.0 LA PEDRERA (Cor. Departamental)                   NaN   \n",
       "                      91430.0 LA VICTORIA (Pacoa) (Cor. Departamental)          NaN   \n",
       "                      91460.0 MIRITÍ-PARANÁ (Campoamor) (Cor. Departamental)    NaN   \n",
       "\n",
       "                                                                               2014  \\\n",
       "CODDEPTO DEPARTAMENTO CODMPIO MUNICIPIO                                               \n",
       "91.0     AMAZONAS     91263.0 EL ENCANTO (Cor. Departamental)                 20.00   \n",
       "                      91405.0 LA CHORRERA (Cor. Departamental)                51.00   \n",
       "                      91407.0 LA PEDRERA (Cor. Departamental)                   NaN   \n",
       "                      91430.0 LA VICTORIA (Pacoa) (Cor. Departamental)          NaN   \n",
       "                      91460.0 MIRITÍ-PARANÁ (Campoamor) (Cor. Departamental)    NaN   \n",
       "\n",
       "                                                                               2015  \\\n",
       "CODDEPTO DEPARTAMENTO CODMPIO MUNICIPIO                                               \n",
       "91.0     AMAZONAS     91263.0 EL ENCANTO (Cor. Departamental)                 11.77   \n",
       "                      91405.0 LA CHORRERA (Cor. Departamental)                13.61   \n",
       "                      91407.0 LA PEDRERA (Cor. Departamental)                   NaN   \n",
       "                      91430.0 LA VICTORIA (Pacoa) (Cor. Departamental)          NaN   \n",
       "                      91460.0 MIRITÍ-PARANÁ (Campoamor) (Cor. Departamental)    NaN   \n",
       "\n",
       "                                                                               2016  \\\n",
       "CODDEPTO DEPARTAMENTO CODMPIO MUNICIPIO                                               \n",
       "91.0     AMAZONAS     91263.0 EL ENCANTO (Cor. Departamental)                 12.65   \n",
       "                      91405.0 LA CHORRERA (Cor. Departamental)                14.09   \n",
       "                      91407.0 LA PEDRERA (Cor. Departamental)                   NaN   \n",
       "                      91430.0 LA VICTORIA (Pacoa) (Cor. Departamental)          NaN   \n",
       "                      91460.0 MIRITÍ-PARANÁ (Campoamor) (Cor. Departamental)    NaN   \n",
       "\n",
       "                                                                               2017  \\\n",
       "CODDEPTO DEPARTAMENTO CODMPIO MUNICIPIO                                               \n",
       "91.0     AMAZONAS     91263.0 EL ENCANTO (Cor. Departamental)                  8.04   \n",
       "                      91405.0 LA CHORRERA (Cor. Departamental)                18.20   \n",
       "                      91407.0 LA PEDRERA (Cor. Departamental)                   NaN   \n",
       "                      91430.0 LA VICTORIA (Pacoa) (Cor. Departamental)          NaN   \n",
       "                      91460.0 MIRITÍ-PARANÁ (Campoamor) (Cor. Departamental)    NaN   \n",
       "\n",
       "                                                                              2018  \n",
       "CODDEPTO DEPARTAMENTO CODMPIO MUNICIPIO                                             \n",
       "91.0     AMAZONAS     91263.0 EL ENCANTO (Cor. Departamental)                 4.12  \n",
       "                      91405.0 LA CHORRERA (Cor. Departamental)                6.04  \n",
       "                      91407.0 LA PEDRERA (Cor. Departamental)                  NaN  \n",
       "                      91430.0 LA VICTORIA (Pacoa) (Cor. Departamental)         NaN  \n",
       "                      91460.0 MIRITÍ-PARANÁ (Campoamor) (Cor. Departamental)   NaN  "
      ]
     },
     "execution_count": 9,
     "metadata": {},
     "output_type": "execute_result"
    }
   ],
   "source": [
    "df_coca.head()"
   ]
  },
  {
   "cell_type": "markdown",
   "metadata": {},
   "source": [
    "### Arreglar la base de datos"
   ]
  },
  {
   "cell_type": "code",
   "execution_count": 10,
   "metadata": {},
   "outputs": [],
   "source": [
    "df_coca = df_coca.stack()"
   ]
  },
  {
   "cell_type": "code",
   "execution_count": 11,
   "metadata": {
    "scrolled": true
   },
   "outputs": [
    {
     "data": {
      "text/plain": [
       "CODDEPTO  DEPARTAMENTO  CODMPIO  MUNICIPIO                            \n",
       "91.0      AMAZONAS      91263.0  EL ENCANTO (Cor. Departamental)  2001    191.82\n",
       "                                                                  2002    264.00\n",
       "                                                                  2003    164.00\n",
       "                                                                  2004    270.00\n",
       "                                                                  2005    382.00\n",
       "dtype: object"
      ]
     },
     "execution_count": 11,
     "metadata": {},
     "output_type": "execute_result"
    }
   ],
   "source": [
    "df_coca.head()"
   ]
  },
  {
   "cell_type": "markdown",
   "metadata": {},
   "source": [
    "### Eliminar indices "
   ]
  },
  {
   "cell_type": "code",
   "execution_count": 12,
   "metadata": {},
   "outputs": [],
   "source": [
    "df_coca = df_coca.reset_index()"
   ]
  },
  {
   "cell_type": "code",
   "execution_count": 13,
   "metadata": {
    "scrolled": true
   },
   "outputs": [
    {
     "data": {
      "text/html": [
       "<div>\n",
       "<style scoped>\n",
       "    .dataframe tbody tr th:only-of-type {\n",
       "        vertical-align: middle;\n",
       "    }\n",
       "\n",
       "    .dataframe tbody tr th {\n",
       "        vertical-align: top;\n",
       "    }\n",
       "\n",
       "    .dataframe thead th {\n",
       "        text-align: right;\n",
       "    }\n",
       "</style>\n",
       "<table border=\"1\" class=\"dataframe\">\n",
       "  <thead>\n",
       "    <tr style=\"text-align: right;\">\n",
       "      <th></th>\n",
       "      <th>CODDEPTO</th>\n",
       "      <th>DEPARTAMENTO</th>\n",
       "      <th>CODMPIO</th>\n",
       "      <th>MUNICIPIO</th>\n",
       "      <th>level_4</th>\n",
       "      <th>0</th>\n",
       "    </tr>\n",
       "  </thead>\n",
       "  <tbody>\n",
       "    <tr>\n",
       "      <th>0</th>\n",
       "      <td>91.0</td>\n",
       "      <td>AMAZONAS</td>\n",
       "      <td>91263.0</td>\n",
       "      <td>EL ENCANTO (Cor. Departamental)</td>\n",
       "      <td>2001</td>\n",
       "      <td>191.82</td>\n",
       "    </tr>\n",
       "    <tr>\n",
       "      <th>1</th>\n",
       "      <td>91.0</td>\n",
       "      <td>AMAZONAS</td>\n",
       "      <td>91263.0</td>\n",
       "      <td>EL ENCANTO (Cor. Departamental)</td>\n",
       "      <td>2002</td>\n",
       "      <td>264.00</td>\n",
       "    </tr>\n",
       "    <tr>\n",
       "      <th>2</th>\n",
       "      <td>91.0</td>\n",
       "      <td>AMAZONAS</td>\n",
       "      <td>91263.0</td>\n",
       "      <td>EL ENCANTO (Cor. Departamental)</td>\n",
       "      <td>2003</td>\n",
       "      <td>164.00</td>\n",
       "    </tr>\n",
       "    <tr>\n",
       "      <th>3</th>\n",
       "      <td>91.0</td>\n",
       "      <td>AMAZONAS</td>\n",
       "      <td>91263.0</td>\n",
       "      <td>EL ENCANTO (Cor. Departamental)</td>\n",
       "      <td>2004</td>\n",
       "      <td>270.00</td>\n",
       "    </tr>\n",
       "    <tr>\n",
       "      <th>4</th>\n",
       "      <td>91.0</td>\n",
       "      <td>AMAZONAS</td>\n",
       "      <td>91263.0</td>\n",
       "      <td>EL ENCANTO (Cor. Departamental)</td>\n",
       "      <td>2005</td>\n",
       "      <td>382.00</td>\n",
       "    </tr>\n",
       "  </tbody>\n",
       "</table>\n",
       "</div>"
      ],
      "text/plain": [
       "   CODDEPTO DEPARTAMENTO  CODMPIO                        MUNICIPIO level_4  \\\n",
       "0      91.0     AMAZONAS  91263.0  EL ENCANTO (Cor. Departamental)    2001   \n",
       "1      91.0     AMAZONAS  91263.0  EL ENCANTO (Cor. Departamental)    2002   \n",
       "2      91.0     AMAZONAS  91263.0  EL ENCANTO (Cor. Departamental)    2003   \n",
       "3      91.0     AMAZONAS  91263.0  EL ENCANTO (Cor. Departamental)    2004   \n",
       "4      91.0     AMAZONAS  91263.0  EL ENCANTO (Cor. Departamental)    2005   \n",
       "\n",
       "        0  \n",
       "0  191.82  \n",
       "1  264.00  \n",
       "2  164.00  \n",
       "3  270.00  \n",
       "4  382.00  "
      ]
     },
     "execution_count": 13,
     "metadata": {},
     "output_type": "execute_result"
    }
   ],
   "source": [
    "df_coca.head()"
   ]
  },
  {
   "cell_type": "markdown",
   "metadata": {},
   "source": [
    "### Cambiar nombres"
   ]
  },
  {
   "cell_type": "code",
   "execution_count": 14,
   "metadata": {},
   "outputs": [],
   "source": [
    "df_coca.columns = ['CODDEPTO', 'DEPARTAMENTO', 'CODMPIO', 'MUNICIPIO', 'AÑO', 'TOTAL CULTIVOS']"
   ]
  },
  {
   "cell_type": "code",
   "execution_count": 15,
   "metadata": {},
   "outputs": [
    {
     "data": {
      "text/html": [
       "<div>\n",
       "<style scoped>\n",
       "    .dataframe tbody tr th:only-of-type {\n",
       "        vertical-align: middle;\n",
       "    }\n",
       "\n",
       "    .dataframe tbody tr th {\n",
       "        vertical-align: top;\n",
       "    }\n",
       "\n",
       "    .dataframe thead th {\n",
       "        text-align: right;\n",
       "    }\n",
       "</style>\n",
       "<table border=\"1\" class=\"dataframe\">\n",
       "  <thead>\n",
       "    <tr style=\"text-align: right;\">\n",
       "      <th></th>\n",
       "      <th>CODDEPTO</th>\n",
       "      <th>DEPARTAMENTO</th>\n",
       "      <th>CODMPIO</th>\n",
       "      <th>MUNICIPIO</th>\n",
       "      <th>AÑO</th>\n",
       "      <th>TOTAL CULTIVOS</th>\n",
       "    </tr>\n",
       "  </thead>\n",
       "  <tbody>\n",
       "    <tr>\n",
       "      <th>0</th>\n",
       "      <td>91.0</td>\n",
       "      <td>AMAZONAS</td>\n",
       "      <td>91263.0</td>\n",
       "      <td>EL ENCANTO (Cor. Departamental)</td>\n",
       "      <td>2001</td>\n",
       "      <td>191.82</td>\n",
       "    </tr>\n",
       "    <tr>\n",
       "      <th>1</th>\n",
       "      <td>91.0</td>\n",
       "      <td>AMAZONAS</td>\n",
       "      <td>91263.0</td>\n",
       "      <td>EL ENCANTO (Cor. Departamental)</td>\n",
       "      <td>2002</td>\n",
       "      <td>264.00</td>\n",
       "    </tr>\n",
       "    <tr>\n",
       "      <th>2</th>\n",
       "      <td>91.0</td>\n",
       "      <td>AMAZONAS</td>\n",
       "      <td>91263.0</td>\n",
       "      <td>EL ENCANTO (Cor. Departamental)</td>\n",
       "      <td>2003</td>\n",
       "      <td>164.00</td>\n",
       "    </tr>\n",
       "    <tr>\n",
       "      <th>3</th>\n",
       "      <td>91.0</td>\n",
       "      <td>AMAZONAS</td>\n",
       "      <td>91263.0</td>\n",
       "      <td>EL ENCANTO (Cor. Departamental)</td>\n",
       "      <td>2004</td>\n",
       "      <td>270.00</td>\n",
       "    </tr>\n",
       "    <tr>\n",
       "      <th>4</th>\n",
       "      <td>91.0</td>\n",
       "      <td>AMAZONAS</td>\n",
       "      <td>91263.0</td>\n",
       "      <td>EL ENCANTO (Cor. Departamental)</td>\n",
       "      <td>2005</td>\n",
       "      <td>382.00</td>\n",
       "    </tr>\n",
       "  </tbody>\n",
       "</table>\n",
       "</div>"
      ],
      "text/plain": [
       "   CODDEPTO DEPARTAMENTO  CODMPIO                        MUNICIPIO   AÑO  \\\n",
       "0      91.0     AMAZONAS  91263.0  EL ENCANTO (Cor. Departamental)  2001   \n",
       "1      91.0     AMAZONAS  91263.0  EL ENCANTO (Cor. Departamental)  2002   \n",
       "2      91.0     AMAZONAS  91263.0  EL ENCANTO (Cor. Departamental)  2003   \n",
       "3      91.0     AMAZONAS  91263.0  EL ENCANTO (Cor. Departamental)  2004   \n",
       "4      91.0     AMAZONAS  91263.0  EL ENCANTO (Cor. Departamental)  2005   \n",
       "\n",
       "  TOTAL CULTIVOS  \n",
       "0         191.82  \n",
       "1         264.00  \n",
       "2         164.00  \n",
       "3         270.00  \n",
       "4         382.00  "
      ]
     },
     "execution_count": 15,
     "metadata": {},
     "output_type": "execute_result"
    }
   ],
   "source": [
    "df_coca.head()"
   ]
  },
  {
   "cell_type": "markdown",
   "metadata": {},
   "source": [
    "### Automatizar lectura de archivos sobre erradicación"
   ]
  },
  {
   "cell_type": "code",
   "execution_count": 55,
   "metadata": {
    "scrolled": false
   },
   "outputs": [
    {
     "data": {
      "text/html": [
       "<div>\n",
       "<style scoped>\n",
       "    .dataframe tbody tr th:only-of-type {\n",
       "        vertical-align: middle;\n",
       "    }\n",
       "\n",
       "    .dataframe tbody tr th {\n",
       "        vertical-align: top;\n",
       "    }\n",
       "\n",
       "    .dataframe thead th {\n",
       "        text-align: right;\n",
       "    }\n",
       "</style>\n",
       "<table border=\"1\" class=\"dataframe\">\n",
       "  <thead>\n",
       "    <tr style=\"text-align: right;\">\n",
       "      <th></th>\n",
       "      <th>CODDEPTO</th>\n",
       "      <th>DEPARTAMENTO</th>\n",
       "      <th>CODMPIO</th>\n",
       "      <th>MUNICIPIO</th>\n",
       "      <th>AÑO</th>\n",
       "      <th>TOTAL ERRADICACIÓN</th>\n",
       "    </tr>\n",
       "  </thead>\n",
       "  <tbody>\n",
       "    <tr>\n",
       "      <th>105</th>\n",
       "      <td>95</td>\n",
       "      <td>GUAVIARE</td>\n",
       "      <td>95001</td>\n",
       "      <td>SAN JOSÉ DEL GUAVIARE</td>\n",
       "      <td>2015</td>\n",
       "      <td>812.02</td>\n",
       "    </tr>\n",
       "    <tr>\n",
       "      <th>106</th>\n",
       "      <td>95</td>\n",
       "      <td>GUAVIARE</td>\n",
       "      <td>95015</td>\n",
       "      <td>CALAMAR</td>\n",
       "      <td>2015</td>\n",
       "      <td>301.91</td>\n",
       "    </tr>\n",
       "    <tr>\n",
       "      <th>107</th>\n",
       "      <td>95</td>\n",
       "      <td>GUAVIARE</td>\n",
       "      <td>95025</td>\n",
       "      <td>EL RETORNO</td>\n",
       "      <td>2015</td>\n",
       "      <td>519.45</td>\n",
       "    </tr>\n",
       "    <tr>\n",
       "      <th>108</th>\n",
       "      <td>95</td>\n",
       "      <td>GUAVIARE</td>\n",
       "      <td>95200</td>\n",
       "      <td>MIRAFLORES</td>\n",
       "      <td>2015</td>\n",
       "      <td>1,816.67</td>\n",
       "    </tr>\n",
       "    <tr>\n",
       "      <th>109</th>\n",
       "      <td>99</td>\n",
       "      <td>VICHADA</td>\n",
       "      <td>99773</td>\n",
       "      <td>CUMARIBO</td>\n",
       "      <td>2015</td>\n",
       "      <td>103.06</td>\n",
       "    </tr>\n",
       "  </tbody>\n",
       "</table>\n",
       "</div>"
      ],
      "text/plain": [
       "     CODDEPTO DEPARTAMENTO  CODMPIO              MUNICIPIO   AÑO  \\\n",
       "105        95     GUAVIARE    95001  SAN JOSÉ DEL GUAVIARE  2015   \n",
       "106        95     GUAVIARE    95015                CALAMAR  2015   \n",
       "107        95     GUAVIARE    95025             EL RETORNO  2015   \n",
       "108        95     GUAVIARE    95200             MIRAFLORES  2015   \n",
       "109        99      VICHADA    99773               CUMARIBO  2015   \n",
       "\n",
       "    TOTAL ERRADICACIÓN  \n",
       "105             812.02  \n",
       "106             301.91  \n",
       "107             519.45  \n",
       "108           1,816.67  \n",
       "109             103.06  "
      ]
     },
     "execution_count": 55,
     "metadata": {},
     "output_type": "execute_result"
    }
   ],
   "source": [
    "lista_area = [a for a in os.listdir() if a[13:18] == 'Aerea']\n",
    "df_erradicacion = pd.DataFrame()\n",
    "for l in lista_area:\n",
    "    df1 = pd.read_csv(l)\n",
    "    df1 = df1.set_index(['CODDEPTO', 'DEPARTAMENTO', 'CODMPIO', 'MUNICIPIO'])\n",
    "    df1 = df1.stack()\n",
    "    df1 = df1.reset_index()\n",
    "    df1.columns = ['CODDEPTO', 'DEPARTAMENTO', 'CODMPIO', 'MUNICIPIO', 'AÑO', 'TOTAL ERRADICACIÓN']\n",
    "    df_erradicacion = df_erradicacion.append(df1)\n",
    "df_erradicacion.tail()"
   ]
  },
  {
   "cell_type": "markdown",
   "metadata": {},
   "source": [
    "### Join entre bases de datos coca, erradicación"
   ]
  },
  {
   "cell_type": "code",
   "execution_count": 59,
   "metadata": {},
   "outputs": [],
   "source": [
    "df_coca = df_coca.set_index(['CODMPIO', 'AÑO']).join(df_erradicacion.set_index(['CODMPIO', 'AÑO'])['TOTAL ERRADICACIÓN'])"
   ]
  },
  {
   "cell_type": "code",
   "execution_count": 60,
   "metadata": {},
   "outputs": [
    {
     "data": {
      "text/html": [
       "<div>\n",
       "<style scoped>\n",
       "    .dataframe tbody tr th:only-of-type {\n",
       "        vertical-align: middle;\n",
       "    }\n",
       "\n",
       "    .dataframe tbody tr th {\n",
       "        vertical-align: top;\n",
       "    }\n",
       "\n",
       "    .dataframe thead th {\n",
       "        text-align: right;\n",
       "    }\n",
       "</style>\n",
       "<table border=\"1\" class=\"dataframe\">\n",
       "  <thead>\n",
       "    <tr style=\"text-align: right;\">\n",
       "      <th></th>\n",
       "      <th></th>\n",
       "      <th>CODDEPTO</th>\n",
       "      <th>DEPARTAMENTO</th>\n",
       "      <th>MUNICIPIO</th>\n",
       "      <th>TOTAL CULTIVOS</th>\n",
       "      <th>TOTAL ERRADICACIÓN</th>\n",
       "    </tr>\n",
       "    <tr>\n",
       "      <th>CODMPIO</th>\n",
       "      <th>AÑO</th>\n",
       "      <th></th>\n",
       "      <th></th>\n",
       "      <th></th>\n",
       "      <th></th>\n",
       "      <th></th>\n",
       "    </tr>\n",
       "  </thead>\n",
       "  <tbody>\n",
       "    <tr>\n",
       "      <th rowspan=\"5\" valign=\"top\">91263.0</th>\n",
       "      <th>2001</th>\n",
       "      <td>91.0</td>\n",
       "      <td>AMAZONAS</td>\n",
       "      <td>EL ENCANTO (Cor. Departamental)</td>\n",
       "      <td>191.82</td>\n",
       "      <td>NaN</td>\n",
       "    </tr>\n",
       "    <tr>\n",
       "      <th>2002</th>\n",
       "      <td>91.0</td>\n",
       "      <td>AMAZONAS</td>\n",
       "      <td>EL ENCANTO (Cor. Departamental)</td>\n",
       "      <td>264.00</td>\n",
       "      <td>NaN</td>\n",
       "    </tr>\n",
       "    <tr>\n",
       "      <th>2003</th>\n",
       "      <td>91.0</td>\n",
       "      <td>AMAZONAS</td>\n",
       "      <td>EL ENCANTO (Cor. Departamental)</td>\n",
       "      <td>164.00</td>\n",
       "      <td>NaN</td>\n",
       "    </tr>\n",
       "    <tr>\n",
       "      <th>2004</th>\n",
       "      <td>91.0</td>\n",
       "      <td>AMAZONAS</td>\n",
       "      <td>EL ENCANTO (Cor. Departamental)</td>\n",
       "      <td>270.00</td>\n",
       "      <td>NaN</td>\n",
       "    </tr>\n",
       "    <tr>\n",
       "      <th>2005</th>\n",
       "      <td>91.0</td>\n",
       "      <td>AMAZONAS</td>\n",
       "      <td>EL ENCANTO (Cor. Departamental)</td>\n",
       "      <td>382.00</td>\n",
       "      <td>NaN</td>\n",
       "    </tr>\n",
       "    <tr>\n",
       "      <th>...</th>\n",
       "      <th>...</th>\n",
       "      <td>...</td>\n",
       "      <td>...</td>\n",
       "      <td>...</td>\n",
       "      <td>...</td>\n",
       "      <td>...</td>\n",
       "    </tr>\n",
       "    <tr>\n",
       "      <th rowspan=\"3\" valign=\"top\">99524.0</th>\n",
       "      <th>2012</th>\n",
       "      <td>99.0</td>\n",
       "      <td>VICHADA</td>\n",
       "      <td>LA PRIMAVERA</td>\n",
       "      <td>8.00</td>\n",
       "      <td>NaN</td>\n",
       "    </tr>\n",
       "    <tr>\n",
       "      <th>2013</th>\n",
       "      <td>99.0</td>\n",
       "      <td>VICHADA</td>\n",
       "      <td>LA PRIMAVERA</td>\n",
       "      <td>3.00</td>\n",
       "      <td>NaN</td>\n",
       "    </tr>\n",
       "    <tr>\n",
       "      <th>2014</th>\n",
       "      <td>99.0</td>\n",
       "      <td>VICHADA</td>\n",
       "      <td>LA PRIMAVERA</td>\n",
       "      <td>4.00</td>\n",
       "      <td>NaN</td>\n",
       "    </tr>\n",
       "    <tr>\n",
       "      <th rowspan=\"2\" valign=\"top\">99624.0</th>\n",
       "      <th>2007</th>\n",
       "      <td>99.0</td>\n",
       "      <td>VICHADA</td>\n",
       "      <td>SANTA ROSALÍA</td>\n",
       "      <td>1.00</td>\n",
       "      <td>NaN</td>\n",
       "    </tr>\n",
       "    <tr>\n",
       "      <th>2009</th>\n",
       "      <td>99.0</td>\n",
       "      <td>VICHADA</td>\n",
       "      <td>SANTA ROSALÍA</td>\n",
       "      <td>12.00</td>\n",
       "      <td>NaN</td>\n",
       "    </tr>\n",
       "  </tbody>\n",
       "</table>\n",
       "<p>3766 rows × 5 columns</p>\n",
       "</div>"
      ],
      "text/plain": [
       "              CODDEPTO DEPARTAMENTO                        MUNICIPIO  \\\n",
       "CODMPIO AÑO                                                            \n",
       "91263.0 2001      91.0     AMAZONAS  EL ENCANTO (Cor. Departamental)   \n",
       "        2002      91.0     AMAZONAS  EL ENCANTO (Cor. Departamental)   \n",
       "        2003      91.0     AMAZONAS  EL ENCANTO (Cor. Departamental)   \n",
       "        2004      91.0     AMAZONAS  EL ENCANTO (Cor. Departamental)   \n",
       "        2005      91.0     AMAZONAS  EL ENCANTO (Cor. Departamental)   \n",
       "...                ...          ...                              ...   \n",
       "99524.0 2012      99.0      VICHADA                     LA PRIMAVERA   \n",
       "        2013      99.0      VICHADA                     LA PRIMAVERA   \n",
       "        2014      99.0      VICHADA                     LA PRIMAVERA   \n",
       "99624.0 2007      99.0      VICHADA                    SANTA ROSALÍA   \n",
       "        2009      99.0      VICHADA                    SANTA ROSALÍA   \n",
       "\n",
       "             TOTAL CULTIVOS TOTAL ERRADICACIÓN  \n",
       "CODMPIO AÑO                                     \n",
       "91263.0 2001         191.82                NaN  \n",
       "        2002         264.00                NaN  \n",
       "        2003         164.00                NaN  \n",
       "        2004         270.00                NaN  \n",
       "        2005         382.00                NaN  \n",
       "...                     ...                ...  \n",
       "99524.0 2012           8.00                NaN  \n",
       "        2013           3.00                NaN  \n",
       "        2014           4.00                NaN  \n",
       "99624.0 2007           1.00                NaN  \n",
       "        2009          12.00                NaN  \n",
       "\n",
       "[3766 rows x 5 columns]"
      ]
     },
     "execution_count": 60,
     "metadata": {},
     "output_type": "execute_result"
    }
   ],
   "source": [
    "df_coca"
   ]
  }
 ],
 "metadata": {
  "kernelspec": {
   "display_name": "Python 3",
   "language": "python",
   "name": "python3"
  },
  "language_info": {
   "codemirror_mode": {
    "name": "ipython",
    "version": 3
   },
   "file_extension": ".py",
   "mimetype": "text/x-python",
   "name": "python",
   "nbconvert_exporter": "python",
   "pygments_lexer": "ipython3",
   "version": "3.7.6"
  }
 },
 "nbformat": 4,
 "nbformat_minor": 4
}
