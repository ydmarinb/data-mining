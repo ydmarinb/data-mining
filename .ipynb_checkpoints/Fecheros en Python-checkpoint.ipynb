{
 "cells": [
  {
   "cell_type": "markdown",
   "metadata": {},
   "source": [
    "# Importación de librerias"
   ]
  },
  {
   "cell_type": "code",
   "execution_count": 1,
   "metadata": {
    "scrolled": true
   },
   "outputs": [],
   "source": [
    "#! pip install PyMySQL\n",
    "#! pip install pandas\n",
    "# ! pip install install xlrd para poder leer archivos de excel\n",
    "import pandas as pd\n",
    "import pymysql\n",
    "import os\n"
   ]
  },
  {
   "cell_type": "code",
   "execution_count": 5,
   "metadata": {},
   "outputs": [
    {
     "data": {
      "text/plain": [
       "'C:\\\\Users\\\\ydmar\\\\OneDrive\\\\Documentos\\\\CurosCienciasDatos\\\\01 - Mineria de datos\\\\01 - Ficheros'"
      ]
     },
     "execution_count": 5,
     "metadata": {},
     "output_type": "execute_result"
    }
   ],
   "source": [
    "#Saber directorio de trabajo\n",
    "os.getcwd()\n",
    "#cambiar directorio de trabajo\n",
    "#os.chdir()"
   ]
  },
  {
   "cell_type": "markdown",
   "metadata": {},
   "source": [
    "# Leer archivo de excel"
   ]
  },
  {
   "cell_type": "code",
   "execution_count": 13,
   "metadata": {},
   "outputs": [],
   "source": [
    "db_ventas = pd.read_excel('BasesDatos/ventas.xlsx')"
   ]
  },
  {
   "cell_type": "code",
   "execution_count": 14,
   "metadata": {
    "scrolled": false
   },
   "outputs": [
    {
     "data": {
      "text/html": [
       "<div>\n",
       "<style scoped>\n",
       "    .dataframe tbody tr th:only-of-type {\n",
       "        vertical-align: middle;\n",
       "    }\n",
       "\n",
       "    .dataframe tbody tr th {\n",
       "        vertical-align: top;\n",
       "    }\n",
       "\n",
       "    .dataframe thead th {\n",
       "        text-align: right;\n",
       "    }\n",
       "</style>\n",
       "<table border=\"1\" class=\"dataframe\">\n",
       "  <thead>\n",
       "    <tr style=\"text-align: right;\">\n",
       "      <th></th>\n",
       "      <th>NoFactura</th>\n",
       "      <th>Producto</th>\n",
       "      <th>Cantidad</th>\n",
       "      <th>FechaFactura</th>\n",
       "      <th>PrecioUnidad</th>\n",
       "      <th>Pais</th>\n",
       "    </tr>\n",
       "  </thead>\n",
       "  <tbody>\n",
       "    <tr>\n",
       "      <th>0</th>\n",
       "      <td>536365</td>\n",
       "      <td>WHITE HANGING HEART T-LIGHT HOLDER</td>\n",
       "      <td>6</td>\n",
       "      <td>2010-01-12 08:26:00</td>\n",
       "      <td>2.55</td>\n",
       "      <td>United Kingdom</td>\n",
       "    </tr>\n",
       "    <tr>\n",
       "      <th>1</th>\n",
       "      <td>536365</td>\n",
       "      <td>WHITE METAL LANTERN</td>\n",
       "      <td>6</td>\n",
       "      <td>2010-01-12 08:26:00</td>\n",
       "      <td>3.39</td>\n",
       "      <td>United Kingdom</td>\n",
       "    </tr>\n",
       "    <tr>\n",
       "      <th>2</th>\n",
       "      <td>536365</td>\n",
       "      <td>CREAM CUPID HEARTS COAT HANGER</td>\n",
       "      <td>8</td>\n",
       "      <td>2010-01-12 08:26:00</td>\n",
       "      <td>2.75</td>\n",
       "      <td>United Kingdom</td>\n",
       "    </tr>\n",
       "    <tr>\n",
       "      <th>3</th>\n",
       "      <td>536365</td>\n",
       "      <td>KNITTED UNION FLAG HOT WATER BOTTLE</td>\n",
       "      <td>6</td>\n",
       "      <td>2010-01-12 08:26:00</td>\n",
       "      <td>3.39</td>\n",
       "      <td>United Kingdom</td>\n",
       "    </tr>\n",
       "    <tr>\n",
       "      <th>4</th>\n",
       "      <td>536365</td>\n",
       "      <td>RED WOOLLY HOTTIE WHITE HEART.</td>\n",
       "      <td>6</td>\n",
       "      <td>2010-01-12 08:26:00</td>\n",
       "      <td>3.39</td>\n",
       "      <td>United Kingdom</td>\n",
       "    </tr>\n",
       "  </tbody>\n",
       "</table>\n",
       "</div>"
      ],
      "text/plain": [
       "  NoFactura                             Producto  Cantidad  \\\n",
       "0    536365   WHITE HANGING HEART T-LIGHT HOLDER         6   \n",
       "1    536365                  WHITE METAL LANTERN         6   \n",
       "2    536365       CREAM CUPID HEARTS COAT HANGER         8   \n",
       "3    536365  KNITTED UNION FLAG HOT WATER BOTTLE         6   \n",
       "4    536365       RED WOOLLY HOTTIE WHITE HEART.         6   \n",
       "\n",
       "          FechaFactura  PrecioUnidad            Pais  \n",
       "0  2010-01-12 08:26:00          2.55  United Kingdom  \n",
       "1  2010-01-12 08:26:00          3.39  United Kingdom  \n",
       "2  2010-01-12 08:26:00          2.75  United Kingdom  \n",
       "3  2010-01-12 08:26:00          3.39  United Kingdom  \n",
       "4  2010-01-12 08:26:00          3.39  United Kingdom  "
      ]
     },
     "execution_count": 14,
     "metadata": {},
     "output_type": "execute_result"
    }
   ],
   "source": [
    "db_ventas.head()"
   ]
  },
  {
   "cell_type": "markdown",
   "metadata": {},
   "source": [
    "# Leer archivo JSON"
   ]
  },
  {
   "cell_type": "code",
   "execution_count": 17,
   "metadata": {},
   "outputs": [],
   "source": [
    "db_aeropuertos = pd.read_json('BasesDatos/aeropuertos.json')"
   ]
  },
  {
   "cell_type": "code",
   "execution_count": 18,
   "metadata": {},
   "outputs": [
    {
     "data": {
      "text/html": [
       "<div>\n",
       "<style scoped>\n",
       "    .dataframe tbody tr th:only-of-type {\n",
       "        vertical-align: middle;\n",
       "    }\n",
       "\n",
       "    .dataframe tbody tr th {\n",
       "        vertical-align: top;\n",
       "    }\n",
       "\n",
       "    .dataframe thead th {\n",
       "        text-align: right;\n",
       "    }\n",
       "</style>\n",
       "<table border=\"1\" class=\"dataframe\">\n",
       "  <thead>\n",
       "    <tr style=\"text-align: right;\">\n",
       "      <th></th>\n",
       "      <th>continent</th>\n",
       "      <th>coordinates</th>\n",
       "      <th>elevation_ft</th>\n",
       "      <th>gps_code</th>\n",
       "      <th>iata_code</th>\n",
       "      <th>ident</th>\n",
       "      <th>iso_country</th>\n",
       "      <th>iso_region</th>\n",
       "      <th>local_code</th>\n",
       "      <th>municipality</th>\n",
       "      <th>name</th>\n",
       "      <th>type</th>\n",
       "    </tr>\n",
       "  </thead>\n",
       "  <tbody>\n",
       "    <tr>\n",
       "      <th>0</th>\n",
       "      <td>NA</td>\n",
       "      <td>-74.93360137939453, 40.07080078125</td>\n",
       "      <td>11.0</td>\n",
       "      <td>00A</td>\n",
       "      <td>None</td>\n",
       "      <td>00A</td>\n",
       "      <td>US</td>\n",
       "      <td>US-PA</td>\n",
       "      <td>00A</td>\n",
       "      <td>Bensalem</td>\n",
       "      <td>Total Rf Heliport</td>\n",
       "      <td>heliport</td>\n",
       "    </tr>\n",
       "    <tr>\n",
       "      <th>1</th>\n",
       "      <td>NA</td>\n",
       "      <td>-101.473911, 38.704022</td>\n",
       "      <td>3435.0</td>\n",
       "      <td>00AA</td>\n",
       "      <td>None</td>\n",
       "      <td>00AA</td>\n",
       "      <td>US</td>\n",
       "      <td>US-KS</td>\n",
       "      <td>00AA</td>\n",
       "      <td>Leoti</td>\n",
       "      <td>Aero B Ranch Airport</td>\n",
       "      <td>small_airport</td>\n",
       "    </tr>\n",
       "    <tr>\n",
       "      <th>2</th>\n",
       "      <td>NA</td>\n",
       "      <td>-151.695999146, 59.94919968</td>\n",
       "      <td>450.0</td>\n",
       "      <td>00AK</td>\n",
       "      <td>None</td>\n",
       "      <td>00AK</td>\n",
       "      <td>US</td>\n",
       "      <td>US-AK</td>\n",
       "      <td>00AK</td>\n",
       "      <td>Anchor Point</td>\n",
       "      <td>Lowell Field</td>\n",
       "      <td>small_airport</td>\n",
       "    </tr>\n",
       "    <tr>\n",
       "      <th>3</th>\n",
       "      <td>NA</td>\n",
       "      <td>-86.77030181884766, 34.86479949951172</td>\n",
       "      <td>820.0</td>\n",
       "      <td>00AL</td>\n",
       "      <td>None</td>\n",
       "      <td>00AL</td>\n",
       "      <td>US</td>\n",
       "      <td>US-AL</td>\n",
       "      <td>00AL</td>\n",
       "      <td>Harvest</td>\n",
       "      <td>Epps Airpark</td>\n",
       "      <td>small_airport</td>\n",
       "    </tr>\n",
       "    <tr>\n",
       "      <th>4</th>\n",
       "      <td>NA</td>\n",
       "      <td>-91.254898, 35.6087</td>\n",
       "      <td>237.0</td>\n",
       "      <td>None</td>\n",
       "      <td>None</td>\n",
       "      <td>00AR</td>\n",
       "      <td>US</td>\n",
       "      <td>US-AR</td>\n",
       "      <td>None</td>\n",
       "      <td>Newport</td>\n",
       "      <td>Newport Hospital &amp; Clinic Heliport</td>\n",
       "      <td>closed</td>\n",
       "    </tr>\n",
       "  </tbody>\n",
       "</table>\n",
       "</div>"
      ],
      "text/plain": [
       "  continent                            coordinates  elevation_ft gps_code  \\\n",
       "0        NA     -74.93360137939453, 40.07080078125          11.0      00A   \n",
       "1        NA                 -101.473911, 38.704022        3435.0     00AA   \n",
       "2        NA            -151.695999146, 59.94919968         450.0     00AK   \n",
       "3        NA  -86.77030181884766, 34.86479949951172         820.0     00AL   \n",
       "4        NA                    -91.254898, 35.6087         237.0     None   \n",
       "\n",
       "  iata_code ident iso_country iso_region local_code  municipality  \\\n",
       "0      None   00A          US      US-PA        00A      Bensalem   \n",
       "1      None  00AA          US      US-KS       00AA         Leoti   \n",
       "2      None  00AK          US      US-AK       00AK  Anchor Point   \n",
       "3      None  00AL          US      US-AL       00AL       Harvest   \n",
       "4      None  00AR          US      US-AR       None       Newport   \n",
       "\n",
       "                                 name           type  \n",
       "0                   Total Rf Heliport       heliport  \n",
       "1                Aero B Ranch Airport  small_airport  \n",
       "2                        Lowell Field  small_airport  \n",
       "3                        Epps Airpark  small_airport  \n",
       "4  Newport Hospital & Clinic Heliport         closed  "
      ]
     },
     "execution_count": 18,
     "metadata": {},
     "output_type": "execute_result"
    }
   ],
   "source": [
    "db_aeropuertos.head()"
   ]
  },
  {
   "cell_type": "markdown",
   "metadata": {},
   "source": [
    "# Leer archivo csv"
   ]
  },
  {
   "cell_type": "code",
   "execution_count": 19,
   "metadata": {},
   "outputs": [],
   "source": [
    "db_ciudades = pd.read_csv('BasesDatos/majorCities.csv')"
   ]
  },
  {
   "cell_type": "code",
   "execution_count": 20,
   "metadata": {},
   "outputs": [
    {
     "data": {
      "text/html": [
       "<div>\n",
       "<style scoped>\n",
       "    .dataframe tbody tr th:only-of-type {\n",
       "        vertical-align: middle;\n",
       "    }\n",
       "\n",
       "    .dataframe tbody tr th {\n",
       "        vertical-align: top;\n",
       "    }\n",
       "\n",
       "    .dataframe thead th {\n",
       "        text-align: right;\n",
       "    }\n",
       "</style>\n",
       "<table border=\"1\" class=\"dataframe\">\n",
       "  <thead>\n",
       "    <tr style=\"text-align: right;\">\n",
       "      <th></th>\n",
       "      <th>name</th>\n",
       "      <th>country</th>\n",
       "      <th>subcountry</th>\n",
       "      <th>geonameid</th>\n",
       "    </tr>\n",
       "  </thead>\n",
       "  <tbody>\n",
       "    <tr>\n",
       "      <th>0</th>\n",
       "      <td>les Escaldes</td>\n",
       "      <td>Andorra</td>\n",
       "      <td>Escaldes-Engordany</td>\n",
       "      <td>3040051</td>\n",
       "    </tr>\n",
       "    <tr>\n",
       "      <th>1</th>\n",
       "      <td>Andorra la Vella</td>\n",
       "      <td>Andorra</td>\n",
       "      <td>Andorra la Vella</td>\n",
       "      <td>3041563</td>\n",
       "    </tr>\n",
       "    <tr>\n",
       "      <th>2</th>\n",
       "      <td>Umm al Qaywayn</td>\n",
       "      <td>United Arab Emirates</td>\n",
       "      <td>Umm al Qaywayn</td>\n",
       "      <td>290594</td>\n",
       "    </tr>\n",
       "    <tr>\n",
       "      <th>3</th>\n",
       "      <td>Ras al-Khaimah</td>\n",
       "      <td>United Arab Emirates</td>\n",
       "      <td>RaÊ¼s al Khaymah</td>\n",
       "      <td>291074</td>\n",
       "    </tr>\n",
       "    <tr>\n",
       "      <th>4</th>\n",
       "      <td>Khawr FakkÄn</td>\n",
       "      <td>United Arab Emirates</td>\n",
       "      <td>Ash ShÄriqah</td>\n",
       "      <td>291696</td>\n",
       "    </tr>\n",
       "  </tbody>\n",
       "</table>\n",
       "</div>"
      ],
      "text/plain": [
       "               name               country          subcountry  geonameid\n",
       "0      les Escaldes               Andorra  Escaldes-Engordany    3040051\n",
       "1  Andorra la Vella               Andorra    Andorra la Vella    3041563\n",
       "2    Umm al Qaywayn  United Arab Emirates      Umm al Qaywayn     290594\n",
       "3    Ras al-Khaimah  United Arab Emirates    RaÊ¼s al Khaymah     291074\n",
       "4     Khawr FakkÄn  United Arab Emirates       Ash ShÄriqah     291696"
      ]
     },
     "execution_count": 20,
     "metadata": {},
     "output_type": "execute_result"
    }
   ],
   "source": [
    "db_ciudades.head()"
   ]
  },
  {
   "cell_type": "markdown",
   "metadata": {},
   "source": [
    "# Conección a MySQL"
   ]
  },
  {
   "cell_type": "markdown",
   "metadata": {},
   "source": [
    "### Clase que realiza la conección y retorna la consulta"
   ]
  },
  {
   "cell_type": "code",
   "execution_count": 29,
   "metadata": {},
   "outputs": [],
   "source": [
    "class DataBase:\n",
    "    import pandas as pd\n",
    "    \n",
    "    def __init__(self):\n",
    "        self.connection = pymysql.connect(\n",
    "            host='localhost',\n",
    "            user='root',\n",
    "            password='admin',\n",
    "            db='dbpendientes')\n",
    "        \n",
    "        self.cursor = self.connection.cursor()\n",
    "        print('Conección establecida con éxito')\n",
    "        \n",
    "    def consulta(self, consulta):\n",
    "        try:\n",
    "            self.cursor.execute(consulta)\n",
    "            datos = self.cursor.fetchall()\n",
    "            datos = pd.DataFrame(datos)\n",
    "            return datos\n",
    "            \n",
    "        except Exception as e:\n",
    "            raise\n",
    "            \n",
    "        \n",
    "            "
   ]
  },
  {
   "cell_type": "markdown",
   "metadata": {},
   "source": [
    "### Instanciamos la clase anterior"
   ]
  },
  {
   "cell_type": "code",
   "execution_count": 30,
   "metadata": {},
   "outputs": [
    {
     "name": "stdout",
     "output_type": "stream",
     "text": [
      "Conección establecida con éxito\n"
     ]
    }
   ],
   "source": [
    "db = DataBase()"
   ]
  },
  {
   "cell_type": "markdown",
   "metadata": {},
   "source": [
    "### Se realiza la consulta a la base de datos"
   ]
  },
  {
   "cell_type": "code",
   "execution_count": 31,
   "metadata": {},
   "outputs": [],
   "source": [
    "sql = 'Select * from personas'\n",
    "df_personas = db.consulta(sql)"
   ]
  },
  {
   "cell_type": "code",
   "execution_count": 32,
   "metadata": {},
   "outputs": [
    {
     "data": {
      "text/html": [
       "<div>\n",
       "<style scoped>\n",
       "    .dataframe tbody tr th:only-of-type {\n",
       "        vertical-align: middle;\n",
       "    }\n",
       "\n",
       "    .dataframe tbody tr th {\n",
       "        vertical-align: top;\n",
       "    }\n",
       "\n",
       "    .dataframe thead th {\n",
       "        text-align: right;\n",
       "    }\n",
       "</style>\n",
       "<table border=\"1\" class=\"dataframe\">\n",
       "  <thead>\n",
       "    <tr style=\"text-align: right;\">\n",
       "      <th></th>\n",
       "      <th>0</th>\n",
       "      <th>1</th>\n",
       "      <th>2</th>\n",
       "      <th>3</th>\n",
       "    </tr>\n",
       "  </thead>\n",
       "  <tbody>\n",
       "    <tr>\n",
       "      <th>0</th>\n",
       "      <td>1</td>\n",
       "      <td>JUAN PEREZ GARCIA</td>\n",
       "      <td>juan@hotmail.com</td>\n",
       "      <td>4921301447</td>\n",
       "    </tr>\n",
       "    <tr>\n",
       "      <th>1</th>\n",
       "      <td>2</td>\n",
       "      <td>MANUEL ALBERTO MARTINEZ SANCHEZ</td>\n",
       "      <td>manuel@hotmail.com</td>\n",
       "      <td>4923567884</td>\n",
       "    </tr>\n",
       "    <tr>\n",
       "      <th>2</th>\n",
       "      <td>3</td>\n",
       "      <td>JESUS DE LA CUEVA RODARTE</td>\n",
       "      <td>jesus@hotmail.com</td>\n",
       "      <td>4921345678</td>\n",
       "    </tr>\n",
       "    <tr>\n",
       "      <th>3</th>\n",
       "      <td>4</td>\n",
       "      <td>JOSE LUIS MONTEZ QUIŃONES</td>\n",
       "      <td>jose luis@hotmail.com</td>\n",
       "      <td>4748456789</td>\n",
       "    </tr>\n",
       "    <tr>\n",
       "      <th>4</th>\n",
       "      <td>5</td>\n",
       "      <td>GILBERTO ESPARZA TORRES</td>\n",
       "      <td>gilberto@hotmail.com</td>\n",
       "      <td>4935405678</td>\n",
       "    </tr>\n",
       "    <tr>\n",
       "      <th>5</th>\n",
       "      <td>6</td>\n",
       "      <td>ARACELI ORTIZ PINEDO</td>\n",
       "      <td>chelis@live.com.mx</td>\n",
       "      <td>4935495778</td>\n",
       "    </tr>\n",
       "    <tr>\n",
       "      <th>6</th>\n",
       "      <td>7</td>\n",
       "      <td>BERNARDO FUENTES CORREA</td>\n",
       "      <td>berna@gmail.com</td>\n",
       "      <td>4445666732</td>\n",
       "    </tr>\n",
       "    <tr>\n",
       "      <th>7</th>\n",
       "      <td>8</td>\n",
       "      <td>ANDRES PEREZ LOPEZ</td>\n",
       "      <td>ameza@yahoo.com</td>\n",
       "      <td>4445564732</td>\n",
       "    </tr>\n",
       "    <tr>\n",
       "      <th>8</th>\n",
       "      <td>9</td>\n",
       "      <td>LUZ ELENA GONZALES MARES</td>\n",
       "      <td>luci@zac.gob.mx</td>\n",
       "      <td>4445564736</td>\n",
       "    </tr>\n",
       "    <tr>\n",
       "      <th>9</th>\n",
       "      <td>10</td>\n",
       "      <td>MA. REFUGIO TINAJERO SANCHEZ</td>\n",
       "      <td>maref@hotmail.com</td>\n",
       "      <td>4935405578</td>\n",
       "    </tr>\n",
       "    <tr>\n",
       "      <th>10</th>\n",
       "      <td>11</td>\n",
       "      <td>JUANITA DE LA ROSA SANDATE</td>\n",
       "      <td>juanis@gmail.com</td>\n",
       "      <td>4748455789</td>\n",
       "    </tr>\n",
       "  </tbody>\n",
       "</table>\n",
       "</div>"
      ],
      "text/plain": [
       "     0                                1                      2           3\n",
       "0    1                JUAN PEREZ GARCIA       juan@hotmail.com  4921301447\n",
       "1    2  MANUEL ALBERTO MARTINEZ SANCHEZ     manuel@hotmail.com  4923567884\n",
       "2    3        JESUS DE LA CUEVA RODARTE      jesus@hotmail.com  4921345678\n",
       "3    4        JOSE LUIS MONTEZ QUIŃONES  jose luis@hotmail.com  4748456789\n",
       "4    5          GILBERTO ESPARZA TORRES   gilberto@hotmail.com  4935405678\n",
       "5    6             ARACELI ORTIZ PINEDO     chelis@live.com.mx  4935495778\n",
       "6    7          BERNARDO FUENTES CORREA        berna@gmail.com  4445666732\n",
       "7    8               ANDRES PEREZ LOPEZ        ameza@yahoo.com  4445564732\n",
       "8    9         LUZ ELENA GONZALES MARES        luci@zac.gob.mx  4445564736\n",
       "9   10     MA. REFUGIO TINAJERO SANCHEZ      maref@hotmail.com  4935405578\n",
       "10  11       JUANITA DE LA ROSA SANDATE       juanis@gmail.com  4748455789"
      ]
     },
     "execution_count": 32,
     "metadata": {},
     "output_type": "execute_result"
    }
   ],
   "source": [
    "df_personas"
   ]
  },
  {
   "cell_type": "code",
   "execution_count": 27,
   "metadata": {},
   "outputs": [],
   "source": []
  },
  {
   "cell_type": "code",
   "execution_count": null,
   "metadata": {},
   "outputs": [],
   "source": []
  }
 ],
 "metadata": {
  "kernelspec": {
   "display_name": "Python 3",
   "language": "python",
   "name": "python3"
  },
  "language_info": {
   "codemirror_mode": {
    "name": "ipython",
    "version": 3
   },
   "file_extension": ".py",
   "mimetype": "text/x-python",
   "name": "python",
   "nbconvert_exporter": "python",
   "pygments_lexer": "ipython3",
   "version": "3.8.3"
  }
 },
 "nbformat": 4,
 "nbformat_minor": 4
}
