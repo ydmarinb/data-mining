{
 "cells": [
  {
   "cell_type": "markdown",
   "metadata": {},
   "source": [
    "# Tipos de variables estadísticas\n",
    "\n",
    "* **Variables Continuas:** Se generan a partir de mediciones.\n",
    "* **Variables discretas:** Se generan a partir de conteos.\n",
    "* **Variables Categóricas:** Se generan a partir de clasificaciones.\n",
    "\n",
    "\n",
    "\n",
    "A la hora de realizar un análisis descriptivo, se recomienda inicialmente realizar resúmenes y representaciones visuales de los datos, por medio de herramientas como los gráficos y tablas. La siguiente fase es utilizar medidas numéricas, para determinar valores representativos de centralidad, variabilidad o atipicidad en los datos.\n",
    "\n"
   ]
  },
  {
   "cell_type": "markdown",
   "metadata": {},
   "source": [
    "# Datos agrupados\n",
    "\n",
    "En ocaciones cuando se tienen variables númericas(discretas o continuas) con un rango de datos muy aplio por lo que se recomienda realizar agrupaciones en clases. Luego estas agrupaciones seran representadas en forma de tabla de frecuencia"
   ]
  },
  {
   "cell_type": "code",
   "execution_count": 1,
   "metadata": {},
   "outputs": [],
   "source": [
    "import pandas as pd\n",
    "import os\n",
    "import numpy as np\n",
    "from math import ceil"
   ]
  },
  {
   "cell_type": "code",
   "execution_count": 2,
   "metadata": {},
   "outputs": [
    {
     "data": {
      "text/plain": [
       "'C:\\\\Users\\\\ydmar\\\\OneDrive\\\\Documentos\\\\CurosCienciasDatos\\\\01 - Mineria de datos'"
      ]
     },
     "execution_count": 2,
     "metadata": {},
     "output_type": "execute_result"
    }
   ],
   "source": [
    "# Conocer el directorio local\n",
    "os.getcwd()"
   ]
  },
  {
   "cell_type": "code",
   "execution_count": 3,
   "metadata": {},
   "outputs": [],
   "source": [
    "# Cambiamos el directorio local a donde tenemos nuestras bases de datos\n",
    "os.chdir('BasesDatos/')"
   ]
  },
  {
   "cell_type": "code",
   "execution_count": 4,
   "metadata": {},
   "outputs": [],
   "source": [
    "# Cargar la base de datos con la que se va a trabajar\n",
    "df_ventas = pd.read_excel('ventas.xlsx')"
   ]
  },
  {
   "cell_type": "code",
   "execution_count": 5,
   "metadata": {
    "scrolled": true
   },
   "outputs": [
    {
     "data": {
      "text/html": [
       "<div>\n",
       "<style scoped>\n",
       "    .dataframe tbody tr th:only-of-type {\n",
       "        vertical-align: middle;\n",
       "    }\n",
       "\n",
       "    .dataframe tbody tr th {\n",
       "        vertical-align: top;\n",
       "    }\n",
       "\n",
       "    .dataframe thead th {\n",
       "        text-align: right;\n",
       "    }\n",
       "</style>\n",
       "<table border=\"1\" class=\"dataframe\">\n",
       "  <thead>\n",
       "    <tr style=\"text-align: right;\">\n",
       "      <th></th>\n",
       "      <th>NoFactura</th>\n",
       "      <th>Producto</th>\n",
       "      <th>Cantidad</th>\n",
       "      <th>FechaFactura</th>\n",
       "      <th>PrecioUnidad</th>\n",
       "      <th>Pais</th>\n",
       "    </tr>\n",
       "  </thead>\n",
       "  <tbody>\n",
       "    <tr>\n",
       "      <th>0</th>\n",
       "      <td>536365</td>\n",
       "      <td>WHITE HANGING HEART T-LIGHT HOLDER</td>\n",
       "      <td>6</td>\n",
       "      <td>2010-01-12 08:26:00</td>\n",
       "      <td>2.55</td>\n",
       "      <td>United Kingdom</td>\n",
       "    </tr>\n",
       "    <tr>\n",
       "      <th>1</th>\n",
       "      <td>536365</td>\n",
       "      <td>WHITE METAL LANTERN</td>\n",
       "      <td>6</td>\n",
       "      <td>2010-01-12 08:26:00</td>\n",
       "      <td>3.39</td>\n",
       "      <td>United Kingdom</td>\n",
       "    </tr>\n",
       "    <tr>\n",
       "      <th>2</th>\n",
       "      <td>536365</td>\n",
       "      <td>CREAM CUPID HEARTS COAT HANGER</td>\n",
       "      <td>8</td>\n",
       "      <td>2010-01-12 08:26:00</td>\n",
       "      <td>2.75</td>\n",
       "      <td>United Kingdom</td>\n",
       "    </tr>\n",
       "    <tr>\n",
       "      <th>3</th>\n",
       "      <td>536365</td>\n",
       "      <td>KNITTED UNION FLAG HOT WATER BOTTLE</td>\n",
       "      <td>6</td>\n",
       "      <td>2010-01-12 08:26:00</td>\n",
       "      <td>3.39</td>\n",
       "      <td>United Kingdom</td>\n",
       "    </tr>\n",
       "    <tr>\n",
       "      <th>4</th>\n",
       "      <td>536365</td>\n",
       "      <td>RED WOOLLY HOTTIE WHITE HEART.</td>\n",
       "      <td>6</td>\n",
       "      <td>2010-01-12 08:26:00</td>\n",
       "      <td>3.39</td>\n",
       "      <td>United Kingdom</td>\n",
       "    </tr>\n",
       "  </tbody>\n",
       "</table>\n",
       "</div>"
      ],
      "text/plain": [
       "  NoFactura                             Producto  Cantidad  \\\n",
       "0    536365   WHITE HANGING HEART T-LIGHT HOLDER         6   \n",
       "1    536365                  WHITE METAL LANTERN         6   \n",
       "2    536365       CREAM CUPID HEARTS COAT HANGER         8   \n",
       "3    536365  KNITTED UNION FLAG HOT WATER BOTTLE         6   \n",
       "4    536365       RED WOOLLY HOTTIE WHITE HEART.         6   \n",
       "\n",
       "          FechaFactura  PrecioUnidad            Pais  \n",
       "0  2010-01-12 08:26:00          2.55  United Kingdom  \n",
       "1  2010-01-12 08:26:00          3.39  United Kingdom  \n",
       "2  2010-01-12 08:26:00          2.75  United Kingdom  \n",
       "3  2010-01-12 08:26:00          3.39  United Kingdom  \n",
       "4  2010-01-12 08:26:00          3.39  United Kingdom  "
      ]
     },
     "execution_count": 5,
     "metadata": {},
     "output_type": "execute_result"
    }
   ],
   "source": [
    "# observamos las primeras filas de la base de datos\n",
    "df_ventas.head()"
   ]
  },
  {
   "cell_type": "code",
   "execution_count": 6,
   "metadata": {},
   "outputs": [],
   "source": [
    " def tabla_frecuencia(df, columna, cabecera=True):\n",
    "        \n",
    "    # tabla de frecuencia para pais\n",
    "    tabla_frecuencia = pd.DataFrame(df[str(columna)].value_counts())\n",
    "\n",
    "    # Cambiamos el nombre a las columnas\n",
    "    tabla_frecuencia.columns = ['Frecuencia']\n",
    "\n",
    "    # Contruimos la columna de frecuencia relativa\n",
    "    tabla_frecuencia['Frecuencia_relativa'] = tabla_frecuencia.Frecuencia / tabla_frecuencia.Frecuencia.sum() \n",
    "\n",
    "    # Contruimos la variable porcentaje\n",
    "    tabla_frecuencia['Porcentaje'] = tabla_frecuencia.Frecuencia_relativa.apply(lambda x: str(round(x * 100, 2)) + \"%\")\n",
    "    \n",
    "    if cabecera:\n",
    "        salida = tabla_frecuencia.head()\n",
    "    else:\n",
    "        salida = tabla_frecuencia\n",
    "    \n",
    "    # Imprimir dimensiones \n",
    "    print('Las dimensiones de la tabla es: ', tabla_frecuencia.shape)\n",
    "    \n",
    "    return salida"
   ]
  },
  {
   "cell_type": "code",
   "execution_count": 7,
   "metadata": {},
   "outputs": [
    {
     "name": "stdout",
     "output_type": "stream",
     "text": [
      "Las dimensiones de la tabla es:  (37, 3)\n"
     ]
    },
    {
     "data": {
      "text/html": [
       "<div>\n",
       "<style scoped>\n",
       "    .dataframe tbody tr th:only-of-type {\n",
       "        vertical-align: middle;\n",
       "    }\n",
       "\n",
       "    .dataframe tbody tr th {\n",
       "        vertical-align: top;\n",
       "    }\n",
       "\n",
       "    .dataframe thead th {\n",
       "        text-align: right;\n",
       "    }\n",
       "</style>\n",
       "<table border=\"1\" class=\"dataframe\">\n",
       "  <thead>\n",
       "    <tr style=\"text-align: right;\">\n",
       "      <th></th>\n",
       "      <th>Frecuencia</th>\n",
       "      <th>Frecuencia_relativa</th>\n",
       "      <th>Porcentaje</th>\n",
       "    </tr>\n",
       "  </thead>\n",
       "  <tbody>\n",
       "    <tr>\n",
       "      <th>United Kingdom</th>\n",
       "      <td>230345</td>\n",
       "      <td>0.918430</td>\n",
       "      <td>91.84%</td>\n",
       "    </tr>\n",
       "    <tr>\n",
       "      <th>Germany</th>\n",
       "      <td>4344</td>\n",
       "      <td>0.017320</td>\n",
       "      <td>1.73%</td>\n",
       "    </tr>\n",
       "    <tr>\n",
       "      <th>France</th>\n",
       "      <td>3736</td>\n",
       "      <td>0.014896</td>\n",
       "      <td>1.49%</td>\n",
       "    </tr>\n",
       "    <tr>\n",
       "      <th>EIRE</th>\n",
       "      <td>3308</td>\n",
       "      <td>0.013190</td>\n",
       "      <td>1.32%</td>\n",
       "    </tr>\n",
       "    <tr>\n",
       "      <th>Netherlands</th>\n",
       "      <td>1245</td>\n",
       "      <td>0.004964</td>\n",
       "      <td>0.5%</td>\n",
       "    </tr>\n",
       "  </tbody>\n",
       "</table>\n",
       "</div>"
      ],
      "text/plain": [
       "                Frecuencia  Frecuencia_relativa Porcentaje\n",
       "United Kingdom      230345             0.918430     91.84%\n",
       "Germany               4344             0.017320      1.73%\n",
       "France                3736             0.014896      1.49%\n",
       "EIRE                  3308             0.013190      1.32%\n",
       "Netherlands           1245             0.004964       0.5%"
      ]
     },
     "execution_count": 7,
     "metadata": {},
     "output_type": "execute_result"
    }
   ],
   "source": [
    "tabla_frecuencia(df_ventas, 'Pais')"
   ]
  },
  {
   "cell_type": "code",
   "execution_count": 8,
   "metadata": {},
   "outputs": [
    {
     "name": "stdout",
     "output_type": "stream",
     "text": [
      "Las dimensiones de la tabla es:  (488, 3)\n"
     ]
    },
    {
     "data": {
      "text/html": [
       "<div>\n",
       "<style scoped>\n",
       "    .dataframe tbody tr th:only-of-type {\n",
       "        vertical-align: middle;\n",
       "    }\n",
       "\n",
       "    .dataframe tbody tr th {\n",
       "        vertical-align: top;\n",
       "    }\n",
       "\n",
       "    .dataframe thead th {\n",
       "        text-align: right;\n",
       "    }\n",
       "</style>\n",
       "<table border=\"1\" class=\"dataframe\">\n",
       "  <thead>\n",
       "    <tr style=\"text-align: right;\">\n",
       "      <th></th>\n",
       "      <th>Frecuencia</th>\n",
       "      <th>Frecuencia_relativa</th>\n",
       "      <th>Porcentaje</th>\n",
       "    </tr>\n",
       "  </thead>\n",
       "  <tbody>\n",
       "    <tr>\n",
       "      <th>1</th>\n",
       "      <td>71260</td>\n",
       "      <td>0.284127</td>\n",
       "      <td>28.41%</td>\n",
       "    </tr>\n",
       "    <tr>\n",
       "      <th>2</th>\n",
       "      <td>38260</td>\n",
       "      <td>0.152550</td>\n",
       "      <td>15.26%</td>\n",
       "    </tr>\n",
       "    <tr>\n",
       "      <th>12</th>\n",
       "      <td>27531</td>\n",
       "      <td>0.109771</td>\n",
       "      <td>10.98%</td>\n",
       "    </tr>\n",
       "    <tr>\n",
       "      <th>6</th>\n",
       "      <td>19706</td>\n",
       "      <td>0.078572</td>\n",
       "      <td>7.86%</td>\n",
       "    </tr>\n",
       "    <tr>\n",
       "      <th>4</th>\n",
       "      <td>16938</td>\n",
       "      <td>0.067535</td>\n",
       "      <td>6.75%</td>\n",
       "    </tr>\n",
       "  </tbody>\n",
       "</table>\n",
       "</div>"
      ],
      "text/plain": [
       "    Frecuencia  Frecuencia_relativa Porcentaje\n",
       "1        71260             0.284127     28.41%\n",
       "2        38260             0.152550     15.26%\n",
       "12       27531             0.109771     10.98%\n",
       "6        19706             0.078572      7.86%\n",
       "4        16938             0.067535      6.75%"
      ]
     },
     "execution_count": 8,
     "metadata": {},
     "output_type": "execute_result"
    }
   ],
   "source": [
    "tabla_frecuencia(df_ventas, 'Cantidad')"
   ]
  },
  {
   "cell_type": "markdown",
   "metadata": {},
   "source": [
    "Dado que podemos encontrar 488 valores posibles en la variable `Cantidad` recurrimos a realizar una sub división por clases.\n",
    "\n",
    "para realizar lo anterior seguimos el siguiente procedimiento:\n",
    "\n",
    "* Extraer el valor máximo y el minimo para la variable.\n",
    "* Seleccionar el número de clases que se quieren, de manera que se cubra todo el rango de datos y sin que ningún par de clases de traslapan entre si (intervalo de clase).\n",
    "* Contar le número de observaciones que se encuentran en cada sub intervalo (Frecuencia de clase).\n",
    "* Calcular la frecuencia relativa para cada sub intervalo.\n",
    "\n",
    "Cuando no tenemos claro el número de clases que debemos seleccionar podemos utilizar algunos metodos propuestos en la bibliografia:\n",
    "\n",
    "* Sturges $K=1+3.333\\log_{10}(n)$ donde $n$ es el número de datos. Subestima el número de intervalos.\n",
    "* Vallema $K = 2\\sqrt(n)$. Recomenadado cuando $n \\leq 50$.\n",
    "* Dixon y Kronmal $K=10 \\ \\log_{10}(n)$. Recomenadao cuando $n \\geq 50$.\n",
    "\n",
    "\n",
    "\n",
    "El problema de la agrupación es la pérdida de información ya que se reemplazan las distribución de cada clase por la frecuencia. Además si se tienen muy pocas clases la pérdida de información es muy grande, y si se tienen muchas clases se corre el riesgo de no observar patrones de interés.\n",
    "\n"
   ]
  },
  {
   "cell_type": "code",
   "execution_count": 2,
   "metadata": {},
   "outputs": [],
   "source": [
    "def tablas_clases(df, columna, cabecera=True):\n",
    "    from math import ceil\n",
    "    minimo = df[str(columna)].min()\n",
    "    maximo = df[str(columna)].max() + 1 \n",
    "    rango = maximo - minimo\n",
    "\n",
    "    k = ceil(1 + 3.333 * np.log10(df_ventas.shape[0]))\n",
    "\n",
    "    amplitud = rango / k\n",
    "\n",
    "    valor = minimo\n",
    "    lista = [minimo]\n",
    "    for _ in range(19):\n",
    "        valor += amplitud\n",
    "        lista.append(round(valor, 0))\n",
    "\n",
    "    conteo = 0 \n",
    "    diccionario = {}\n",
    "    lista_x = []\n",
    "    for i in range(len(lista)-1):\n",
    "        for j in df[str(columna)]: \n",
    "            if lista[i] <= j and j < lista[i+1]:\n",
    "                conteo += 1\n",
    "            diccionario['['+str(lista[i])+', '+str(lista[i+1])+')'] = [conteo]\n",
    "        conteo = 0\n",
    "        lista_x.append(lista[i] + ((lista[i+1]-lista[i])/2))\n",
    "\n",
    "\n",
    "\n",
    "    tabla_frecuencia = pd.DataFrame(diccionario).T\n",
    "\n",
    "    tabla_frecuencia.columns = ['Frecuencia']\n",
    "\n",
    "    # Contruimos la columna de frecuencia relativa\n",
    "    tabla_frecuencia['Frecuencia_relativa'] = tabla_frecuencia.Frecuencia / tabla_frecuencia.Frecuencia.sum() \n",
    "\n",
    "    # Contruimos la variable porcentaje\n",
    "    tabla_frecuencia['Porcentaje'] = tabla_frecuencia.Frecuencia_relativa.apply(lambda x: str(round(x * 100, 2)) + \"%\")\n",
    "    \n",
    "    # centro de clase\n",
    "    tabla_frecuencia['xi'] = lista_x\n",
    "    #print(lista_x)\n",
    "    \n",
    "    if cabecera:\n",
    "        salida = tabla_frecuencia.head()\n",
    "    else:\n",
    "        salida = tabla_frecuencia\n",
    "    \n",
    "    # Imprimir dimensiones \n",
    "    print('Las dimensiones de la tabla es: ', tabla_frecuencia.shape)\n",
    "    #print(len(lista_x))\n",
    "    \n",
    "    return salida"
   ]
  },
  {
   "cell_type": "code",
   "execution_count": 3,
   "metadata": {},
   "outputs": [
    {
     "ename": "NameError",
     "evalue": "name 'df_ventas' is not defined",
     "output_type": "error",
     "traceback": [
      "\u001b[1;31m---------------------------------------------------------------------------\u001b[0m",
      "\u001b[1;31mNameError\u001b[0m                                 Traceback (most recent call last)",
      "\u001b[1;32m<ipython-input-3-2edd2f0e477f>\u001b[0m in \u001b[0;36m<module>\u001b[1;34m\u001b[0m\n\u001b[1;32m----> 1\u001b[1;33m \u001b[0mtablas_clases\u001b[0m\u001b[1;33m(\u001b[0m\u001b[0mdf_ventas\u001b[0m\u001b[1;33m,\u001b[0m \u001b[1;34m'Cantidad'\u001b[0m\u001b[1;33m)\u001b[0m\u001b[1;33m\u001b[0m\u001b[1;33m\u001b[0m\u001b[0m\n\u001b[0m",
      "\u001b[1;31mNameError\u001b[0m: name 'df_ventas' is not defined"
     ]
    }
   ],
   "source": [
    "tablas_clases(df_ventas, 'Cantidad')"
   ]
  },
  {
   "cell_type": "markdown",
   "metadata": {},
   "source": [
    "<div class=\"alert alert-info\">\n",
    "   Implementar la función anterior de forma que se pueden aplicar la diferentes metodologias\n",
    "</div>"
   ]
  },
  {
   "cell_type": "code",
   "execution_count": null,
   "metadata": {},
   "outputs": [],
   "source": []
  }
 ],
 "metadata": {
  "kernelspec": {
   "display_name": "Python 3",
   "language": "python",
   "name": "python3"
  },
  "language_info": {
   "codemirror_mode": {
    "name": "ipython",
    "version": 3
   },
   "file_extension": ".py",
   "mimetype": "text/x-python",
   "name": "python",
   "nbconvert_exporter": "python",
   "pygments_lexer": "ipython3",
   "version": "3.7.6"
  }
 },
 "nbformat": 4,
 "nbformat_minor": 4
}
