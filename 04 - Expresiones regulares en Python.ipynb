{
 "cells": [
  {
   "cell_type": "markdown",
   "metadata": {},
   "source": [
    "# Cuantificadores\n",
    "\n",
    "\n",
    "Un Cuantificador que precede a un carácter cuantifica las veces que este carácter puede aparecer.\n",
    "\n",
    "* `?` El carácter que precede puede aparecer como mucho una vez.\n",
    "* `+` El carácter que le precede debe aparecer al menos una vez.\n",
    "* `*` El carácter que le precede puede aparecer cero, una, o más veces.\n",
    "\n",
    "* `{}` Las llaves juegan el papel de meta caracteres, para que cumplan su funcionalidad deben estar después de la expresión regular y encierran uno o varios números.\n",
    "* `{n}` Indica que coincide n veces.\n",
    "* `{n,}` Indica que coincide más n veces.\n",
    "* `{,n}` Indica que coincide hasta n veces.\n",
    "* `{n,m}` Indica que coincide más n veces y menos de m veces.\n",
    "\n",
    "# Alternación\n",
    "\n",
    "* `$` El signo de dólar representa el final de la cadena de caracteres o el final de la línea.\n",
    "\n",
    "* `^` El acento representa el inicio de la cadena.\n",
    "\n",
    "# Agrupación\n",
    "\n",
    "* `()` Los paréntesis son usados para la aplicación de operadores sobre más de un carácter.\n",
    "* `[]` Los corchetes agrupan caracteres en grupos o clases. Son útiles cuando es necesario buscar uno de un grupo de caracteres.\n",
    "* `[a-z]` Especifica un rango de caracteres.\n",
    "* `[^.... ]` Lista de caracteres excluidos\n",
    "* `|` Una barra vertical separa las alternativas. Realiza el papel de o.\n",
    "* `.` El punto busca cualquier carácter sin incluir los saltos de línea.\n",
    "\n",
    "# Barra invertida\n",
    "\n",
    "Se utiliza para escapar el siguiente carácter de la expresión de búsqueda de forma que este adquiera un significado especial o deje de tenerlo.\n",
    "\n",
    "\n",
    "* `\\e` — Representa la tecla “Esc” o “Escape”.\n",
    "* `\\d` — Representa un dígito del 0 al 9.\n",
    "* `\\w` — Representa cualquier carácter alfanumérico.\n",
    "* `\\s` — Representa un espacio en blanco.\n",
    "* `\\D` — Representa cualquier carácter que no sea un dígito del 0 al 9.\n",
    "* `\\W` — Representa cualquier carácter no alfanumérico.\n",
    "* `\\S` — Representa cualquier carácter que no sea un espacio en blanco.\n",
    "* `\\A` — Representa el inicio de la cadena. No un carácter sino una posición.\n",
    "* `\\Z` — Representa el final de la cadena. No un carácter sino una posición.\n",
    "* `\\b` — Marca la posición de una palabra limitada por espacios en blanco, puntuación o el inicio/final de una cadena.\n",
    "* `\\B` — Marca la posición entre dos caracteres alfanuméricos o dos no-alfanuméricos.\n",
    "\n",
    "# El signo de admiración\n",
    "\n",
    "* `!` El signo de admiración representa una búsqueda negativa, en otras palabras que no incluya la palabra que especificamos.\n",
    "\n",
    "# Metacaracteres especiales\n",
    "\n",
    "* `\\t` — Representa un tabulador.\n",
    "* `\\r` — Representa el “retorno de carro” o “regreso al inicio” o sea el lugar en que la línea vuelve a iniciar.\n",
    "* `\\n` — Representa la “nueva línea” el carácter por medio del cual una línea de inicio.\n",
    "* `\\f` — Representa un salto de página\n",
    "* `\\v` — Representa un tabulador vertical\n",
    "\n",
    "# Otras representaciones\n",
    "\n",
    "* `[:digit:]` <- Digitos del 0 al 9.\n",
    "* `[:lower:]` <- Letras en monuscula\n",
    "* `[:upper:]` <- Letras mayusculas\n",
    "* `[:alpha:]` <- Caractes alfabeticos\n",
    "* `[:alnum:]` <- Digitos y caracteres alfanumerico\n",
    "* `[:punct:]` <- Puntuación\n",
    "* `[:graph:]` <- Caracter graficos [:alnum:] y [:punct:]\n",
    "* `[:blank:]` <- Caracter en blanco espacio y tabulador\n",
    "* `[:space:]` <- Caracteres de espacios : espacio, tabulador, nueva linea y otros caracteres de espacio.\n",
    "* `[:print:]` <- Caracteres imprimibles: [:alnum:], [:punct:] y [:space:].\n",
    "\n"
   ]
  },
  {
   "cell_type": "code",
   "execution_count": 5,
   "metadata": {},
   "outputs": [],
   "source": [
    "import pandas as pd\n",
    "import re\n",
    "import os\n"
   ]
  },
  {
   "cell_type": "markdown",
   "metadata": {},
   "source": [
    "# Practica"
   ]
  },
  {
   "cell_type": "code",
   "execution_count": 3,
   "metadata": {},
   "outputs": [],
   "source": [
    "txt = \"4278659Juan Eduar(458) 321-456Laura, M. Perez555-6542Pedro. Velez Marin555 8904Luis Quintero565-556-5656Martha, Juarez665656Dr. Maria velez\""
   ]
  },
  {
   "cell_type": "code",
   "execution_count": 165,
   "metadata": {},
   "outputs": [],
   "source": [
    "x_name = re.findall(\"[a-zA-Z]+\\.?,? ?[a-zA-Z]+\\.? ?[a-zA-Z]+\", txt)"
   ]
  },
  {
   "cell_type": "code",
   "execution_count": 166,
   "metadata": {},
   "outputs": [],
   "source": [
    "x_numeros = re.findall(\"\\(?[0-9]+\\)?-? ?[0-9]+-?[0-9]+\", txt)"
   ]
  },
  {
   "cell_type": "code",
   "execution_count": 168,
   "metadata": {},
   "outputs": [],
   "source": [
    "df = pd.DataFrame()"
   ]
  },
  {
   "cell_type": "code",
   "execution_count": 171,
   "metadata": {},
   "outputs": [],
   "source": [
    "df['nombres'] = x_name\n",
    "df['telefonos'] = x_numeros"
   ]
  },
  {
   "cell_type": "code",
   "execution_count": 172,
   "metadata": {},
   "outputs": [
    {
     "data": {
      "text/html": [
       "<div>\n",
       "<style scoped>\n",
       "    .dataframe tbody tr th:only-of-type {\n",
       "        vertical-align: middle;\n",
       "    }\n",
       "\n",
       "    .dataframe tbody tr th {\n",
       "        vertical-align: top;\n",
       "    }\n",
       "\n",
       "    .dataframe thead th {\n",
       "        text-align: right;\n",
       "    }\n",
       "</style>\n",
       "<table border=\"1\" class=\"dataframe\">\n",
       "  <thead>\n",
       "    <tr style=\"text-align: right;\">\n",
       "      <th></th>\n",
       "      <th>nombres</th>\n",
       "      <th>telefonos</th>\n",
       "    </tr>\n",
       "  </thead>\n",
       "  <tbody>\n",
       "    <tr>\n",
       "      <th>0</th>\n",
       "      <td>Juan Eduar</td>\n",
       "      <td>4278659</td>\n",
       "    </tr>\n",
       "    <tr>\n",
       "      <th>1</th>\n",
       "      <td>Laura, M. Perez</td>\n",
       "      <td>(458) 321-456</td>\n",
       "    </tr>\n",
       "    <tr>\n",
       "      <th>2</th>\n",
       "      <td>Pedro. Velez Marin</td>\n",
       "      <td>555-6542</td>\n",
       "    </tr>\n",
       "    <tr>\n",
       "      <th>3</th>\n",
       "      <td>Luis Quintero</td>\n",
       "      <td>555 8904</td>\n",
       "    </tr>\n",
       "    <tr>\n",
       "      <th>4</th>\n",
       "      <td>Martha, Juarez</td>\n",
       "      <td>565-556-5656</td>\n",
       "    </tr>\n",
       "    <tr>\n",
       "      <th>5</th>\n",
       "      <td>Dr. Maria velez</td>\n",
       "      <td>665656</td>\n",
       "    </tr>\n",
       "  </tbody>\n",
       "</table>\n",
       "</div>"
      ],
      "text/plain": [
       "              nombres      telefonos\n",
       "0          Juan Eduar        4278659\n",
       "1     Laura, M. Perez  (458) 321-456\n",
       "2  Pedro. Velez Marin       555-6542\n",
       "3       Luis Quintero       555 8904\n",
       "4      Martha, Juarez   565-556-5656\n",
       "5     Dr. Maria velez         665656"
      ]
     },
     "execution_count": 172,
     "metadata": {},
     "output_type": "execute_result"
    }
   ],
   "source": [
    "df"
   ]
  },
  {
   "cell_type": "markdown",
   "metadata": {},
   "source": [
    "# Saber ubicación"
   ]
  },
  {
   "cell_type": "code",
   "execution_count": 177,
   "metadata": {},
   "outputs": [
    {
     "data": {
      "text/plain": [
       "<re.Match object; span=(9, 19), match='1247657468'>"
      ]
     },
     "execution_count": 177,
     "metadata": {},
     "output_type": "execute_result"
    }
   ],
   "source": [
    "re.search(\"[0-9]+\", \"pruba de 1247657468\")"
   ]
  },
  {
   "cell_type": "markdown",
   "metadata": {},
   "source": [
    "# Cortar"
   ]
  },
  {
   "cell_type": "code",
   "execution_count": 179,
   "metadata": {},
   "outputs": [
    {
     "data": {
      "text/plain": [
       "['pruba', 'de', '1247657468']"
      ]
     },
     "execution_count": 179,
     "metadata": {},
     "output_type": "execute_result"
    }
   ],
   "source": [
    "re.split(\" \", \"pruba de 1247657468\")"
   ]
  },
  {
   "cell_type": "markdown",
   "metadata": {},
   "source": [
    "# Reemplazar"
   ]
  },
  {
   "cell_type": "code",
   "execution_count": 5,
   "metadata": {},
   "outputs": [
    {
     "data": {
      "text/plain": [
       "'R es un lenguaje'"
      ]
     },
     "execution_count": 5,
     "metadata": {},
     "output_type": "execute_result"
    }
   ],
   "source": [
    "re.sub(\"Python\", \"R\", \"Python es un lenguaje\")"
   ]
  },
  {
   "cell_type": "markdown",
   "metadata": {},
   "source": [
    "# Ejercicio mineria y lectura"
   ]
  },
  {
   "cell_type": "code",
   "execution_count": 6,
   "metadata": {},
   "outputs": [],
   "source": [
    "os.chdir('BasesDatos/')"
   ]
  },
  {
   "cell_type": "code",
   "execution_count": 7,
   "metadata": {
    "scrolled": false
   },
   "outputs": [],
   "source": [
    "# Abrimos la conexión y leemos el archivo\n",
    "con = open(\"Base_dificil_leer.txt\", \"r\") \n",
    "\n",
    "# leemos el contenido del archivo\n",
    "documento = con.readlines()\n",
    "\n",
    "mes = [] \n",
    "anio = []\n",
    "contador_tablas = 0\n",
    "lista_df = []\n",
    "for linea in documento:\n",
    "    if re.search(\"[a-zA-Z]+.[0-9]+\", linea) is not None:\n",
    "        mes.append( re.findall( \"[a-zA-Z]+\", linea)[0])\n",
    "        anio.append( re.findall(\"[0-9]+\", linea)[0])\n",
    "        contador_tablas = contador_tablas + 1\n",
    "\n",
    "    elif re.search(\"[a-zA-Z]+,\", linea) is not None:\n",
    "        titulos = re.split(\",\", linea)\n",
    "\n",
    "    elif re.search(\"[0-9]+,\", linea) is not None:\n",
    "        data = re.split(\",\", linea)\n",
    "        data = [i.strip()for i in data]\n",
    "        data[1] = anio[contador_tablas-1] + ' '+  mes[contador_tablas-1] + ' ' + data[1]\n",
    "        lista_df.append(tuple(data))\n",
    "\n",
    "\n"
   ]
  },
  {
   "cell_type": "code",
   "execution_count": 8,
   "metadata": {
    "scrolled": true
   },
   "outputs": [
    {
     "data": {
      "text/html": [
       "<div>\n",
       "<style scoped>\n",
       "    .dataframe tbody tr th:only-of-type {\n",
       "        vertical-align: middle;\n",
       "    }\n",
       "\n",
       "    .dataframe tbody tr th {\n",
       "        vertical-align: top;\n",
       "    }\n",
       "\n",
       "    .dataframe thead th {\n",
       "        text-align: right;\n",
       "    }\n",
       "</style>\n",
       "<table border=\"1\" class=\"dataframe\">\n",
       "  <thead>\n",
       "    <tr style=\"text-align: right;\">\n",
       "      <th></th>\n",
       "      <th>id</th>\n",
       "      <th>dia</th>\n",
       "      <th>precipitacion\\n</th>\n",
       "    </tr>\n",
       "  </thead>\n",
       "  <tbody>\n",
       "    <tr>\n",
       "      <th>0</th>\n",
       "      <td>1</td>\n",
       "      <td>2020 Enero 10</td>\n",
       "      <td>3.5</td>\n",
       "    </tr>\n",
       "    <tr>\n",
       "      <th>1</th>\n",
       "      <td>2</td>\n",
       "      <td>2020 Enero 05</td>\n",
       "      <td>0.35</td>\n",
       "    </tr>\n",
       "    <tr>\n",
       "      <th>2</th>\n",
       "      <td>3</td>\n",
       "      <td>2020 Enero 06</td>\n",
       "      <td>05</td>\n",
       "    </tr>\n",
       "    <tr>\n",
       "      <th>3</th>\n",
       "      <td>4</td>\n",
       "      <td>2020 Enero 20</td>\n",
       "      <td>1.25</td>\n",
       "    </tr>\n",
       "    <tr>\n",
       "      <th>4</th>\n",
       "      <td>5</td>\n",
       "      <td>2020 Enero 21</td>\n",
       "      <td>1.6</td>\n",
       "    </tr>\n",
       "  </tbody>\n",
       "</table>\n",
       "</div>"
      ],
      "text/plain": [
       "  id            dia precipitacion\\n\n",
       "0  1  2020 Enero 10             3.5\n",
       "1  2  2020 Enero 05            0.35\n",
       "2  3  2020 Enero 06              05\n",
       "3  4  2020 Enero 20            1.25\n",
       "4  5  2020 Enero 21             1.6"
      ]
     },
     "execution_count": 8,
     "metadata": {},
     "output_type": "execute_result"
    }
   ],
   "source": [
    "df = pd.DataFrame(lista_df,columns= titulos)\n",
    "df.head()"
   ]
  },
  {
   "cell_type": "code",
   "execution_count": 157,
   "metadata": {},
   "outputs": [
    {
     "data": {
      "text/plain": [
       "'es_ES.UTF-8'"
      ]
     },
     "execution_count": 157,
     "metadata": {},
     "output_type": "execute_result"
    }
   ],
   "source": [
    "from datetime import datetime\n",
    "import locale\n",
    "locale.setlocale(locale.LC_TIME, 'es_ES.UTF-8')"
   ]
  },
  {
   "cell_type": "code",
   "execution_count": 161,
   "metadata": {},
   "outputs": [],
   "source": [
    "df.dia = pd.to_datetime(df.dia, format=\"%Y %B %d\")"
   ]
  },
  {
   "cell_type": "code",
   "execution_count": 162,
   "metadata": {},
   "outputs": [
    {
     "data": {
      "text/html": [
       "<div>\n",
       "<style scoped>\n",
       "    .dataframe tbody tr th:only-of-type {\n",
       "        vertical-align: middle;\n",
       "    }\n",
       "\n",
       "    .dataframe tbody tr th {\n",
       "        vertical-align: top;\n",
       "    }\n",
       "\n",
       "    .dataframe thead th {\n",
       "        text-align: right;\n",
       "    }\n",
       "</style>\n",
       "<table border=\"1\" class=\"dataframe\">\n",
       "  <thead>\n",
       "    <tr style=\"text-align: right;\">\n",
       "      <th></th>\n",
       "      <th>id</th>\n",
       "      <th>dia</th>\n",
       "      <th>precipitacion\\n</th>\n",
       "    </tr>\n",
       "  </thead>\n",
       "  <tbody>\n",
       "    <tr>\n",
       "      <th>0</th>\n",
       "      <td>1</td>\n",
       "      <td>2020-01-10</td>\n",
       "      <td>3.5</td>\n",
       "    </tr>\n",
       "    <tr>\n",
       "      <th>1</th>\n",
       "      <td>2</td>\n",
       "      <td>2020-01-05</td>\n",
       "      <td>0.35</td>\n",
       "    </tr>\n",
       "    <tr>\n",
       "      <th>2</th>\n",
       "      <td>3</td>\n",
       "      <td>2020-01-06</td>\n",
       "      <td>05</td>\n",
       "    </tr>\n",
       "    <tr>\n",
       "      <th>3</th>\n",
       "      <td>4</td>\n",
       "      <td>2020-01-20</td>\n",
       "      <td>1.25</td>\n",
       "    </tr>\n",
       "    <tr>\n",
       "      <th>4</th>\n",
       "      <td>5</td>\n",
       "      <td>2020-01-21</td>\n",
       "      <td>1.6</td>\n",
       "    </tr>\n",
       "  </tbody>\n",
       "</table>\n",
       "</div>"
      ],
      "text/plain": [
       "  id        dia precipitacion\\n\n",
       "0  1 2020-01-10             3.5\n",
       "1  2 2020-01-05            0.35\n",
       "2  3 2020-01-06              05\n",
       "3  4 2020-01-20            1.25\n",
       "4  5 2020-01-21             1.6"
      ]
     },
     "execution_count": 162,
     "metadata": {},
     "output_type": "execute_result"
    }
   ],
   "source": [
    "df.head()"
   ]
  },
  {
   "cell_type": "code",
   "execution_count": null,
   "metadata": {},
   "outputs": [],
   "source": []
  }
 ],
 "metadata": {
  "kernelspec": {
   "display_name": "Python 3",
   "language": "python",
   "name": "python3"
  },
  "language_info": {
   "codemirror_mode": {
    "name": "ipython",
    "version": 3
   },
   "file_extension": ".py",
   "mimetype": "text/x-python",
   "name": "python",
   "nbconvert_exporter": "python",
   "pygments_lexer": "ipython3",
   "version": "3.7.6"
  }
 },
 "nbformat": 4,
 "nbformat_minor": 4
}
