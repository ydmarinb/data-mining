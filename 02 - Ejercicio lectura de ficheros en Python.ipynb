{
 "cells": [
  {
   "cell_type": "code",
   "execution_count": 1,
   "metadata": {},
   "outputs": [],
   "source": [
    "import os"
   ]
  },
  {
   "cell_type": "code",
   "execution_count": 3,
   "metadata": {},
   "outputs": [],
   "source": [
    "os.chdir(\"BasesDatos\")"
   ]
  },
  {
   "cell_type": "code",
   "execution_count": null,
   "metadata": {},
   "outputs": [],
   "source": [
    "import re"
   ]
  },
  {
   "cell_type": "code",
   "execution_count": 152,
   "metadata": {},
   "outputs": [],
   "source": [
    "df =  open('Base_dificil_leer.txt', 'r')"
   ]
  },
  {
   "cell_type": "code",
   "execution_count": 157,
   "metadata": {
    "scrolled": false
   },
   "outputs": [
    {
     "data": {
      "text/plain": [
       "['1', '10', '3', '5']"
      ]
     },
     "execution_count": 157,
     "metadata": {},
     "output_type": "execute_result"
    }
   ],
   "source": [
    "re.findall('[a-zA-Z]+|[0-9]+', df.readline())"
   ]
  },
  {
   "cell_type": "code",
   "execution_count": null,
   "metadata": {},
   "outputs": [],
   "source": [
    "for linea in df:\n",
    "    "
   ]
  },
  {
   "cell_type": "code",
   "execution_count": null,
   "metadata": {},
   "outputs": [],
   "source": [
    "# Nos ubicamos en el directorio de trabajo\n",
    "setwd('CurosCienciasDatos/01 - Mineria de datos/BasesDatos/')\n",
    "\n",
    "# Abrimos la conexión y leemos el archivo\n",
    "con <- file(\"Base_dificil_leer.txt\", open=\"r\") \n",
    "\n",
    "# leemos el contenido del archivo\n",
    "documento <- readLines(con)\n",
    "\n",
    "# Cerrar conección\n",
    "close(con)\n",
    "\n",
    "library(stringr)\n",
    "\n",
    "\n",
    "\n",
    "mes <- vector() \n",
    "anio <- vector()\n",
    "contador.tablas <- 0\n",
    "df <- data.frame(matrix(ncol = 3, nrow = 0))\n",
    "\n",
    "for (linea in 1:length(documento)) {\n",
    "  \n",
    "  if (str_detect(pattern = \"[a-zA-Z]+.[[:digit:]]+\", documento[linea])) {\n",
    "    mes <- append(mes, unlist(str_extract_all(documento[linea], \"[[:alpha:]]+\")))\n",
    "    anio <- append(anio, unlist(str_extract_all(documento[linea], \"[[:digit:]]+\")))\n",
    "    contador.tablas = contador.tablas + 1\n",
    "  }\n",
    "  if (str_detect(pattern = \"[a-zA-Z]+,\", documento[linea])) {\n",
    "    titulos <- strsplit(x = documento[linea], split = \",\")\n",
    "  }\n",
    "  if (str_detect(pattern = \"[[:digit:]]+,\", documento[linea])) {\n",
    "    data <- strsplit(x = documento[linea], split = \",\")\n",
    "    data <- data[[1]]\n",
    "    data[2] <- paste(anio[contador.tablas], mes[contador.tablas], data[2])\n",
    "    colnames(df) <- titulos[[1]]\n",
    "    df <- rbind(df, data)  \n",
    "  }\n",
    "  \n",
    "}\n",
    "\n",
    "df$dia <- as.Date(df$dia , format = \"%Y %B %d\")\n"
   ]
  }
 ],
 "metadata": {
  "kernelspec": {
   "display_name": "Python 3",
   "language": "python",
   "name": "python3"
  },
  "language_info": {
   "codemirror_mode": {
    "name": "ipython",
    "version": 3
   },
   "file_extension": ".py",
   "mimetype": "text/x-python",
   "name": "python",
   "nbconvert_exporter": "python",
   "pygments_lexer": "ipython3",
   "version": "3.7.6"
  }
 },
 "nbformat": 4,
 "nbformat_minor": 4
}
