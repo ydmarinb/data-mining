{
 "cells": [
  {
   "cell_type": "markdown",
   "metadata": {},
   "source": [
    "# Medidad númericas"
   ]
  },
  {
   "cell_type": "code",
   "execution_count": 1,
   "metadata": {},
   "outputs": [],
   "source": [
    "import os\n",
    "import numpy as np\n",
    "import pandas as pd\n",
    "import seaborn as sns\n",
    "import matplotlib.pyplot as plt\n",
    "import re\n",
    "# Cambiamos el directorio local a donde tenemos nuestras bases de datos\n",
    "os.chdir('BasesDatos/')"
   ]
  },
  {
   "cell_type": "code",
   "execution_count": 11,
   "metadata": {},
   "outputs": [],
   "source": [
    "# Cargar la base de datos con la que se va a trabajar\n",
    "df_ventas = pd.read_excel('ventas.xlsx')"
   ]
  },
  {
   "cell_type": "code",
   "execution_count": 12,
   "metadata": {
    "scrolled": true
   },
   "outputs": [
    {
     "data": {
      "text/html": [
       "<div>\n",
       "<style scoped>\n",
       "    .dataframe tbody tr th:only-of-type {\n",
       "        vertical-align: middle;\n",
       "    }\n",
       "\n",
       "    .dataframe tbody tr th {\n",
       "        vertical-align: top;\n",
       "    }\n",
       "\n",
       "    .dataframe thead th {\n",
       "        text-align: right;\n",
       "    }\n",
       "</style>\n",
       "<table border=\"1\" class=\"dataframe\">\n",
       "  <thead>\n",
       "    <tr style=\"text-align: right;\">\n",
       "      <th></th>\n",
       "      <th>NoFactura</th>\n",
       "      <th>Producto</th>\n",
       "      <th>Cantidad</th>\n",
       "      <th>FechaFactura</th>\n",
       "      <th>PrecioUnidad</th>\n",
       "      <th>Pais</th>\n",
       "    </tr>\n",
       "  </thead>\n",
       "  <tbody>\n",
       "    <tr>\n",
       "      <th>0</th>\n",
       "      <td>536365</td>\n",
       "      <td>WHITE HANGING HEART T-LIGHT HOLDER</td>\n",
       "      <td>6</td>\n",
       "      <td>2010-01-12 08:26:00</td>\n",
       "      <td>2.55</td>\n",
       "      <td>United Kingdom</td>\n",
       "    </tr>\n",
       "    <tr>\n",
       "      <th>1</th>\n",
       "      <td>536365</td>\n",
       "      <td>WHITE METAL LANTERN</td>\n",
       "      <td>6</td>\n",
       "      <td>2010-01-12 08:26:00</td>\n",
       "      <td>3.39</td>\n",
       "      <td>United Kingdom</td>\n",
       "    </tr>\n",
       "    <tr>\n",
       "      <th>2</th>\n",
       "      <td>536365</td>\n",
       "      <td>CREAM CUPID HEARTS COAT HANGER</td>\n",
       "      <td>8</td>\n",
       "      <td>2010-01-12 08:26:00</td>\n",
       "      <td>2.75</td>\n",
       "      <td>United Kingdom</td>\n",
       "    </tr>\n",
       "    <tr>\n",
       "      <th>3</th>\n",
       "      <td>536365</td>\n",
       "      <td>KNITTED UNION FLAG HOT WATER BOTTLE</td>\n",
       "      <td>6</td>\n",
       "      <td>2010-01-12 08:26:00</td>\n",
       "      <td>3.39</td>\n",
       "      <td>United Kingdom</td>\n",
       "    </tr>\n",
       "    <tr>\n",
       "      <th>4</th>\n",
       "      <td>536365</td>\n",
       "      <td>RED WOOLLY HOTTIE WHITE HEART.</td>\n",
       "      <td>6</td>\n",
       "      <td>2010-01-12 08:26:00</td>\n",
       "      <td>3.39</td>\n",
       "      <td>United Kingdom</td>\n",
       "    </tr>\n",
       "  </tbody>\n",
       "</table>\n",
       "</div>"
      ],
      "text/plain": [
       "  NoFactura                             Producto  Cantidad  \\\n",
       "0    536365   WHITE HANGING HEART T-LIGHT HOLDER         6   \n",
       "1    536365                  WHITE METAL LANTERN         6   \n",
       "2    536365       CREAM CUPID HEARTS COAT HANGER         8   \n",
       "3    536365  KNITTED UNION FLAG HOT WATER BOTTLE         6   \n",
       "4    536365       RED WOOLLY HOTTIE WHITE HEART.         6   \n",
       "\n",
       "          FechaFactura  PrecioUnidad            Pais  \n",
       "0  2010-01-12 08:26:00          2.55  United Kingdom  \n",
       "1  2010-01-12 08:26:00          3.39  United Kingdom  \n",
       "2  2010-01-12 08:26:00          2.75  United Kingdom  \n",
       "3  2010-01-12 08:26:00          3.39  United Kingdom  \n",
       "4  2010-01-12 08:26:00          3.39  United Kingdom  "
      ]
     },
     "execution_count": 12,
     "metadata": {},
     "output_type": "execute_result"
    }
   ],
   "source": [
    "df_ventas.head()"
   ]
  },
  {
   "cell_type": "markdown",
   "metadata": {},
   "source": [
    "# Limpieza basica de la base de datos"
   ]
  },
  {
   "cell_type": "code",
   "execution_count": 13,
   "metadata": {
    "scrolled": true
   },
   "outputs": [
    {
     "data": {
      "text/html": [
       "<div>\n",
       "<style scoped>\n",
       "    .dataframe tbody tr th:only-of-type {\n",
       "        vertical-align: middle;\n",
       "    }\n",
       "\n",
       "    .dataframe tbody tr th {\n",
       "        vertical-align: top;\n",
       "    }\n",
       "\n",
       "    .dataframe thead th {\n",
       "        text-align: right;\n",
       "    }\n",
       "</style>\n",
       "<table border=\"1\" class=\"dataframe\">\n",
       "  <thead>\n",
       "    <tr style=\"text-align: right;\">\n",
       "      <th></th>\n",
       "      <th>Cantidad</th>\n",
       "      <th>PrecioUnidad</th>\n",
       "    </tr>\n",
       "  </thead>\n",
       "  <tbody>\n",
       "    <tr>\n",
       "      <th>count</th>\n",
       "      <td>250803.000000</td>\n",
       "      <td>250803.000000</td>\n",
       "    </tr>\n",
       "    <tr>\n",
       "      <th>mean</th>\n",
       "      <td>9.316336</td>\n",
       "      <td>5.071779</td>\n",
       "    </tr>\n",
       "    <tr>\n",
       "      <th>std</th>\n",
       "      <td>218.373883</td>\n",
       "      <td>117.428308</td>\n",
       "    </tr>\n",
       "    <tr>\n",
       "      <th>min</th>\n",
       "      <td>-74215.000000</td>\n",
       "      <td>0.000000</td>\n",
       "    </tr>\n",
       "    <tr>\n",
       "      <th>25%</th>\n",
       "      <td>1.000000</td>\n",
       "      <td>1.250000</td>\n",
       "    </tr>\n",
       "    <tr>\n",
       "      <th>50%</th>\n",
       "      <td>3.000000</td>\n",
       "      <td>2.100000</td>\n",
       "    </tr>\n",
       "    <tr>\n",
       "      <th>75%</th>\n",
       "      <td>10.000000</td>\n",
       "      <td>4.150000</td>\n",
       "    </tr>\n",
       "    <tr>\n",
       "      <th>max</th>\n",
       "      <td>74215.000000</td>\n",
       "      <td>38970.000000</td>\n",
       "    </tr>\n",
       "  </tbody>\n",
       "</table>\n",
       "</div>"
      ],
      "text/plain": [
       "            Cantidad   PrecioUnidad\n",
       "count  250803.000000  250803.000000\n",
       "mean        9.316336       5.071779\n",
       "std       218.373883     117.428308\n",
       "min    -74215.000000       0.000000\n",
       "25%         1.000000       1.250000\n",
       "50%         3.000000       2.100000\n",
       "75%        10.000000       4.150000\n",
       "max     74215.000000   38970.000000"
      ]
     },
     "execution_count": 13,
     "metadata": {},
     "output_type": "execute_result"
    }
   ],
   "source": [
    "# Descriptiva basica de las variables numericas\n",
    "df_ventas.describe()"
   ]
  },
  {
   "cell_type": "code",
   "execution_count": 14,
   "metadata": {
    "scrolled": true
   },
   "outputs": [
    {
     "data": {
      "text/plain": [
       "NoFactura        object\n",
       "Producto         object\n",
       "Cantidad          int64\n",
       "FechaFactura     object\n",
       "PrecioUnidad    float64\n",
       "Pais             object\n",
       "dtype: object"
      ]
     },
     "execution_count": 14,
     "metadata": {},
     "output_type": "execute_result"
    }
   ],
   "source": [
    "# Conocer el tipo de variables de la base de datos\n",
    "df_ventas.dtypes"
   ]
  },
  {
   "cell_type": "code",
   "execution_count": 15,
   "metadata": {},
   "outputs": [],
   "source": [
    "\n",
    "df_ventas.Cantidad = np.where(df_ventas.Cantidad<=0, 0, df_ventas.Cantidad)"
   ]
  },
  {
   "cell_type": "code",
   "execution_count": 16,
   "metadata": {},
   "outputs": [],
   "source": [
    "df_ventas = df_ventas.fillna(0)"
   ]
  },
  {
   "cell_type": "markdown",
   "metadata": {},
   "source": [
    "## Media datos no agrupados\n",
    "\n",
    "Se debe usar cuando las distribución de los datos es simetrica y no presenta valores extremos.\n",
    "\n",
    "$$\\bar{X}=\\frac{\\sum_{i=1}^nX_i}{n} \\ i= 1, 2, 3, \\dots, n$$"
   ]
  },
  {
   "cell_type": "code",
   "execution_count": 17,
   "metadata": {},
   "outputs": [
    {
     "data": {
      "text/plain": [
       "10.298792279199212"
      ]
     },
     "execution_count": 17,
     "metadata": {},
     "output_type": "execute_result"
    }
   ],
   "source": [
    "# Conocer el promedio columns ventas\n",
    "df_ventas.Cantidad.mean()"
   ]
  },
  {
   "cell_type": "code",
   "execution_count": 18,
   "metadata": {},
   "outputs": [],
   "source": [
    "tabla_barras = pd.DataFrame(df_ventas.Cantidad.value_counts()).reset_index()"
   ]
  },
  {
   "cell_type": "code",
   "execution_count": 19,
   "metadata": {
    "scrolled": true
   },
   "outputs": [
    {
     "data": {
      "image/png": "[encoded data removed]",
      "text/plain": [
       "<Figure size 432x288 with 1 Axes>"
      ]
     },
     "metadata": {},
     "output_type": "display_data"
    }
   ],
   "source": [
    "# Seleccionar estilo de grafico ggplot\n",
    "plt.style.use('ggplot')\n",
    "\n",
    "\n",
    "\n",
    "# Contruir un histograma\n",
    "plt.bar(range(tabla_barras.shape[0]),tabla_barras.Cantidad, color='r')\n",
    "\n",
    "# poner nombre al eje Y\n",
    "plt.ylabel('Frecuencia')\n",
    "\n",
    "# Poner titulo a la grafica\n",
    "plt.title('Histograma del total precio de la unidad')\n",
    "\n",
    "# Etiquetas de barras\n",
    "plt.xticks(range(tabla_barras.shape[0]), tabla_barras['index'], rotation=60)\n",
    "\n",
    "\n",
    "# Mostrar el grafico\n",
    "plt.show()"
   ]
  },
  {
   "cell_type": "code",
   "execution_count": 20,
   "metadata": {},
   "outputs": [],
   "source": [
    "tabla_barras = tabla_barras[(tabla_barras['index'] < 10)]"
   ]
  },
  {
   "cell_type": "code",
   "execution_count": 22,
   "metadata": {
    "scrolled": true
   },
   "outputs": [
    {
     "data": {
      "image/png": "[encoded data removed]",
      "text/plain": [
       "<Figure size 432x288 with 1 Axes>"
      ]
     },
     "metadata": {},
     "output_type": "display_data"
    }
   ],
   "source": [
    "# Seleccionar estilo de grafico ggplot\n",
    "plt.style.use('ggplot')\n",
    "\n",
    "# Contruir un histograma\n",
    "plt.bar(range(tabla_barras.shape[0]),tabla_barras.Cantidad, color='r')\n",
    "\n",
    "# poner nombre al eje Y\n",
    "plt.ylabel('Frecuencia')\n",
    "\n",
    "# Poner titulo a la grafica\n",
    "plt.title('Histograma del total precio de la unidad')\n",
    "\n",
    "# Etiquetas de barras\n",
    "plt.xticks(range(tabla_barras.shape[0]), tabla_barras['index'], rotation=60)\n",
    "\n",
    "\n",
    "# Mostrar el grafico\n",
    "plt.show()"
   ]
  },
  {
   "cell_type": "markdown",
   "metadata": {},
   "source": [
    "<div class=\"alert alert-info\">\n",
    "El valor promedio de la variable cantidad es <strong>10.3</strong> por lo que se espera que los valores de esta variable se agrupen alrededor de 10.3. Sin embargo como la distribución no es simétrica este valor no representa en gran medida el conjunto de datos.\n",
    "<div>"
   ]
  },
  {
   "cell_type": "markdown",
   "metadata": {},
   "source": [
    "## Media datos  agrupados\n",
    "\n",
    "Se debe usar cuando las distribución de los datos es simetrica y no presenta valores extremos.\n",
    "\n",
    "$$\\bar{X}=\\frac{\\sum_{i=1}^nf_iX_i}{n} \\ i= 1, 2, 3, \\dots, n$$"
   ]
  },
  {
   "cell_type": "code",
   "execution_count": 23,
   "metadata": {},
   "outputs": [],
   "source": [
    "def tablas_clases(df, columna, cabecera=True, k = 'default'):\n",
    "    from math import ceil\n",
    "    minimo = df[str(columna)].min()\n",
    "    maximo = df[str(columna)].max() + 1 \n",
    "    rango = maximo - minimo\n",
    "    \n",
    "    if k == 'default':\n",
    "        k = ceil(1 + 3.333 * np.log10(df.shape[0]))\n",
    "\n",
    "\n",
    "    amplitud = rango / k\n",
    "\n",
    "    valor = minimo\n",
    "    lista = [minimo]\n",
    "    for _ in range(k):\n",
    "        valor += amplitud\n",
    "        lista.append(round(valor, 0))\n",
    "\n",
    "    conteo = 0 \n",
    "    diccionario = {}\n",
    "    lista_x = []\n",
    "    for i in range(len(lista)-1):\n",
    "        for j in df[str(columna)]: \n",
    "            if lista[i] <= j and j < lista[i+1]:\n",
    "                conteo += 1\n",
    "            diccionario['['+str(lista[i])+', '+str(lista[i+1])+')'] = [conteo]\n",
    "        conteo = 0\n",
    "        lista_x.append(lista[i] + ((lista[i+1]-lista[i])/2))\n",
    "\n",
    "\n",
    "\n",
    "    tabla_frecuencia = pd.DataFrame(diccionario).T\n",
    "\n",
    "    tabla_frecuencia.columns = ['Frecuencia']\n",
    "\n",
    "    # Contruimos la columna de frecuencia relativa\n",
    "    tabla_frecuencia['Frecuencia_relativa'] = tabla_frecuencia.Frecuencia / tabla_frecuencia.Frecuencia.sum() \n",
    "\n",
    "    # Frecuencia relativa acumulada\n",
    "    fr = []\n",
    "    suma = 0\n",
    "    for i in tabla_frecuencia.Frecuencia_relativa:\n",
    "        suma += i\n",
    "        fr.append(suma)\n",
    "    tabla_frecuencia['Frecuencia relativa acumulada'] = fr\n",
    "  \n",
    "    # Contruimos la variable porcentaje\n",
    "    tabla_frecuencia['Porcentaje'] = tabla_frecuencia.Frecuencia_relativa.apply(lambda x: str(round(x * 100, 2)) + \"%\")\n",
    "\n",
    "    \n",
    "    # centro de clase\n",
    "    tabla_frecuencia['xi'] = lista_x\n",
    "    #print(lista_x)\n",
    "    \n",
    "    if cabecera:\n",
    "        salida = tabla_frecuencia.head()\n",
    "    else:\n",
    "        salida = tabla_frecuencia\n",
    "    \n",
    "    # Imprimir dimensiones \n",
    "    print('Las dimensiones de la tabla es: ', tabla_frecuencia.shape)\n",
    "    \n",
    "    return salida"
   ]
  },
  {
   "cell_type": "code",
   "execution_count": 33,
   "metadata": {},
   "outputs": [
    {
     "name": "stdout",
     "output_type": "stream",
     "text": [
      "Las dimensiones de la tabla es:  (40, 5)\n"
     ]
    }
   ],
   "source": [
    "df_cantidad = tablas_clases(df_ventas, 'Cantidad', cabecera=False, k = 40)"
   ]
  },
  {
   "cell_type": "code",
   "execution_count": 34,
   "metadata": {
    "scrolled": true
   },
   "outputs": [
    {
     "data": {
      "text/html": [
       "<div>\n",
       "<style scoped>\n",
       "    .dataframe tbody tr th:only-of-type {\n",
       "        vertical-align: middle;\n",
       "    }\n",
       "\n",
       "    .dataframe tbody tr th {\n",
       "        vertical-align: top;\n",
       "    }\n",
       "\n",
       "    .dataframe thead th {\n",
       "        text-align: right;\n",
       "    }\n",
       "</style>\n",
       "<table border=\"1\" class=\"dataframe\">\n",
       "  <thead>\n",
       "    <tr style=\"text-align: right;\">\n",
       "      <th></th>\n",
       "      <th>Frecuencia</th>\n",
       "      <th>Frecuencia_relativa</th>\n",
       "      <th>Frecuencia relativa acumulada</th>\n",
       "      <th>Porcentaje</th>\n",
       "      <th>xi</th>\n",
       "    </tr>\n",
       "  </thead>\n",
       "  <tbody>\n",
       "    <tr>\n",
       "      <th>[0, 1855.0)</th>\n",
       "      <td>250782</td>\n",
       "      <td>0.999916</td>\n",
       "      <td>0.999916</td>\n",
       "      <td>99.99%</td>\n",
       "      <td>927.5</td>\n",
       "    </tr>\n",
       "    <tr>\n",
       "      <th>[1855.0, 3711.0)</th>\n",
       "      <td>16</td>\n",
       "      <td>0.000064</td>\n",
       "      <td>0.999980</td>\n",
       "      <td>0.01%</td>\n",
       "      <td>2783.0</td>\n",
       "    </tr>\n",
       "    <tr>\n",
       "      <th>[3711.0, 5566.0)</th>\n",
       "      <td>3</td>\n",
       "      <td>0.000012</td>\n",
       "      <td>0.999992</td>\n",
       "      <td>0.0%</td>\n",
       "      <td>4638.5</td>\n",
       "    </tr>\n",
       "    <tr>\n",
       "      <th>[5566.0, 7422.0)</th>\n",
       "      <td>1</td>\n",
       "      <td>0.000004</td>\n",
       "      <td>0.999996</td>\n",
       "      <td>0.0%</td>\n",
       "      <td>6494.0</td>\n",
       "    </tr>\n",
       "    <tr>\n",
       "      <th>[7422.0, 9277.0)</th>\n",
       "      <td>0</td>\n",
       "      <td>0.000000</td>\n",
       "      <td>0.999996</td>\n",
       "      <td>0.0%</td>\n",
       "      <td>8349.5</td>\n",
       "    </tr>\n",
       "    <tr>\n",
       "      <th>[9277.0, 11132.0)</th>\n",
       "      <td>0</td>\n",
       "      <td>0.000000</td>\n",
       "      <td>0.999996</td>\n",
       "      <td>0.0%</td>\n",
       "      <td>10204.5</td>\n",
       "    </tr>\n",
       "    <tr>\n",
       "      <th>[11132.0, 12988.0)</th>\n",
       "      <td>0</td>\n",
       "      <td>0.000000</td>\n",
       "      <td>0.999996</td>\n",
       "      <td>0.0%</td>\n",
       "      <td>12060.0</td>\n",
       "    </tr>\n",
       "    <tr>\n",
       "      <th>[12988.0, 14843.0)</th>\n",
       "      <td>0</td>\n",
       "      <td>0.000000</td>\n",
       "      <td>0.999996</td>\n",
       "      <td>0.0%</td>\n",
       "      <td>13915.5</td>\n",
       "    </tr>\n",
       "    <tr>\n",
       "      <th>[14843.0, 16699.0)</th>\n",
       "      <td>0</td>\n",
       "      <td>0.000000</td>\n",
       "      <td>0.999996</td>\n",
       "      <td>0.0%</td>\n",
       "      <td>15771.0</td>\n",
       "    </tr>\n",
       "    <tr>\n",
       "      <th>[16699.0, 18554.0)</th>\n",
       "      <td>0</td>\n",
       "      <td>0.000000</td>\n",
       "      <td>0.999996</td>\n",
       "      <td>0.0%</td>\n",
       "      <td>17626.5</td>\n",
       "    </tr>\n",
       "    <tr>\n",
       "      <th>[18554.0, 20409.0)</th>\n",
       "      <td>0</td>\n",
       "      <td>0.000000</td>\n",
       "      <td>0.999996</td>\n",
       "      <td>0.0%</td>\n",
       "      <td>19481.5</td>\n",
       "    </tr>\n",
       "    <tr>\n",
       "      <th>[20409.0, 22265.0)</th>\n",
       "      <td>0</td>\n",
       "      <td>0.000000</td>\n",
       "      <td>0.999996</td>\n",
       "      <td>0.0%</td>\n",
       "      <td>21337.0</td>\n",
       "    </tr>\n",
       "    <tr>\n",
       "      <th>[22265.0, 24120.0)</th>\n",
       "      <td>0</td>\n",
       "      <td>0.000000</td>\n",
       "      <td>0.999996</td>\n",
       "      <td>0.0%</td>\n",
       "      <td>23192.5</td>\n",
       "    </tr>\n",
       "    <tr>\n",
       "      <th>[24120.0, 25976.0)</th>\n",
       "      <td>0</td>\n",
       "      <td>0.000000</td>\n",
       "      <td>0.999996</td>\n",
       "      <td>0.0%</td>\n",
       "      <td>25048.0</td>\n",
       "    </tr>\n",
       "    <tr>\n",
       "      <th>[25976.0, 27831.0)</th>\n",
       "      <td>0</td>\n",
       "      <td>0.000000</td>\n",
       "      <td>0.999996</td>\n",
       "      <td>0.0%</td>\n",
       "      <td>26903.5</td>\n",
       "    </tr>\n",
       "    <tr>\n",
       "      <th>[27831.0, 29686.0)</th>\n",
       "      <td>0</td>\n",
       "      <td>0.000000</td>\n",
       "      <td>0.999996</td>\n",
       "      <td>0.0%</td>\n",
       "      <td>28758.5</td>\n",
       "    </tr>\n",
       "    <tr>\n",
       "      <th>[29686.0, 31542.0)</th>\n",
       "      <td>0</td>\n",
       "      <td>0.000000</td>\n",
       "      <td>0.999996</td>\n",
       "      <td>0.0%</td>\n",
       "      <td>30614.0</td>\n",
       "    </tr>\n",
       "    <tr>\n",
       "      <th>[31542.0, 33397.0)</th>\n",
       "      <td>0</td>\n",
       "      <td>0.000000</td>\n",
       "      <td>0.999996</td>\n",
       "      <td>0.0%</td>\n",
       "      <td>32469.5</td>\n",
       "    </tr>\n",
       "    <tr>\n",
       "      <th>[33397.0, 35253.0)</th>\n",
       "      <td>0</td>\n",
       "      <td>0.000000</td>\n",
       "      <td>0.999996</td>\n",
       "      <td>0.0%</td>\n",
       "      <td>34325.0</td>\n",
       "    </tr>\n",
       "    <tr>\n",
       "      <th>[35253.0, 37108.0)</th>\n",
       "      <td>0</td>\n",
       "      <td>0.000000</td>\n",
       "      <td>0.999996</td>\n",
       "      <td>0.0%</td>\n",
       "      <td>36180.5</td>\n",
       "    </tr>\n",
       "    <tr>\n",
       "      <th>[37108.0, 38963.0)</th>\n",
       "      <td>0</td>\n",
       "      <td>0.000000</td>\n",
       "      <td>0.999996</td>\n",
       "      <td>0.0%</td>\n",
       "      <td>38035.5</td>\n",
       "    </tr>\n",
       "    <tr>\n",
       "      <th>[38963.0, 40819.0)</th>\n",
       "      <td>0</td>\n",
       "      <td>0.000000</td>\n",
       "      <td>0.999996</td>\n",
       "      <td>0.0%</td>\n",
       "      <td>39891.0</td>\n",
       "    </tr>\n",
       "    <tr>\n",
       "      <th>[40819.0, 42674.0)</th>\n",
       "      <td>0</td>\n",
       "      <td>0.000000</td>\n",
       "      <td>0.999996</td>\n",
       "      <td>0.0%</td>\n",
       "      <td>41746.5</td>\n",
       "    </tr>\n",
       "    <tr>\n",
       "      <th>[42674.0, 44530.0)</th>\n",
       "      <td>0</td>\n",
       "      <td>0.000000</td>\n",
       "      <td>0.999996</td>\n",
       "      <td>0.0%</td>\n",
       "      <td>43602.0</td>\n",
       "    </tr>\n",
       "    <tr>\n",
       "      <th>[44530.0, 46385.0)</th>\n",
       "      <td>0</td>\n",
       "      <td>0.000000</td>\n",
       "      <td>0.999996</td>\n",
       "      <td>0.0%</td>\n",
       "      <td>45457.5</td>\n",
       "    </tr>\n",
       "    <tr>\n",
       "      <th>[46385.0, 48240.0)</th>\n",
       "      <td>0</td>\n",
       "      <td>0.000000</td>\n",
       "      <td>0.999996</td>\n",
       "      <td>0.0%</td>\n",
       "      <td>47312.5</td>\n",
       "    </tr>\n",
       "    <tr>\n",
       "      <th>[48240.0, 50096.0)</th>\n",
       "      <td>0</td>\n",
       "      <td>0.000000</td>\n",
       "      <td>0.999996</td>\n",
       "      <td>0.0%</td>\n",
       "      <td>49168.0</td>\n",
       "    </tr>\n",
       "    <tr>\n",
       "      <th>[50096.0, 51951.0)</th>\n",
       "      <td>0</td>\n",
       "      <td>0.000000</td>\n",
       "      <td>0.999996</td>\n",
       "      <td>0.0%</td>\n",
       "      <td>51023.5</td>\n",
       "    </tr>\n",
       "    <tr>\n",
       "      <th>[51951.0, 53807.0)</th>\n",
       "      <td>0</td>\n",
       "      <td>0.000000</td>\n",
       "      <td>0.999996</td>\n",
       "      <td>0.0%</td>\n",
       "      <td>52879.0</td>\n",
       "    </tr>\n",
       "    <tr>\n",
       "      <th>[53807.0, 55662.0)</th>\n",
       "      <td>0</td>\n",
       "      <td>0.000000</td>\n",
       "      <td>0.999996</td>\n",
       "      <td>0.0%</td>\n",
       "      <td>54734.5</td>\n",
       "    </tr>\n",
       "    <tr>\n",
       "      <th>[55662.0, 57517.0)</th>\n",
       "      <td>0</td>\n",
       "      <td>0.000000</td>\n",
       "      <td>0.999996</td>\n",
       "      <td>0.0%</td>\n",
       "      <td>56589.5</td>\n",
       "    </tr>\n",
       "    <tr>\n",
       "      <th>[57517.0, 59373.0)</th>\n",
       "      <td>0</td>\n",
       "      <td>0.000000</td>\n",
       "      <td>0.999996</td>\n",
       "      <td>0.0%</td>\n",
       "      <td>58445.0</td>\n",
       "    </tr>\n",
       "    <tr>\n",
       "      <th>[59373.0, 61228.0)</th>\n",
       "      <td>0</td>\n",
       "      <td>0.000000</td>\n",
       "      <td>0.999996</td>\n",
       "      <td>0.0%</td>\n",
       "      <td>60300.5</td>\n",
       "    </tr>\n",
       "    <tr>\n",
       "      <th>[61228.0, 63084.0)</th>\n",
       "      <td>0</td>\n",
       "      <td>0.000000</td>\n",
       "      <td>0.999996</td>\n",
       "      <td>0.0%</td>\n",
       "      <td>62156.0</td>\n",
       "    </tr>\n",
       "    <tr>\n",
       "      <th>[63084.0, 64939.0)</th>\n",
       "      <td>0</td>\n",
       "      <td>0.000000</td>\n",
       "      <td>0.999996</td>\n",
       "      <td>0.0%</td>\n",
       "      <td>64011.5</td>\n",
       "    </tr>\n",
       "    <tr>\n",
       "      <th>[64939.0, 66794.0)</th>\n",
       "      <td>0</td>\n",
       "      <td>0.000000</td>\n",
       "      <td>0.999996</td>\n",
       "      <td>0.0%</td>\n",
       "      <td>65866.5</td>\n",
       "    </tr>\n",
       "    <tr>\n",
       "      <th>[66794.0, 68650.0)</th>\n",
       "      <td>0</td>\n",
       "      <td>0.000000</td>\n",
       "      <td>0.999996</td>\n",
       "      <td>0.0%</td>\n",
       "      <td>67722.0</td>\n",
       "    </tr>\n",
       "    <tr>\n",
       "      <th>[68650.0, 70505.0)</th>\n",
       "      <td>0</td>\n",
       "      <td>0.000000</td>\n",
       "      <td>0.999996</td>\n",
       "      <td>0.0%</td>\n",
       "      <td>69577.5</td>\n",
       "    </tr>\n",
       "    <tr>\n",
       "      <th>[70505.0, 72361.0)</th>\n",
       "      <td>0</td>\n",
       "      <td>0.000000</td>\n",
       "      <td>0.999996</td>\n",
       "      <td>0.0%</td>\n",
       "      <td>71433.0</td>\n",
       "    </tr>\n",
       "    <tr>\n",
       "      <th>[72361.0, 74216.0)</th>\n",
       "      <td>1</td>\n",
       "      <td>0.000004</td>\n",
       "      <td>1.000000</td>\n",
       "      <td>0.0%</td>\n",
       "      <td>73288.5</td>\n",
       "    </tr>\n",
       "  </tbody>\n",
       "</table>\n",
       "</div>"
      ],
      "text/plain": [
       "                    Frecuencia  Frecuencia_relativa  \\\n",
       "[0, 1855.0)             250782             0.999916   \n",
       "[1855.0, 3711.0)            16             0.000064   \n",
       "[3711.0, 5566.0)             3             0.000012   \n",
       "[5566.0, 7422.0)             1             0.000004   \n",
       "[7422.0, 9277.0)             0             0.000000   \n",
       "[9277.0, 11132.0)            0             0.000000   \n",
       "[11132.0, 12988.0)           0             0.000000   \n",
       "[12988.0, 14843.0)           0             0.000000   \n",
       "[14843.0, 16699.0)           0             0.000000   \n",
       "[16699.0, 18554.0)           0             0.000000   \n",
       "[18554.0, 20409.0)           0             0.000000   \n",
       "[20409.0, 22265.0)           0             0.000000   \n",
       "[22265.0, 24120.0)           0             0.000000   \n",
       "[24120.0, 25976.0)           0             0.000000   \n",
       "[25976.0, 27831.0)           0             0.000000   \n",
       "[27831.0, 29686.0)           0             0.000000   \n",
       "[29686.0, 31542.0)           0             0.000000   \n",
       "[31542.0, 33397.0)           0             0.000000   \n",
       "[33397.0, 35253.0)           0             0.000000   \n",
       "[35253.0, 37108.0)           0             0.000000   \n",
       "[37108.0, 38963.0)           0             0.000000   \n",
       "[38963.0, 40819.0)           0             0.000000   \n",
       "[40819.0, 42674.0)           0             0.000000   \n",
       "[42674.0, 44530.0)           0             0.000000   \n",
       "[44530.0, 46385.0)           0             0.000000   \n",
       "[46385.0, 48240.0)           0             0.000000   \n",
       "[48240.0, 50096.0)           0             0.000000   \n",
       "[50096.0, 51951.0)           0             0.000000   \n",
       "[51951.0, 53807.0)           0             0.000000   \n",
       "[53807.0, 55662.0)           0             0.000000   \n",
       "[55662.0, 57517.0)           0             0.000000   \n",
       "[57517.0, 59373.0)           0             0.000000   \n",
       "[59373.0, 61228.0)           0             0.000000   \n",
       "[61228.0, 63084.0)           0             0.000000   \n",
       "[63084.0, 64939.0)           0             0.000000   \n",
       "[64939.0, 66794.0)           0             0.000000   \n",
       "[66794.0, 68650.0)           0             0.000000   \n",
       "[68650.0, 70505.0)           0             0.000000   \n",
       "[70505.0, 72361.0)           0             0.000000   \n",
       "[72361.0, 74216.0)           1             0.000004   \n",
       "\n",
       "                    Frecuencia relativa acumulada Porcentaje       xi  \n",
       "[0, 1855.0)                              0.999916     99.99%    927.5  \n",
       "[1855.0, 3711.0)                         0.999980      0.01%   2783.0  \n",
       "[3711.0, 5566.0)                         0.999992       0.0%   4638.5  \n",
       "[5566.0, 7422.0)                         0.999996       0.0%   6494.0  \n",
       "[7422.0, 9277.0)                         0.999996       0.0%   8349.5  \n",
       "[9277.0, 11132.0)                        0.999996       0.0%  10204.5  \n",
       "[11132.0, 12988.0)                       0.999996       0.0%  12060.0  \n",
       "[12988.0, 14843.0)                       0.999996       0.0%  13915.5  \n",
       "[14843.0, 16699.0)                       0.999996       0.0%  15771.0  \n",
       "[16699.0, 18554.0)                       0.999996       0.0%  17626.5  \n",
       "[18554.0, 20409.0)                       0.999996       0.0%  19481.5  \n",
       "[20409.0, 22265.0)                       0.999996       0.0%  21337.0  \n",
       "[22265.0, 24120.0)                       0.999996       0.0%  23192.5  \n",
       "[24120.0, 25976.0)                       0.999996       0.0%  25048.0  \n",
       "[25976.0, 27831.0)                       0.999996       0.0%  26903.5  \n",
       "[27831.0, 29686.0)                       0.999996       0.0%  28758.5  \n",
       "[29686.0, 31542.0)                       0.999996       0.0%  30614.0  \n",
       "[31542.0, 33397.0)                       0.999996       0.0%  32469.5  \n",
       "[33397.0, 35253.0)                       0.999996       0.0%  34325.0  \n",
       "[35253.0, 37108.0)                       0.999996       0.0%  36180.5  \n",
       "[37108.0, 38963.0)                       0.999996       0.0%  38035.5  \n",
       "[38963.0, 40819.0)                       0.999996       0.0%  39891.0  \n",
       "[40819.0, 42674.0)                       0.999996       0.0%  41746.5  \n",
       "[42674.0, 44530.0)                       0.999996       0.0%  43602.0  \n",
       "[44530.0, 46385.0)                       0.999996       0.0%  45457.5  \n",
       "[46385.0, 48240.0)                       0.999996       0.0%  47312.5  \n",
       "[48240.0, 50096.0)                       0.999996       0.0%  49168.0  \n",
       "[50096.0, 51951.0)                       0.999996       0.0%  51023.5  \n",
       "[51951.0, 53807.0)                       0.999996       0.0%  52879.0  \n",
       "[53807.0, 55662.0)                       0.999996       0.0%  54734.5  \n",
       "[55662.0, 57517.0)                       0.999996       0.0%  56589.5  \n",
       "[57517.0, 59373.0)                       0.999996       0.0%  58445.0  \n",
       "[59373.0, 61228.0)                       0.999996       0.0%  60300.5  \n",
       "[61228.0, 63084.0)                       0.999996       0.0%  62156.0  \n",
       "[63084.0, 64939.0)                       0.999996       0.0%  64011.5  \n",
       "[64939.0, 66794.0)                       0.999996       0.0%  65866.5  \n",
       "[66794.0, 68650.0)                       0.999996       0.0%  67722.0  \n",
       "[68650.0, 70505.0)                       0.999996       0.0%  69577.5  \n",
       "[70505.0, 72361.0)                       0.999996       0.0%  71433.0  \n",
       "[72361.0, 74216.0)                       1.000000       0.0%  73288.5  "
      ]
     },
     "execution_count": 34,
     "metadata": {},
     "output_type": "execute_result"
    }
   ],
   "source": [
    "df_cantidad"
   ]
  },
  {
   "cell_type": "code",
   "execution_count": 35,
   "metadata": {},
   "outputs": [
    {
     "data": {
      "image/png": "[encoded data removed]",
      "text/plain": [
       "<Figure size 432x288 with 1 Axes>"
      ]
     },
     "metadata": {},
     "output_type": "display_data"
    }
   ],
   "source": [
    "plt.bar(range(df_cantidad.shape[0]), df_cantidad.Frecuencia, edgecolor='black')\n",
    "plt.xticks(range(df_cantidad.shape[0]), df_cantidad.index.tolist(), rotation=60)\n",
    "plt.show()"
   ]
  },
  {
   "cell_type": "code",
   "execution_count": 17,
   "metadata": {},
   "outputs": [],
   "source": [
    "df_cantidad['producto'] = df_cantidad.Frecuencia * df_cantidad.xi"
   ]
  },
  {
   "cell_type": "code",
   "execution_count": 18,
   "metadata": {},
   "outputs": [
    {
     "data": {
      "text/plain": [
       "1953.3426354549188"
      ]
     },
     "execution_count": 18,
     "metadata": {},
     "output_type": "execute_result"
    }
   ],
   "source": [
    "df_cantidad.producto.sum() / df_cantidad.Frecuencia.sum()"
   ]
  },
  {
   "cell_type": "markdown",
   "metadata": {},
   "source": [
    "\n",
    "<div class=\"alert alert-info\">\n",
    "El valor promedio de la variable cantidad en clases agrupadas es <strong>27993.4</strong> por lo que se espera que los valores de esta variable se agrupen alrededor de este valor.\n",
    "<div>"
   ]
  },
  {
   "cell_type": "markdown",
   "metadata": {},
   "source": [
    "## Moda datos no agrupados"
   ]
  },
  {
   "cell_type": "markdown",
   "metadata": {},
   "source": [
    "Es el valor mas frecuente"
   ]
  },
  {
   "cell_type": "code",
   "execution_count": 19,
   "metadata": {},
   "outputs": [],
   "source": [
    "tabla_barras = pd.DataFrame(df_ventas.Cantidad.value_counts()).reset_index()"
   ]
  },
  {
   "cell_type": "code",
   "execution_count": 20,
   "metadata": {},
   "outputs": [],
   "source": [
    "def moda(df, variable):\n",
    "    tabla = pd.DataFrame(df[str(variable)].value_counts())\n",
    "    return (tabla.sort_values('Cantidad', ascending=False).reset_index().iloc[0,:])['index']"
   ]
  },
  {
   "cell_type": "code",
   "execution_count": 21,
   "metadata": {},
   "outputs": [
    {
     "data": {
      "text/plain": [
       "1"
      ]
     },
     "execution_count": 21,
     "metadata": {},
     "output_type": "execute_result"
    }
   ],
   "source": [
    "moda(df_ventas, 'Cantidad')"
   ]
  },
  {
   "cell_type": "markdown",
   "metadata": {},
   "source": [
    "## Percentiles datos no agrupados\n",
    "\n",
    "El percentil, es un valor de la población que separa una porción del resto. Se representa como $X_p$ donde p es la proporción de la población que queremos separar.\n",
    "\n",
    "Primero se debe ordenar la problación de menor a mayor.\n",
    "\n",
    "Calculamos el $X_p$ de la siguiente forma(n = tamaño de la población)\n",
    "\n",
    "* Si $np$ es natural  $X_p =\\frac{ X_{(np)} + x_{(np+1)}}{2}$\n",
    "* Si $np$ no es natural $X_{([[np]] +1)}$"
   ]
  },
  {
   "cell_type": "code",
   "execution_count": 23,
   "metadata": {},
   "outputs": [],
   "source": [
    "def percentil(porcentaje, df, columna):\n",
    "    p = porcentaje\n",
    "    n = len(df[str(columna)]) \n",
    "    df = pd.DataFrame(df[str(columna)].sort_values(ascending=True))\n",
    "    if (n * p) is int:\n",
    "        Xp = int(df.iloc[n*p -1,:]) +int(df.iloc[n*p,:])/2\n",
    "    else:\n",
    "        Xp = int(df.iloc[int(n*p),:])\n",
    "    \n",
    "    return Xp    \n",
    "\n"
   ]
  },
  {
   "cell_type": "code",
   "execution_count": 24,
   "metadata": {},
   "outputs": [
    {
     "data": {
      "text/plain": [
       "3"
      ]
     },
     "execution_count": 24,
     "metadata": {},
     "output_type": "execute_result"
    }
   ],
   "source": [
    "percentil(0.5, df_ventas, 'Cantidad')"
   ]
  },
  {
   "cell_type": "markdown",
   "metadata": {},
   "source": [
    "## Variaza  datos no agrupados\n",
    "\n",
    "Cuantifica la variabilidad existente entre la información  con respecto a la media.\n",
    "\n",
    "* $$S^2=\\frac{\\sum_{i=1}^n(X_i-\\bar{X})^2}{n-1}$$\n",
    "\n",
    "<br>\n",
    "\n",
    "* $$DM = \\sqrt(\\frac{\\sum_{i=1}^n(X_i - Xm)^2}{n-1})$$"
   ]
  },
  {
   "cell_type": "code",
   "execution_count": 25,
   "metadata": {},
   "outputs": [
    {
     "data": {
      "text/plain": [
       "23766.48358905079"
      ]
     },
     "execution_count": 25,
     "metadata": {},
     "output_type": "execute_result"
    }
   ],
   "source": [
    "df_ventas.Cantidad.var()"
   ]
  },
  {
   "cell_type": "code",
   "execution_count": 26,
   "metadata": {},
   "outputs": [
    {
     "data": {
      "text/plain": [
       "23818.661196237685"
      ]
     },
     "execution_count": 26,
     "metadata": {},
     "output_type": "execute_result"
    }
   ],
   "source": [
    "varianza = 0\n",
    "m = df_ventas.Cantidad.quantile(0.5)\n",
    "n = len(df_ventas.Cantidad)\n",
    "for v in df_ventas.Cantidad:\n",
    "    dm = (v - m)**2 \n",
    "    varianza += dm \n",
    "varianza / n-1"
   ]
  },
  {
   "cell_type": "markdown",
   "metadata": {},
   "source": [
    "## El rango intercuarticulo \n",
    "\n",
    "Diferentes entre el percentil 75 y el 25. Mide la disperción del 50% mas central por lo que es ideal para varianzaciones en distribuciones sesgadas."
   ]
  },
  {
   "cell_type": "code",
   "execution_count": 27,
   "metadata": {},
   "outputs": [
    {
     "data": {
      "text/plain": [
       "9.0"
      ]
     },
     "execution_count": 27,
     "metadata": {},
     "output_type": "execute_result"
    }
   ],
   "source": [
    "RI = df_ventas.Cantidad.quantile(0.75) - df_ventas.Cantidad.quantile(0.25)\n",
    "RI"
   ]
  },
  {
   "cell_type": "markdown",
   "metadata": {},
   "source": [
    "## Coeficiente de variación en datos no agrupados\n",
    "\n",
    "\n",
    "$$C.V= \\frac{S}{X}$$ Se usa para comparar variabilidad de dos o más conjunto de datos."
   ]
  },
  {
   "cell_type": "code",
   "execution_count": 28,
   "metadata": {},
   "outputs": [
    {
     "data": {
      "text/plain": [
       "14.96911642098783"
      ]
     },
     "execution_count": 28,
     "metadata": {},
     "output_type": "execute_result"
    }
   ],
   "source": [
    "CV = np.sqrt(df_ventas.Cantidad.var()) / df_ventas.Cantidad.mean()\n",
    "CV"
   ]
  },
  {
   "cell_type": "markdown",
   "metadata": {},
   "source": [
    "## Percentiles en datos agrupados\n",
    "\n",
    "La idea es contruir un **Histograma de Frecuencias relativas Acumuladas** el cual computa la frecuencia relativa acumulada para cada rango de clase. Este grafico consolida  un  grafico continuo formado por lineas rectas, por lo que para determinar el valor de $P_x$ donde $x$ es el porcentaje de interes.\n",
    "\n",
    " $$y = mx + b$$\n",
    " \n",
    " $$m = \\frac{y2-y1}{x2-x1}$$\n",
    "\n",
    "$$y - y_0 = m(x-x_0)$$\n",
    "\n",
    "$$y-y_0=mx-m*x_0$$\n",
    "\n",
    "$$x = \\frac{(y-yo)+ x_0*m}{m}$$\n",
    "\n",
    "Reescribiendo la formula\n",
    "\n",
    "$$X_p = L + \\frac{(p-a)* h}{f}$$\n",
    "\n",
    "\n",
    "Donde:\n",
    "* $L:$ Límite inferior de la clase que contiene al percentil.\n",
    "* $f:$ Frecuencia relativa del intervalo que contiene el percentil.\n",
    "* $a:$ Frecuencia relativa acumulada del intervalo anterior al que contiene el percentil.\n",
    "* $h:$ Longitud del intervalo que contiene al percentil.\n",
    "* $p:$ Proporción sociada al percentil.\n",
    "\n",
    "Si se quiere determinar cual intervalo contiene al percentil , miramos cual intervalo tiene una frecuencia relativa acumulada igual o superior a $p$."
   ]
  },
  {
   "cell_type": "code",
   "execution_count": 42,
   "metadata": {},
   "outputs": [
    {
     "name": "stdout",
     "output_type": "stream",
     "text": [
      "Las dimensiones de la tabla es:  (19, 5)\n"
     ]
    }
   ],
   "source": [
    "df_cantidad = tablas_clases(df_ventas[df_ventas['Cantidad']< 164], 'Cantidad', cabecera=False)"
   ]
  },
  {
   "cell_type": "code",
   "execution_count": 43,
   "metadata": {},
   "outputs": [
    {
     "data": {
      "text/html": [
       "<div>\n",
       "<style scoped>\n",
       "    .dataframe tbody tr th:only-of-type {\n",
       "        vertical-align: middle;\n",
       "    }\n",
       "\n",
       "    .dataframe tbody tr th {\n",
       "        vertical-align: top;\n",
       "    }\n",
       "\n",
       "    .dataframe thead th {\n",
       "        text-align: right;\n",
       "    }\n",
       "</style>\n",
       "<table border=\"1\" class=\"dataframe\">\n",
       "  <thead>\n",
       "    <tr style=\"text-align: right;\">\n",
       "      <th></th>\n",
       "      <th>Frecuencia</th>\n",
       "      <th>Frecuencia_relativa</th>\n",
       "      <th>Frecuencia relativa acumulada</th>\n",
       "      <th>Porcentaje</th>\n",
       "      <th>xi</th>\n",
       "    </tr>\n",
       "  </thead>\n",
       "  <tbody>\n",
       "    <tr>\n",
       "      <th>[0, 9.0)</th>\n",
       "      <td>181030</td>\n",
       "      <td>0.725251</td>\n",
       "      <td>0.725251</td>\n",
       "      <td>72.53%</td>\n",
       "      <td>4.5</td>\n",
       "    </tr>\n",
       "    <tr>\n",
       "      <th>[9.0, 17.0)</th>\n",
       "      <td>41419</td>\n",
       "      <td>0.165935</td>\n",
       "      <td>0.891186</td>\n",
       "      <td>16.59%</td>\n",
       "      <td>13.0</td>\n",
       "    </tr>\n",
       "    <tr>\n",
       "      <th>[17.0, 26.0)</th>\n",
       "      <td>15933</td>\n",
       "      <td>0.063832</td>\n",
       "      <td>0.955018</td>\n",
       "      <td>6.38%</td>\n",
       "      <td>21.5</td>\n",
       "    </tr>\n",
       "    <tr>\n",
       "      <th>[26.0, 35.0)</th>\n",
       "      <td>1420</td>\n",
       "      <td>0.005689</td>\n",
       "      <td>0.960707</td>\n",
       "      <td>0.57%</td>\n",
       "      <td>30.5</td>\n",
       "    </tr>\n",
       "    <tr>\n",
       "      <th>[35.0, 43.0)</th>\n",
       "      <td>2156</td>\n",
       "      <td>0.008637</td>\n",
       "      <td>0.969344</td>\n",
       "      <td>0.86%</td>\n",
       "      <td>39.0</td>\n",
       "    </tr>\n",
       "  </tbody>\n",
       "</table>\n",
       "</div>"
      ],
      "text/plain": [
       "              Frecuencia  Frecuencia_relativa  Frecuencia relativa acumulada  \\\n",
       "[0, 9.0)          181030             0.725251                       0.725251   \n",
       "[9.0, 17.0)        41419             0.165935                       0.891186   \n",
       "[17.0, 26.0)       15933             0.063832                       0.955018   \n",
       "[26.0, 35.0)        1420             0.005689                       0.960707   \n",
       "[35.0, 43.0)        2156             0.008637                       0.969344   \n",
       "\n",
       "             Porcentaje    xi  \n",
       "[0, 9.0)         72.53%   4.5  \n",
       "[9.0, 17.0)      16.59%  13.0  \n",
       "[17.0, 26.0)      6.38%  21.5  \n",
       "[26.0, 35.0)      0.57%  30.5  \n",
       "[35.0, 43.0)      0.86%  39.0  "
      ]
     },
     "execution_count": 43,
     "metadata": {},
     "output_type": "execute_result"
    }
   ],
   "source": [
    "df_cantidad.head()"
   ]
  },
  {
   "cell_type": "code",
   "execution_count": 123,
   "metadata": {},
   "outputs": [],
   "source": [
    "def percentil_agrupado(p, tabla_agrupada):\n",
    "   \n",
    "    # Frecuencia relativa intervalo anterior\n",
    "    dimension = tabla_agrupada[tabla_agrupada['Frecuencia relativa acumulada'] < p].shape\n",
    "    dimension = dimension[0]-1\n",
    "    if dimension < 0:\n",
    "        dimension = 0\n",
    "    a = df_cantidad.iloc[dimension].iloc[2]\n",
    "    # Intervalo con frecuencua relatica mayor o igual a p\n",
    "    intervalo = tabla_agrupada[tabla_agrupada['Frecuencia relativa acumulada'] >= p].iloc[0]\n",
    "\n",
    "    # Extraer rango\n",
    "    rango = intervalo.reset_index().columns[1]\n",
    "    rango = re.sub(\"\\[|\\)\", \"\", rango)\n",
    "    lista_rango = rango.split(',')\n",
    "    lista_rango = [float(e) for e in lista_rango]\n",
    "\n",
    "    L = lista_rango[0]\n",
    "\n",
    "    f = intervalo[1]\n",
    "\n",
    "    h = lista_rango[1] - lista_rango[0]\n",
    "\n",
    "    Xp = L + ((p-a) * h) / f\n",
    "    \n",
    "    Xp = abs(Xp) \n",
    "    \n",
    "    return Xp"
   ]
  },
  {
   "cell_type": "code",
   "execution_count": 124,
   "metadata": {},
   "outputs": [
    {
     "data": {
      "text/plain": [
       "2.7952549301220797"
      ]
     },
     "execution_count": 124,
     "metadata": {},
     "output_type": "execute_result"
    }
   ],
   "source": [
    "percentil_agrupado(0.5, df_cantidad)"
   ]
  },
  {
   "cell_type": "code",
   "execution_count": 126,
   "metadata": {},
   "outputs": [
    {
     "data": {
      "text/html": [
       "<div>\n",
       "<style scoped>\n",
       "    .dataframe tbody tr th:only-of-type {\n",
       "        vertical-align: middle;\n",
       "    }\n",
       "\n",
       "    .dataframe tbody tr th {\n",
       "        vertical-align: top;\n",
       "    }\n",
       "\n",
       "    .dataframe thead th {\n",
       "        text-align: right;\n",
       "    }\n",
       "</style>\n",
       "<table border=\"1\" class=\"dataframe\">\n",
       "  <thead>\n",
       "    <tr style=\"text-align: right;\">\n",
       "      <th></th>\n",
       "      <th>Frecuencia</th>\n",
       "      <th>Frecuencia_relativa</th>\n",
       "      <th>Frecuencia relativa acumulada</th>\n",
       "      <th>Porcentaje</th>\n",
       "      <th>xi</th>\n",
       "    </tr>\n",
       "  </thead>\n",
       "  <tbody>\n",
       "    <tr>\n",
       "      <th>[0, 9.0)</th>\n",
       "      <td>181030</td>\n",
       "      <td>0.725251</td>\n",
       "      <td>0.725251</td>\n",
       "      <td>72.53%</td>\n",
       "      <td>4.5</td>\n",
       "    </tr>\n",
       "    <tr>\n",
       "      <th>[9.0, 17.0)</th>\n",
       "      <td>41419</td>\n",
       "      <td>0.165935</td>\n",
       "      <td>0.891186</td>\n",
       "      <td>16.59%</td>\n",
       "      <td>13.0</td>\n",
       "    </tr>\n",
       "    <tr>\n",
       "      <th>[17.0, 26.0)</th>\n",
       "      <td>15933</td>\n",
       "      <td>0.063832</td>\n",
       "      <td>0.955018</td>\n",
       "      <td>6.38%</td>\n",
       "      <td>21.5</td>\n",
       "    </tr>\n",
       "    <tr>\n",
       "      <th>[26.0, 35.0)</th>\n",
       "      <td>1420</td>\n",
       "      <td>0.005689</td>\n",
       "      <td>0.960707</td>\n",
       "      <td>0.57%</td>\n",
       "      <td>30.5</td>\n",
       "    </tr>\n",
       "    <tr>\n",
       "      <th>[35.0, 43.0)</th>\n",
       "      <td>2156</td>\n",
       "      <td>0.008637</td>\n",
       "      <td>0.969344</td>\n",
       "      <td>0.86%</td>\n",
       "      <td>39.0</td>\n",
       "    </tr>\n",
       "  </tbody>\n",
       "</table>\n",
       "</div>"
      ],
      "text/plain": [
       "              Frecuencia  Frecuencia_relativa  Frecuencia relativa acumulada  \\\n",
       "[0, 9.0)          181030             0.725251                       0.725251   \n",
       "[9.0, 17.0)        41419             0.165935                       0.891186   \n",
       "[17.0, 26.0)       15933             0.063832                       0.955018   \n",
       "[26.0, 35.0)        1420             0.005689                       0.960707   \n",
       "[35.0, 43.0)        2156             0.008637                       0.969344   \n",
       "\n",
       "             Porcentaje    xi  \n",
       "[0, 9.0)         72.53%   4.5  \n",
       "[9.0, 17.0)      16.59%  13.0  \n",
       "[17.0, 26.0)      6.38%  21.5  \n",
       "[26.0, 35.0)      0.57%  30.5  \n",
       "[35.0, 43.0)      0.86%  39.0  "
      ]
     },
     "execution_count": 126,
     "metadata": {},
     "output_type": "execute_result"
    }
   ],
   "source": [
    "df_cantidad.head()"
   ]
  },
  {
   "cell_type": "markdown",
   "metadata": {},
   "source": [
    "# Varianza en datos agrupados \n",
    "\n",
    "$$S_a^2 = \\frac{\\sum_{i=1}^k (m_i - \\bar{X}_{a})^2 * f_i}{n-1}$$"
   ]
  },
  {
   "cell_type": "code",
   "execution_count": 144,
   "metadata": {},
   "outputs": [],
   "source": [
    "def varianza_agrupada(tabla_agrupada):\n",
    "    media = np.sum(tabla_agrupada.xi * tabla_agrupada.Frecuencia)/tabla_agrupada.Frecuencia.sum()\n",
    "    n = 0\n",
    "    s = 0\n",
    "    for r in range(tabla_agrupada.shape[0]):\n",
    "        m = tabla_agrupada.iloc[r, 4]\n",
    "        f = tabla_agrupada.iloc[r, 0]\n",
    "        n += f\n",
    "        Si = ((m - media) ** 2 )* f\n",
    "        s += Si\n",
    "    s = s/n\n",
    "    return s"
   ]
  },
  {
   "cell_type": "code",
   "execution_count": 145,
   "metadata": {},
   "outputs": [
    {
     "data": {
      "text/plain": [
       "206.59772052783813"
      ]
     },
     "execution_count": 145,
     "metadata": {},
     "output_type": "execute_result"
    }
   ],
   "source": [
    "varianza_agrupada(df_cantidad)"
   ]
  }
 ],
 "metadata": {
  "kernelspec": {
   "display_name": "Python 3",
   "language": "python",
   "name": "python3"
  },
  "language_info": {
   "codemirror_mode": {
    "name": "ipython",
    "version": 3
   },
   "file_extension": ".py",
   "mimetype": "text/x-python",
   "name": "python",
   "nbconvert_exporter": "python",
   "pygments_lexer": "ipython3",
   "version": "3.7.6"
  }
 },
 "nbformat": 4,
 "nbformat_minor": 4
}
