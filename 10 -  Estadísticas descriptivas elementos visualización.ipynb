{
 "cells": [
  {
   "cell_type": "markdown",
   "metadata": {},
   "source": [
    "# Caracteristicas de un gráfico\n",
    "\n",
    "* Se base en un eje metrico\n",
    "* Que incluya datos.\n",
    "* Que los datos se puedan recuperar a partir de la grafica."
   ]
  },
  {
   "cell_type": "markdown",
   "metadata": {},
   "source": [
    "Las siguientes no son consideradas graficos ya que la interpretabilidad se ve afectada directamente por la perspectiva."
   ]
  },
  {
   "cell_type": "markdown",
   "metadata": {},
   "source": [
    "![](torta1.PNG)"
   ]
  },
  {
   "cell_type": "markdown",
   "metadata": {},
   "source": [
    "![](torta2.PNG)"
   ]
  },
  {
   "cell_type": "markdown",
   "metadata": {},
   "source": [
    "![](barras.jpg)"
   ]
  },
  {
   "cell_type": "markdown",
   "metadata": {},
   "source": [
    "![](torta.png)"
   ]
  },
  {
   "cell_type": "markdown",
   "metadata": {},
   "source": [
    "### Ortografía:\n",
    "\n",
    "* Definición de las magnitudes representadas.\n",
    "* Adecuación del tipo de gráfico a la estructura de los datos disponibles.\n",
    "*  Existencia de ejes y escalas (u otras referencias) que permitan la relación de los elementos gráficos con los datos originales.\n",
    "* Leyendas u otros elementos identificativos de las series (en caso de\n",
    "haber más de una).\n",
    "\n"
   ]
  },
  {
   "cell_type": "markdown",
   "metadata": {},
   "source": [
    "* Ejes correctamente númerados\n",
    "* El cero siempre incluido como referencia"
   ]
  },
  {
   "cell_type": "markdown",
   "metadata": {},
   "source": [
    "![](serieCategoria.png)"
   ]
  },
  {
   "cell_type": "markdown",
   "metadata": {},
   "source": [
    "![](histograma.png)"
   ]
  },
  {
   "cell_type": "markdown",
   "metadata": {},
   "source": [
    "### sintaxis\n",
    "* Tamaños de los ejes y elección de las escalas.\n",
    "* Tamaño total de la gráfica.\n",
    "* Proporción entre el área gráfica y el total ocupado por la representa-\n",
    "ción.\n",
    "* Trazos, puntos y colores legibles, identificables...\n",
    "\n"
   ]
  },
  {
   "cell_type": "markdown",
   "metadata": {},
   "source": [
    "* En la misma serie de datos (el sujeto de una oración simple) no se\n",
    "pueden mezclar números que no corresponden a la misma magnitud.\n",
    "* Los ejes deben estar proporcionados\n",
    "* El espacio ocupado (y la tinta consumida) deben ser acordes a la can-\n",
    "tidad de información transmitida.\n",
    "* Hay que tener cuidado de que la composición global resulte correcta\n",
    "(las orientaciones de las letras en los rótulos, las posiciones de los ejes,\n",
    "leyendas, etc.)\n",
    "* Conviene evitar efectos visuales indeseados (franjas de Moiré, ilusio-\n",
    "nes ópticas, etc.)"
   ]
  },
  {
   "cell_type": "markdown",
   "metadata": {},
   "source": [
    "![](serieFea.png)"
   ]
  },
  {
   "cell_type": "markdown",
   "metadata": {},
   "source": [
    "![](barras3D.png)"
   ]
  },
  {
   "cell_type": "markdown",
   "metadata": {},
   "source": [
    "![](plot1.png)"
   ]
  },
  {
   "cell_type": "markdown",
   "metadata": {},
   "source": [
    "![](plot2.png)"
   ]
  },
  {
   "cell_type": "markdown",
   "metadata": {},
   "source": [
    "![](plot3.png)"
   ]
  },
  {
   "cell_type": "markdown",
   "metadata": {},
   "source": [
    "\n",
    "### Semantica\n",
    "\n",
    "Coherencia entre el gráfico y los datos"
   ]
  }
 ],
 "metadata": {
  "kernelspec": {
   "display_name": "Python 3",
   "language": "python",
   "name": "python3"
  },
  "language_info": {
   "codemirror_mode": {
    "name": "ipython",
    "version": 3
   },
   "file_extension": ".py",
   "mimetype": "text/x-python",
   "name": "python",
   "nbconvert_exporter": "python",
   "pygments_lexer": "ipython3",
   "version": "3.7.6"
  }
 },
 "nbformat": 4,
 "nbformat_minor": 4
}
